{
 "cells": [
  {
   "cell_type": "code",
   "execution_count": 3,
   "metadata": {},
   "outputs": [],
   "source": [
    "# So ... each agent also has a type ideally\n",
    "\n",
    "#Thought: with the type, we could set it within the agent itself.\n",
    "#That way only need to pass the type?\n",
    "#\n",
    "#I guess that agents don't have access to the model?"
   ]
  },
  {
   "cell_type": "code",
   "execution_count": 4,
   "metadata": {},
   "outputs": [],
   "source": [
    "# https://stackoverflow.com/questions/19620498/how-to-create-a-utility-class-correctly"
   ]
  },
  {
   "cell_type": "markdown",
   "metadata": {},
   "source": [
    "# Okay... so... \n",
    "We have agents...\n",
    "\n",
    "Suspicious ones\n",
    "Not suspicious ones\n",
    "\n",
    "\n",
    "Transactions should have:\n",
    "\n",
    "\n",
    "We also want to export the network of transactions\n",
    "\n",
    "So... the data we want are... \n",
    "\n",
    "sender - receiver - amount - timestamp\n",
    "\n",
    "parameters:\n",
    "\n",
    "num of agents,\n",
    "avg txn hr -> so at any given point, the likelihood of making a transaction\n",
    "\n",
    "avg txn value\n",
    "distribution of p per agent type \n",
    "starting balance\n",
    "\n",
    "\n"
   ]
  },
  {
   "cell_type": "code",
   "execution_count": 1,
   "metadata": {},
   "outputs": [],
   "source": [
    "# export some... network graphs i guess....\n",
    "# also want to make some classifieirs"
   ]
  },
  {
   "cell_type": "code",
   "execution_count": 2,
   "metadata": {},
   "outputs": [],
   "source": [
    "# Model design\n",
    "import agentpy as ap\n",
    "import numpy as np\n",
    "\n",
    "# Visualization\n",
    "import seaborn as sns\n",
    "import pandas as pd\n",
    "\n",
    "import scipy.stats\n",
    "import datetime\n",
    "import matplotlib.pyplot as plt"
   ]
  },
  {
   "cell_type": "code",
   "execution_count": 3,
   "metadata": {},
   "outputs": [
    {
     "data": {
      "text/plain": [
       "array([-1.03998411])"
      ]
     },
     "execution_count": 3,
     "metadata": {},
     "output_type": "execute_result"
    }
   ],
   "source": [
    "# work\n",
    "rng = np.random.default_rng(42)\n",
    "rng.random()\n",
    "rng.normal(loc=0, scale=1, size=1)"
   ]
  },
  {
   "cell_type": "markdown",
   "metadata": {},
   "source": [
    "# utility functions"
   ]
  },
  {
   "cell_type": "code",
   "execution_count": 28,
   "metadata": {},
   "outputs": [],
   "source": [
    "DEBUG = False\n",
    "\n",
    "def setup_p_txns(total_steps):\n",
    "    # Mean at 0\n",
    "    max_std_devs = 5 # \n",
    "\n",
    "    if DEBUG:\n",
    "        # Note: scipy norm has stddev = 1, mean of 0\n",
    "        # Below shows why we pick max_std_devs = 5\n",
    "        p_txn = scipy.integrate.quad(\n",
    "                scipy.stats.norm.pdf, -5, 5)[0] # quad() Returns: value, error\n",
    "        print('In total we will capture this amount of the gaussian: ', p_txn)\n",
    "    \n",
    "    txn_probabilities = []\n",
    "\n",
    "    std_dev_per_step = 2 * max_std_devs / total_steps\n",
    "\n",
    "    for step in range(total_steps):\n",
    "        p_txn = \\\n",
    "            scipy.integrate.quad(\n",
    "                scipy.stats.norm.pdf, \n",
    "                step * std_dev_per_step, (step+1) * std_dev_per_step\n",
    "            ) # returns: (integration) value, error\n",
    "        txn_probabilities.append(p_txn[0])\n",
    "    if DEBUG:\n",
    "        txn_probabilities[0] = 1 # set p_txn to 1 to always transact\n",
    "        txn_probabilities[-1] = 1\n",
    "        txn_probabilities[1:-1] = 0\n",
    "    return txn_probabilities"
   ]
  },
  {
   "cell_type": "markdown",
   "metadata": {},
   "source": [
    "# agent"
   ]
  },
  {
   "cell_type": "code",
   "execution_count": 192,
   "metadata": {},
   "outputs": [],
   "source": [
    "class BankAgent(ap.Agent):\n",
    "    def setup(self):\n",
    "        self.txn_amt_rng = None \n",
    "        self.txn_probabilities = None \n",
    "        self.type = None \n",
    "        self.acct_balance = None \n",
    "        self.mean_txns = 4\n",
    "\n",
    "        self.txns = pd.DataFrame(\n",
    "                columns=['timestep', 'txn_type', 'sender_id', 'sender_type', \n",
    "                 'receiver_id', 'receiver_type', 'amount', 'acct_balance',] \n",
    "        )\n",
    "        self.txn_amts = None\n",
    "\n",
    "    def setup_txn_amts(self, mean=100, stddev=10, total_steps=0):\n",
    "        self.txn_amts = self.txn_amt_rng.normal(\n",
    "            loc=mean, scale=stddev, \n",
    "            size=total_steps)\n",
    "\n",
    "    def transact(self, timestep):\n",
    "        p_txn = self.txn_probabilities[timestep-1] * self.mean_txns\n",
    "        if np.random.random() < p_txn and self.acct_balance > 0:\n",
    "            # randomly choose partner\n",
    "            partner = self.model.agents.random()\n",
    "            # randomly choose amount\n",
    "            amount = self.txn_amts[timestep]\n",
    "\n",
    "            # calculations\n",
    "            partner.acct_balance += amount\n",
    "            self.acct_balance -= amount\n",
    "\n",
    "            print(\n",
    "                f' Transaction @ step: {timestep} with ptxn: {p_txn:.2f}, '\n",
    "                f'amt: {amount:.2f} from: {self.id}->{partner.id}, '\n",
    "                f'({self.type} to {partner.type}), new balance: {self.acct_balance:.1f}'\n",
    "            )\n",
    "            \n",
    "            # record\n",
    "            my_partner = partner.to_list()[0]\n",
    "\n",
    "            # Note that txn_type is redundant info (e.g. can be derived from +/- of amount)\n",
    "            self.txns.loc[len(self.txns.index)] = [\n",
    "                timestep, 'send', self.id, self.type, my_partner.id, my_partner.type,\n",
    "                -amount, self.acct_balance]\n",
    "\n",
    "            #print('PARTNER TXNS', partner.to_list()[0].txns)\n",
    "            my_partner.txns.loc[len(my_partner.txns.index)] = [\n",
    "                timestep, 'receive', self.id, self.type, my_partner.id, my_partner.type,\n",
    "                amount, my_partner.acct_balance]\n",
    "            #.loc[len(partner.txns.index)] = [\n",
    "            #    timestep, *partner.id, partner.type, self.id, self.type,\n",
    "            #    amount, partner.acct_balance]"
   ]
  },
  {
   "cell_type": "markdown",
   "metadata": {},
   "source": [
    "# parameters"
   ]
  },
  {
   "cell_type": "code",
   "execution_count": 193,
   "metadata": {},
   "outputs": [],
   "source": [
    "        #self.txn_value_rng = p.rng\n",
    "        #self.txn_probabilities = p.txn_probabilities\n",
    "        ##self.p.type = 'default'\n",
    "        #self.type = self.p.type\n",
    "        #self.acct_balance = self.p.init_acct_balance\n",
    "\n",
    "MEAN_TXN_HRS = {'normal':14, \n",
    "                'suspicious':22}\n",
    "MINS_PER_STEP = 15\n",
    "\n",
    "MEAN_TXN_AMOUNTS = {'normal':250, \n",
    "                'suspicious':50}\n",
    "\n",
    "NUM_AGENTS_PER_TYPE = {'normal': 10,\n",
    "    'suspicious': 2\n",
    "}\n",
    "\n",
    "parameters = {\n",
    "    'num_agents_per_type': NUM_AGENTS_PER_TYPE,\n",
    "    'mean_txn_hrs': MEAN_TXN_HRS,\n",
    "    'mean_txn_amounts ': MEAN_TXN_AMOUNTS,\n",
    "    'mean_txns': 4, # avg num txns each agent makes\n",
    "    'starting_balance': 100,\n",
    "    'seed': 42,\n",
    "    'mins_per_step' : MINS_PER_STEP, # 1 hr\n",
    "    'steps': int(24 * (60/MINS_PER_STEP)), # 24 hours * steps per hr\n",
    "}\n",
    "\n",
    "# For plotting\n",
    "def timestep_to_time(timestep):\n",
    "    date_and_time = datetime.datetime(2022, 10, 31, 0, 0, 0)\n",
    "    time_elapsed = timestep * (parameters['mins_per_step'])\n",
    "    time_change = datetime.timedelta(minutes=time_elapsed)\n",
    "    new_time = date_and_time + time_change\n",
    "    return new_time"
   ]
  },
  {
   "cell_type": "code",
   "execution_count": 194,
   "metadata": {},
   "outputs": [
    {
     "data": {
      "text/plain": [
       "dict_values([1, 2])"
      ]
     },
     "execution_count": 194,
     "metadata": {},
     "output_type": "execute_result"
    }
   ],
   "source": [
    "a = {'asdf':1, 'dfg':2}\n",
    "a.values()"
   ]
  },
  {
   "cell_type": "code",
   "execution_count": 195,
   "metadata": {},
   "outputs": [
    {
     "data": {
      "text/plain": [
       "array([774., 439., 859., 697.,  94., 976., 761., 786., 128., 450.])"
      ]
     },
     "execution_count": 195,
     "metadata": {},
     "output_type": "execute_result"
    }
   ],
   "source": [
    "np.random.default_rng(42).random(10).round(3) * 1000"
   ]
  },
  {
   "cell_type": "code",
   "execution_count": 196,
   "metadata": {},
   "outputs": [],
   "source": [
    "class BankModel(ap.Model):\n",
    "    def setup(self):\n",
    "        self.p_txns = setup_p_txns(self.p.steps) \n",
    "        num_agents = sum(self.p.num_agents_per_type.values())\n",
    "        \n",
    "        # Setup up rng to generate seeds for rngs for agents\n",
    "        rng = np.random.default_rng(self.p.seed)\n",
    "        agent_rng_seeds = rng.random(num_agents).round(3) * 1000\n",
    "        agent_rng_seeds = np.array(agent_rng_seeds, dtype=int)\n",
    "\n",
    "        self.agents = ap.AgentList(self) \n",
    "        for type in ['normal', 'suspicious']:\n",
    "\n",
    "            hrs_mean = self.p.mean_txn_hrs[type]\n",
    "            shift = hrs_mean * int(60 / self.p.mins_per_step)\n",
    "            # shift in steps\n",
    "            shifted = np.concatenate(\n",
    "                (self.p_txns[-shift:], self.p_txns[:-shift]))\n",
    "            agents = ap.AgentList(\n",
    "                self, self.p.num_agents_per_type[type], BankAgent)\n",
    "\n",
    "            agents.txn_probabilities = shifted\n",
    "            agents.total_steps = self.p.steps \n",
    "            agents.acct_balance = 100\n",
    "            agents.type = type\n",
    "\n",
    "            self.agents += agents\n",
    "\n",
    "        print('here are all the agetns: ')\n",
    "        print(self.agents)\n",
    "        print([(agent.id,agent.type) for agent in self.agents])\n",
    "\n",
    "        # calcuations for txn values\n",
    "        txn_amt_rngs = ap.AttrIter(\n",
    "            [np.random.default_rng(seed) for seed in agent_rng_seeds])\n",
    "        self.agents.txn_amt_rng = txn_amt_rngs\n",
    "\n",
    "        for agent in self.agents:\n",
    "            agent.setup_txn_amts(\n",
    "                mean=20, stddev=5, total_steps=self.p.steps)\n",
    "                #mean=100, stddev=10, total_steps=self.p.mean_txns * 5)\n",
    "            # TODO: maybe I should make smaller table...? \n",
    "            # b ut then need to index into it, not by timestep\n",
    "            # fundamental issue is ... wanting a same set of rngs for each agent\n",
    "            # but cannot call at each timestep -- would get same value -- so instead pregenerate the values for all timesteps and then index into that\n",
    "            #print(agent.txn_amts)\n",
    "            #print(agent.id)\n",
    "            #print(agent.type)\n",
    "\n",
    "\n",
    "    def step(self):\n",
    "        self.agents.transact(self.t)\n",
    "\n",
    "    def update(self):\n",
    "        #self.record(foo_bar)\n",
    "        total_txns = 0\n",
    "        for agent in self.agents:\n",
    "            total_txns += agent.txns.shape[0]\n",
    "        ('num txns (across all agents)', total_txns)\n",
    "\n",
    "    def end(self):\n",
    "        self.agents.record('txns')"
   ]
  },
  {
   "cell_type": "code",
   "execution_count": 197,
   "metadata": {},
   "outputs": [
    {
     "data": {
      "text/plain": [
       "0.30471707975443135"
      ]
     },
     "execution_count": 197,
     "metadata": {},
     "output_type": "execute_result"
    }
   ],
   "source": [
    "np.random.default_rng(42).normal()"
   ]
  },
  {
   "cell_type": "code",
   "execution_count": 198,
   "metadata": {},
   "outputs": [
    {
     "name": "stdout",
     "output_type": "stream",
     "text": [
      "here are all the agetns: \n",
      "AgentList (12 objects)\n",
      "[(1, 'normal'), (2, 'normal'), (3, 'normal'), (4, 'normal'), (5, 'normal'), (6, 'normal'), (7, 'normal'), (8, 'normal'), (9, 'normal'), (10, 'normal'), (11, 'suspicious'), (12, 'suspicious')]\n",
      "Completed: 56 steps Transaction @ step: 57 with ptxn: 0.17, amt: 23.57 from: 3->[5], (normal to ['normal']), new balance: 76.4\n",
      "Completed: 57 steps Transaction @ step: 58 with ptxn: 0.16, amt: 17.33 from: 10->[4], (normal to ['normal']), new balance: 82.7\n",
      "Completed: 58 steps Transaction @ step: 59 with ptxn: 0.16, amt: 17.80 from: 6->[4], (normal to ['normal']), new balance: 82.2\n",
      "Completed: 59 steps Transaction @ step: 60 with ptxn: 0.16, amt: 20.03 from: 7->[3], (normal to ['normal']), new balance: 80.0\n",
      " Transaction @ step: 60 with ptxn: 0.16, amt: 13.54 from: 8->[12], (normal to ['suspicious']), new balance: 86.5\n",
      " Transaction @ step: 60 with ptxn: 0.16, amt: 21.08 from: 10->[2], (normal to ['normal']), new balance: 61.6\n",
      "Completed: 60 steps Transaction @ step: 61 with ptxn: 0.15, amt: 16.82 from: 1->[11], (normal to ['suspicious']), new balance: 83.2\n",
      " Transaction @ step: 61 with ptxn: 0.15, amt: 27.51 from: 5->[12], (normal to ['suspicious']), new balance: 96.1\n",
      " Transaction @ step: 61 with ptxn: 0.15, amt: 17.62 from: 9->[9], (normal to ['normal']), new balance: 100.0\n",
      "Completed: 61 steps Transaction @ step: 62 with ptxn: 0.14, amt: 19.50 from: 1->[2], (normal to ['normal']), new balance: 63.7\n",
      " Transaction @ step: 62 with ptxn: 0.14, amt: 16.35 from: 8->[10], (normal to ['normal']), new balance: 70.1\n",
      " Transaction @ step: 62 with ptxn: 0.14, amt: 19.78 from: 9->[7], (normal to ['normal']), new balance: 80.2\n",
      " Transaction @ step: 62 with ptxn: 0.14, amt: 17.93 from: 10->[1], (normal to ['normal']), new balance: 60.0\n",
      "Completed: 62 steps Transaction @ step: 63 with ptxn: 0.13, amt: 16.11 from: 1->[1], (normal to ['normal']), new balance: 81.6\n",
      " Transaction @ step: 63 with ptxn: 0.13, amt: 20.17 from: 7->[2], (normal to ['normal']), new balance: 79.6\n",
      "Completed: 63 steps Transaction @ step: 64 with ptxn: 0.12, amt: 14.13 from: 2->[4], (normal to ['normal']), new balance: 146.6\n",
      " Transaction @ step: 64 with ptxn: 0.12, amt: 26.66 from: 5->[4], (normal to ['normal']), new balance: 69.4\n",
      " Transaction @ step: 64 with ptxn: 0.12, amt: 11.01 from: 9->[9], (normal to ['normal']), new balance: 80.2\n",
      "Completed: 64 steps Transaction @ step: 65 with ptxn: 0.11, amt: 13.24 from: 3->[10], (normal to ['normal']), new balance: 83.2\n",
      "Completed: 66 steps Transaction @ step: 67 with ptxn: 0.09, amt: 15.43 from: 3->[1], (normal to ['normal']), new balance: 67.8\n",
      " Transaction @ step: 67 with ptxn: 0.09, amt: 10.10 from: 9->[9], (normal to ['normal']), new balance: 80.2\n",
      "Completed: 68 steps Transaction @ step: 69 with ptxn: 0.07, amt: 20.61 from: 2->[4], (normal to ['normal']), new balance: 126.0\n",
      "Completed: 69 steps Transaction @ step: 70 with ptxn: 0.06, amt: 22.75 from: 6->[12], (normal to ['suspicious']), new balance: 59.5\n",
      "Completed: 70 steps Transaction @ step: 71 with ptxn: 0.05, amt: 24.84 from: 2->[11], (normal to ['suspicious']), new balance: 101.2\n",
      "Completed: 74 steps Transaction @ step: 75 with ptxn: 0.03, amt: 21.34 from: 3->[12], (normal to ['suspicious']), new balance: 46.5\n",
      "Completed: 90 steps Transaction @ step: 91 with ptxn: 0.16, amt: 20.61 from: 12->[9], (suspicious to ['normal']), new balance: 164.5\n",
      "Completed: 91 steps Transaction @ step: 92 with ptxn: 0.16, amt: 16.92 from: 11->[7], (suspicious to ['normal']), new balance: 124.7\n",
      "Completed: 92 steps Transaction @ step: 93 with ptxn: 0.15, amt: 18.99 from: 12->[4], (suspicious to ['normal']), new balance: 145.5\n",
      "Completed: 96 steps\n",
      "Run time: 0:00:00.158666\n",
      "Simulation finished\n"
     ]
    }
   ],
   "source": [
    "model = BankModel(parameters)\n",
    "results = model.run()"
   ]
  },
  {
   "cell_type": "code",
   "execution_count": 190,
   "metadata": {},
   "outputs": [],
   "source": [
    "# For plotting\n",
    "def timestep_to_time(timestep):\n",
    "    date_and_time = datetime.datetime(2022, 10, 31, 0, 0, 0)\n",
    "    time_elapsed = timestep * (parameters['mins_per_step'])\n",
    "    time_change = datetime.timedelta(minutes=time_elapsed)\n",
    "    new_time = date_and_time + time_change\n",
    "    return new_time"
   ]
  },
  {
   "cell_type": "code",
   "execution_count": 199,
   "metadata": {},
   "outputs": [
    {
     "name": "stdout",
     "output_type": "stream",
     "text": [
      "   timestep txn_type  sender_id sender_type  receiver_id receiver_type  \\\n",
      "0        61     send          1      normal           11    suspicious   \n",
      "1        62     send          1      normal            2        normal   \n",
      "2        62  receive         10      normal            1        normal   \n",
      "3        63     send          1      normal            1        normal   \n",
      "4        63  receive          1      normal            1        normal   \n",
      "5        67  receive          3      normal            1        normal   \n",
      "\n",
      "      amount  acct_balance  \n",
      "0 -16.819260     83.180740  \n",
      "1 -19.496012     63.684728  \n",
      "2  17.932182     81.616911  \n",
      "3 -16.109051     81.616911  \n",
      "4  16.109051     81.616911  \n",
      "5  15.427996     97.044907  \n",
      "   timestep txn_type  sender_id sender_type  receiver_id receiver_type  \\\n",
      "0        60  receive         10      normal            2        normal   \n",
      "1        62  receive          1      normal            2        normal   \n",
      "2        63  receive          7      normal            2        normal   \n",
      "3        64     send          2      normal            4        normal   \n",
      "4        69     send          2      normal            4        normal   \n",
      "5        71     send          2      normal           11    suspicious   \n",
      "\n",
      "      amount  acct_balance  \n",
      "0  21.082941    121.082941  \n",
      "1  19.496012    140.578953  \n",
      "2  20.169512    160.748465  \n",
      "3 -14.134239    146.614226  \n",
      "4 -20.613185    126.001041  \n",
      "5 -24.841917    101.159124  \n",
      "   timestep txn_type  sender_id sender_type  receiver_id receiver_type  \\\n",
      "0        57     send          3      normal            5        normal   \n",
      "1        60  receive          7      normal            3        normal   \n",
      "2        65     send          3      normal           10        normal   \n",
      "3        67     send          3      normal            1        normal   \n",
      "4        75     send          3      normal           12    suspicious   \n",
      "\n",
      "      amount  acct_balance  \n",
      "0 -23.569087     76.430913  \n",
      "1  20.028136     96.459049  \n",
      "2 -13.238150     83.220899  \n",
      "3 -15.427996     67.792903  \n",
      "4 -21.337771     46.455132  \n",
      "   timestep txn_type  sender_id sender_type  receiver_id receiver_type  \\\n",
      "0        58  receive         10      normal            4        normal   \n",
      "1        59  receive          6      normal            4        normal   \n",
      "2        64  receive          2      normal            4        normal   \n",
      "3        64  receive          5      normal            4        normal   \n",
      "4        69  receive          2      normal            4        normal   \n",
      "5        93  receive         12  suspicious            4        normal   \n",
      "\n",
      "      amount  acct_balance  \n",
      "0  17.332820    117.332820  \n",
      "1  17.796653    135.129473  \n",
      "2  14.134239    149.263713  \n",
      "3  26.659792    175.923505  \n",
      "4  20.613185    196.536690  \n",
      "5  18.993232    215.529921  \n",
      "   timestep txn_type  sender_id sender_type  receiver_id receiver_type  \\\n",
      "0        57  receive          3      normal            5        normal   \n",
      "1        61     send          5      normal           12    suspicious   \n",
      "2        64     send          5      normal            4        normal   \n",
      "\n",
      "      amount  acct_balance  \n",
      "0  23.569087    123.569087  \n",
      "1 -27.509015     96.060072  \n",
      "2 -26.659792     69.400279  \n",
      "   timestep txn_type  sender_id sender_type  receiver_id receiver_type  \\\n",
      "0        59     send          6      normal            4        normal   \n",
      "1        70     send          6      normal           12    suspicious   \n",
      "\n",
      "      amount  acct_balance  \n",
      "0 -17.796653     82.203347  \n",
      "1 -22.750510     59.452837  \n",
      "   timestep txn_type  sender_id sender_type  receiver_id receiver_type  \\\n",
      "0        60     send          7      normal            3        normal   \n",
      "1        62  receive          9      normal            7        normal   \n",
      "2        63     send          7      normal            2        normal   \n",
      "3        92  receive         11  suspicious            7        normal   \n",
      "\n",
      "      amount  acct_balance  \n",
      "0 -20.028136     79.971864  \n",
      "1  19.776198     99.748062  \n",
      "2 -20.169512     79.578550  \n",
      "3  16.922898     96.501448  \n",
      "   timestep txn_type  sender_id sender_type  receiver_id receiver_type  \\\n",
      "0        60     send          8      normal           12    suspicious   \n",
      "1        62     send          8      normal           10        normal   \n",
      "\n",
      "      amount  acct_balance  \n",
      "0 -13.539556     86.460444  \n",
      "1 -16.350033     70.110411  \n",
      "   timestep txn_type  sender_id sender_type  receiver_id receiver_type  \\\n",
      "0        61     send          9      normal            9        normal   \n",
      "1        61  receive          9      normal            9        normal   \n",
      "2        62     send          9      normal            7        normal   \n",
      "3        64     send          9      normal            9        normal   \n",
      "4        64  receive          9      normal            9        normal   \n",
      "5        67     send          9      normal            9        normal   \n",
      "6        67  receive          9      normal            9        normal   \n",
      "7        91  receive         12  suspicious            9        normal   \n",
      "\n",
      "      amount  acct_balance  \n",
      "0 -17.622374    100.000000  \n",
      "1  17.622374    100.000000  \n",
      "2 -19.776198     80.223802  \n",
      "3 -11.007835     80.223802  \n",
      "4  11.007835     80.223802  \n",
      "5 -10.095709     80.223802  \n",
      "6  10.095709     80.223802  \n",
      "7  20.611526    100.835328  \n",
      "   timestep txn_type  sender_id sender_type  receiver_id receiver_type  \\\n",
      "0        58     send         10      normal            4        normal   \n",
      "1        60     send         10      normal            2        normal   \n",
      "2        62  receive          8      normal           10        normal   \n",
      "3        62     send         10      normal            1        normal   \n",
      "4        65  receive          3      normal           10        normal   \n",
      "\n",
      "      amount  acct_balance  \n",
      "0 -17.332820     82.667180  \n",
      "1 -21.082941     61.584239  \n",
      "2  16.350033     77.934272  \n",
      "3 -17.932182     60.002089  \n",
      "4  13.238150     73.240240  \n",
      "   timestep txn_type  sender_id sender_type  receiver_id receiver_type  \\\n",
      "0        61  receive          1      normal           11    suspicious   \n",
      "1        71  receive          2      normal           11    suspicious   \n",
      "2        92     send         11  suspicious            7        normal   \n",
      "\n",
      "      amount  acct_balance  \n",
      "0  16.819260    116.819260  \n",
      "1  24.841917    141.661177  \n",
      "2 -16.922898    124.738279  \n",
      "   timestep txn_type  sender_id sender_type  receiver_id receiver_type  \\\n",
      "0        60  receive          8      normal           12    suspicious   \n",
      "1        61  receive          5      normal           12    suspicious   \n",
      "2        70  receive          6      normal           12    suspicious   \n",
      "3        75  receive          3      normal           12    suspicious   \n",
      "4        91     send         12  suspicious            9        normal   \n",
      "5        93     send         12  suspicious            4        normal   \n",
      "\n",
      "      amount  acct_balance  \n",
      "0  13.539556    113.539556  \n",
      "1  27.509015    141.048572  \n",
      "2  22.750510    163.799081  \n",
      "3  21.337771    185.136852  \n",
      "4 -20.611526    164.525327  \n",
      "5 -18.993232    145.532095  \n"
     ]
    }
   ],
   "source": [
    "for agent in model.agents:\n",
    "    print(agent.txns)"
   ]
  },
  {
   "cell_type": "code",
   "execution_count": null,
   "metadata": {},
   "outputs": [],
   "source": [
    "# transaction amount, sender, receiver, timestamp"
   ]
  }
 ],
 "metadata": {
  "kernelspec": {
   "display_name": "Python 3.10.5 ('v3')",
   "language": "python",
   "name": "python3"
  },
  "language_info": {
   "codemirror_mode": {
    "name": "ipython",
    "version": 3
   },
   "file_extension": ".py",
   "mimetype": "text/x-python",
   "name": "python",
   "nbconvert_exporter": "python",
   "pygments_lexer": "ipython3",
   "version": "3.10.5"
  },
  "orig_nbformat": 4,
  "vscode": {
   "interpreter": {
    "hash": "7605221d54420214921005f3a3f402d7571e3f80342b3638f6ed8edbc81e4638"
   }
  }
 },
 "nbformat": 4,
 "nbformat_minor": 2
}
