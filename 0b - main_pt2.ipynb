{
 "cells": [
  {
   "cell_type": "code",
   "execution_count": 74,
   "metadata": {},
   "outputs": [],
   "source": [
    "# So ... each agent also has a type ideally\n",
    "\n",
    "#Thought: with the type, we could set it within the agent itself.\n",
    "#That way only need to pass the type?\n",
    "#\n",
    "#I guess that agents don't have access to the model?"
   ]
  },
  {
   "cell_type": "code",
   "execution_count": 75,
   "metadata": {},
   "outputs": [],
   "source": [
    "# https://stackoverflow.com/questions/19620498/how-to-create-a-utility-class-correctly"
   ]
  },
  {
   "cell_type": "markdown",
   "metadata": {},
   "source": [
    "# Okay... so... \n",
    "We have agents...\n",
    "\n",
    "Suspicious ones\n",
    "Not suspicious ones\n",
    "\n",
    "\n",
    "Transactions should have:\n",
    "\n",
    "\n",
    "We also want to export the network of transactions\n",
    "\n",
    "So... the data we want are... \n",
    "\n",
    "sender - receiver - amount - timestamp\n",
    "\n",
    "parameters:\n",
    "\n",
    "num of agents,\n",
    "avg txn hr -> so at any given point, the likelihood of making a transaction\n",
    "\n",
    "avg txn value\n",
    "distribution of p per agent type \n",
    "starting balance\n",
    "\n",
    "\n"
   ]
  },
  {
   "cell_type": "code",
   "execution_count": 76,
   "metadata": {},
   "outputs": [],
   "source": [
    "# export some... network graphs i guess....\n",
    "# also want to make some classifieirs"
   ]
  },
  {
   "cell_type": "code",
   "execution_count": 77,
   "metadata": {},
   "outputs": [],
   "source": [
    "# Model design\n",
    "import agentpy as ap\n",
    "import numpy as np\n",
    "\n",
    "# Visualization\n",
    "import seaborn as sns\n",
    "import pandas as pd\n",
    "\n",
    "import scipy.stats\n",
    "import datetime\n",
    "import matplotlib.pyplot as plt\n",
    "\n",
    "from matplotlib.dates import DateFormatter\n",
    "import matplotlib.dates as mdates"
   ]
  },
  {
   "cell_type": "code",
   "execution_count": 78,
   "metadata": {},
   "outputs": [
    {
     "data": {
      "text/plain": [
       "array([-1.03998411])"
      ]
     },
     "execution_count": 78,
     "metadata": {},
     "output_type": "execute_result"
    }
   ],
   "source": [
    "# work\n",
    "rng = np.random.default_rng(42)\n",
    "rng.random()\n",
    "rng.normal(loc=0, scale=1, size=1)"
   ]
  },
  {
   "cell_type": "markdown",
   "metadata": {},
   "source": [
    "# utility functions"
   ]
  },
  {
   "cell_type": "code",
   "execution_count": 80,
   "metadata": {},
   "outputs": [],
   "source": [
    "DEBUG = False\n",
    "\n",
    "def setup_p_txns(total_steps):\n",
    "    # Mean at 0\n",
    "    max_std_devs = 5 # \n",
    "\n",
    "    if DEBUG:\n",
    "        # Note: scipy norm has stddev = 1, mean of 0\n",
    "        # Below shows why we pick max_std_devs = 5\n",
    "        p_txn = scipy.integrate.quad(\n",
    "                scipy.stats.norm.pdf, -5, 5)[0] # quad() Returns: value, error\n",
    "        print('In total we will capture this amount of the gaussian: ', p_txn)\n",
    "    \n",
    "    txn_probabilities = np.ones(total_steps) * -1\n",
    "\n",
    "    std_dev_per_step = 2 * max_std_devs / total_steps\n",
    "\n",
    "    for step in range(total_steps):\n",
    "        p_txn = \\\n",
    "            scipy.integrate.quad(\n",
    "                scipy.stats.norm.pdf, \n",
    "                step * std_dev_per_step, (step+1) * std_dev_per_step\n",
    "            ) # returns: (integration) value, error\n",
    "        txn_probabilities[step] = p_txn[0]\n",
    "    #txn_probabilities = np.array(txn_probabilities)\n",
    "\n",
    "    if True:\n",
    "        txn_probabilities[0] = 1 # set p_txn to 1 to always transact\n",
    "        txn_probabilities[-1] = 1\n",
    "        txn_probabilities[1:-1] = 0.1\n",
    "\n",
    "    return txn_probabilities"
   ]
  },
  {
   "cell_type": "markdown",
   "metadata": {},
   "source": [
    "# agent"
   ]
  },
  {
   "cell_type": "code",
   "execution_count": 91,
   "metadata": {},
   "outputs": [],
   "source": [
    "class BankAgent(ap.Agent):\n",
    "    def setup(self):\n",
    "        self.txn_amt_rng = None \n",
    "        self.txn_probabilities = None \n",
    "        self.type = None \n",
    "        self.acct_balance = None \n",
    "        self.mean_txns = 4\n",
    "        self.send_txn_times = []\n",
    "\n",
    "        self.txns = None\n",
    "        #self.txns = pd.DataFrame(\n",
    "                #columns=['timestep', 'txn_type', 'sender_id', 'sender_type', \n",
    "                 #'receiver_id', 'receiver_type', 'amount', 'acct_balance',] )\n",
    "        self.txns_list = []\n",
    "        self.txn_amts = None\n",
    "\n",
    "    def setup_txn_amts(self, mean=100, stddev=10, total_steps=0):\n",
    "        self.txn_amts = self.txn_amt_rng.normal(\n",
    "            loc=mean, scale=stddev, \n",
    "            size=total_steps)\n",
    "\n",
    "    def transact(self, timestep):\n",
    "        # time as timestep is same;\n",
    "        # time as index should be subtracted 1\n",
    "        p_txn = self.txn_probabilities[timestep-1] * self.mean_txns\n",
    "\n",
    "        if np.random.random() < p_txn and self.acct_balance > 0:\n",
    "            self.send_txn_times.append(timestep)\n",
    "            # randomly choose partner\n",
    "            my_partner = self.model.agents.random() # we get a list back\n",
    "            my_partner = my_partner.to_list()[0] \n",
    "            # randomly choose amount\n",
    "            amount = self.txn_amts[timestep-1]\n",
    "\n",
    "            # calculations\n",
    "            my_partner.acct_balance += amount\n",
    "            self.acct_balance -= amount\n",
    "\n",
    "            if DEBUG:\n",
    "                print(\n",
    "                    f' Transaction @ step: {timestep} with ptxn: {p_txn:.2f}, '\n",
    "                    f'${amount:.2f} from: {self.id}->{my_partner.id}, '\n",
    "                    f'({self.type} to {my_partner.type}), new balance: {self.acct_balance:.1f}'\n",
    "                )\n",
    "\n",
    "            # Note that txn_type is redundant info (e.g. can be derived from +/- of amount)\n",
    "            #self.txns.loc[len(self.txns.index)]  =  \\\n",
    "            #[ timestep, 'send', self.id, self.type, my_partner.id,\n",
    "            #my_partner.type, -amount, self.acct_balance]\n",
    "            self.txns_list.append([ timestep, 'send', self.id, self.type,\n",
    "                my_partner.id, my_partner.type, -amount, self.acct_balance])\n",
    "\n",
    "            #my_partner.txns.loc[len(my_partner.txns.index)] = [\n",
    "            my_partner.txns_list.append([\n",
    "                timestep, 'receive', self.id, self.type, my_partner.id, my_partner.type,\n",
    "                amount, my_partner.acct_balance])\n",
    "\n",
    "    def cleanup(self):\n",
    "        self.txns = pd.DataFrame(self.txns_list,\n",
    "            columns=['timestep', 'txn_type', 'sender_id', 'sender_type', \n",
    "            'receiver_id', 'receiver_type', 'amount', 'acct_balance',] )"
   ]
  },
  {
   "cell_type": "markdown",
   "metadata": {},
   "source": [
    "# parameters"
   ]
  },
  {
   "cell_type": "code",
   "execution_count": 92,
   "metadata": {},
   "outputs": [],
   "source": [
    "NUM_AGENTS_PER_TYPE = {\n",
    "    'normal': 1000,\n",
    "    'suspicious': 100, \n",
    "}\n",
    "\n",
    "MEAN_TXN_HRS = {'normal':14, \n",
    "                'suspicious':22}\n",
    "\n",
    "MINS_PER_STEP = 15\n",
    "\n",
    "MEAN_TXN_AMOUNTS = {'normal':250, \n",
    "                'suspicious':50}\n",
    "\n",
    "\n",
    "parameters = {\n",
    "    'num_agents_per_type': NUM_AGENTS_PER_TYPE,\n",
    "    'mean_txn_hrs': MEAN_TXN_HRS,\n",
    "    'mean_txn_amounts ': MEAN_TXN_AMOUNTS,\n",
    "    'mean_txns': 4, # avg num txns each agent makes\n",
    "    'starting_balance': 100,\n",
    "    'seed': 42,\n",
    "    'mins_per_step' : MINS_PER_STEP, # 1 hr\n",
    "    'steps': int(24 * (60/MINS_PER_STEP)), # 24 hours * steps per hr\n",
    "}\n",
    "\n",
    "# For plotting\n",
    "def timestep_to_time(timestep):\n",
    "    date_and_time = datetime.datetime(2022, 10, 31, 0, 0, 0)\n",
    "    time_elapsed = timestep * (parameters['mins_per_step'])\n",
    "    time_change = datetime.timedelta(minutes=time_elapsed)\n",
    "    new_time = date_and_time + time_change\n",
    "    return new_time"
   ]
  },
  {
   "cell_type": "markdown",
   "metadata": {},
   "source": [
    "# model"
   ]
  },
  {
   "cell_type": "code",
   "execution_count": 93,
   "metadata": {},
   "outputs": [],
   "source": [
    "class BankModel(ap.Model):\n",
    "    def setup(self):\n",
    "        self.p_txns = setup_p_txns(self.p.steps) \n",
    "        num_agents = sum(self.p.num_agents_per_type.values())\n",
    "        \n",
    "        # Setup up rng to generate seeds for rngs for agents\n",
    "        rng = np.random.default_rng(self.p.seed)\n",
    "        agent_rng_seeds = rng.random(num_agents).round(3) * 1000\n",
    "        agent_rng_seeds = np.array(agent_rng_seeds, dtype=int)\n",
    "\n",
    "        self.agents = ap.AgentList(self) \n",
    "        for type in ['normal', 'suspicious']:\n",
    "\n",
    "            hrs_mean = self.p.mean_txn_hrs[type]\n",
    "            shift = hrs_mean * int(60 / self.p.mins_per_step)\n",
    "            # shift in steps\n",
    "            shifted = np.concatenate(\n",
    "                (self.p_txns[-shift:], self.p_txns[:-shift]))\n",
    "            agents = ap.AgentList(\n",
    "                self, self.p.num_agents_per_type[type], BankAgent)\n",
    "\n",
    "            agents.txn_probabilities = shifted\n",
    "            agents.total_steps = self.p.steps \n",
    "            agents.acct_balance = 100\n",
    "            agents.type = type\n",
    "\n",
    "            self.agents += agents\n",
    "\n",
    "        if DEBUG:\n",
    "            print('here are all the agetns: ')\n",
    "            print(self.agents)\n",
    "            print([(agent.id,agent.type) for agent in self.agents])\n",
    "\n",
    "        # calcuations for txn values\n",
    "        txn_amt_rngs = ap.AttrIter(\n",
    "            [np.random.default_rng(seed) for seed in agent_rng_seeds])\n",
    "        self.agents.txn_amt_rng = txn_amt_rngs\n",
    "\n",
    "        for agent in self.agents:\n",
    "            agent.setup_txn_amts(\n",
    "                mean=20, stddev=5, total_steps=self.p.steps)\n",
    "                #mean=20, stddev=5, total_steps=self.p.mean_txns * 5)\n",
    "            # TODO: maybe I should make smaller table...? \n",
    "            # but then need to index into it, not by timestep\n",
    "            # fundamental issue is ... wanting a same set of rngs for each agent\n",
    "            # but cannot call at each timestep -- would get same value -- so instead pregenerate the values for all timesteps and then index into that\n",
    "            #print(agent.txn_amts)\n",
    "            #print(agent.id)\n",
    "            #print(agent.type)\n",
    "\n",
    "    def step(self):\n",
    "        self.agents.transact(self.t)\n",
    "\n",
    "    def update(self):\n",
    "        pass\n",
    "        '''\n",
    "        if DEBUG:\n",
    "            total_txns = 0\n",
    "            for agent in self.agents:\n",
    "                num_txns = agent.txns[agent.txns.txn_type == 'send'].shape[0]\n",
    "                total_txns += num_txns\n",
    "            print('num txns (across all agents)', total_txns)\n",
    "        '''\n",
    "\n",
    "    def end(self):\n",
    "        self.agents.record('send_txn_times')\n",
    "        \n",
    "        for agent in self.agents:\n",
    "            agent.cleanup()"
   ]
  },
  {
   "cell_type": "code",
   "execution_count": 94,
   "metadata": {},
   "outputs": [
    {
     "data": {
      "text/plain": [
       "0.30471707975443135"
      ]
     },
     "execution_count": 94,
     "metadata": {},
     "output_type": "execute_result"
    }
   ],
   "source": [
    "np.random.default_rng(42).normal()"
   ]
  },
  {
   "cell_type": "markdown",
   "metadata": {},
   "source": [
    "# run"
   ]
  },
  {
   "cell_type": "code",
   "execution_count": 95,
   "metadata": {},
   "outputs": [
    {
     "name": "stdout",
     "output_type": "stream",
     "text": [
      "Completed: 96 steps\n",
      "Run time: 0:00:00.095345\n",
      "Simulation finished\n"
     ]
    }
   ],
   "source": [
    "model = BankModel(parameters)\n",
    "results = model.run()"
   ]
  },
  {
   "cell_type": "markdown",
   "metadata": {},
   "source": [
    "# Plot"
   ]
  },
  {
   "cell_type": "code",
   "execution_count": 96,
   "metadata": {},
   "outputs": [],
   "source": [
    "# For plotting\n",
    "def timestep_to_time(timestep):\n",
    "    date_and_time = datetime.datetime(2022, 10, 31, 0, 0, 0)\n",
    "    time_elapsed = timestep * (parameters['mins_per_step'])\n",
    "    time_change = datetime.timedelta(minutes=time_elapsed)\n",
    "    new_time = date_and_time + time_change\n",
    "    return new_time"
   ]
  },
  {
   "cell_type": "code",
   "execution_count": 99,
   "metadata": {},
   "outputs": [
    {
     "data": {
      "text/html": [
       "<div>\n",
       "<style scoped>\n",
       "    .dataframe tbody tr th:only-of-type {\n",
       "        vertical-align: middle;\n",
       "    }\n",
       "\n",
       "    .dataframe tbody tr th {\n",
       "        vertical-align: top;\n",
       "    }\n",
       "\n",
       "    .dataframe thead th {\n",
       "        text-align: right;\n",
       "    }\n",
       "</style>\n",
       "<table border=\"1\" class=\"dataframe\">\n",
       "  <thead>\n",
       "    <tr style=\"text-align: right;\">\n",
       "      <th></th>\n",
       "      <th>timestep</th>\n",
       "      <th>txn_type</th>\n",
       "      <th>sender_id</th>\n",
       "      <th>sender_type</th>\n",
       "      <th>receiver_id</th>\n",
       "      <th>receiver_type</th>\n",
       "      <th>amount</th>\n",
       "      <th>acct_balance</th>\n",
       "    </tr>\n",
       "  </thead>\n",
       "  <tbody>\n",
       "    <tr>\n",
       "      <th>0</th>\n",
       "      <td>1</td>\n",
       "      <td>send</td>\n",
       "      <td>1</td>\n",
       "      <td>normal</td>\n",
       "      <td>5</td>\n",
       "      <td>normal</td>\n",
       "      <td>-11.405247</td>\n",
       "      <td>88.594753</td>\n",
       "    </tr>\n",
       "    <tr>\n",
       "      <th>1</th>\n",
       "      <td>2</td>\n",
       "      <td>send</td>\n",
       "      <td>1</td>\n",
       "      <td>normal</td>\n",
       "      <td>2</td>\n",
       "      <td>normal</td>\n",
       "      <td>-9.943055</td>\n",
       "      <td>78.651698</td>\n",
       "    </tr>\n",
       "    <tr>\n",
       "      <th>2</th>\n",
       "      <td>2</td>\n",
       "      <td>receive</td>\n",
       "      <td>12</td>\n",
       "      <td>suspicious</td>\n",
       "      <td>1</td>\n",
       "      <td>normal</td>\n",
       "      <td>15.858001</td>\n",
       "      <td>94.509699</td>\n",
       "    </tr>\n",
       "    <tr>\n",
       "      <th>3</th>\n",
       "      <td>3</td>\n",
       "      <td>receive</td>\n",
       "      <td>10</td>\n",
       "      <td>normal</td>\n",
       "      <td>1</td>\n",
       "      <td>normal</td>\n",
       "      <td>19.173338</td>\n",
       "      <td>113.683037</td>\n",
       "    </tr>\n",
       "    <tr>\n",
       "      <th>4</th>\n",
       "      <td>4</td>\n",
       "      <td>send</td>\n",
       "      <td>1</td>\n",
       "      <td>normal</td>\n",
       "      <td>4</td>\n",
       "      <td>normal</td>\n",
       "      <td>-22.961522</td>\n",
       "      <td>90.721515</td>\n",
       "    </tr>\n",
       "    <tr>\n",
       "      <th>...</th>\n",
       "      <td>...</td>\n",
       "      <td>...</td>\n",
       "      <td>...</td>\n",
       "      <td>...</td>\n",
       "      <td>...</td>\n",
       "      <td>...</td>\n",
       "      <td>...</td>\n",
       "      <td>...</td>\n",
       "    </tr>\n",
       "    <tr>\n",
       "      <th>70</th>\n",
       "      <td>93</td>\n",
       "      <td>send</td>\n",
       "      <td>1</td>\n",
       "      <td>normal</td>\n",
       "      <td>12</td>\n",
       "      <td>suspicious</td>\n",
       "      <td>-19.580397</td>\n",
       "      <td>82.033585</td>\n",
       "    </tr>\n",
       "    <tr>\n",
       "      <th>71</th>\n",
       "      <td>94</td>\n",
       "      <td>receive</td>\n",
       "      <td>5</td>\n",
       "      <td>normal</td>\n",
       "      <td>1</td>\n",
       "      <td>normal</td>\n",
       "      <td>24.119813</td>\n",
       "      <td>106.153398</td>\n",
       "    </tr>\n",
       "    <tr>\n",
       "      <th>72</th>\n",
       "      <td>95</td>\n",
       "      <td>receive</td>\n",
       "      <td>9</td>\n",
       "      <td>normal</td>\n",
       "      <td>1</td>\n",
       "      <td>normal</td>\n",
       "      <td>16.065038</td>\n",
       "      <td>122.218436</td>\n",
       "    </tr>\n",
       "    <tr>\n",
       "      <th>73</th>\n",
       "      <td>96</td>\n",
       "      <td>send</td>\n",
       "      <td>1</td>\n",
       "      <td>normal</td>\n",
       "      <td>9</td>\n",
       "      <td>normal</td>\n",
       "      <td>-23.335323</td>\n",
       "      <td>98.883113</td>\n",
       "    </tr>\n",
       "    <tr>\n",
       "      <th>74</th>\n",
       "      <td>96</td>\n",
       "      <td>receive</td>\n",
       "      <td>12</td>\n",
       "      <td>suspicious</td>\n",
       "      <td>1</td>\n",
       "      <td>normal</td>\n",
       "      <td>23.479752</td>\n",
       "      <td>122.362865</td>\n",
       "    </tr>\n",
       "  </tbody>\n",
       "</table>\n",
       "<p>75 rows × 8 columns</p>\n",
       "</div>"
      ],
      "text/plain": [
       "    timestep txn_type  sender_id sender_type  receiver_id receiver_type  \\\n",
       "0          1     send          1      normal            5        normal   \n",
       "1          2     send          1      normal            2        normal   \n",
       "2          2  receive         12  suspicious            1        normal   \n",
       "3          3  receive         10      normal            1        normal   \n",
       "4          4     send          1      normal            4        normal   \n",
       "..       ...      ...        ...         ...          ...           ...   \n",
       "70        93     send          1      normal           12    suspicious   \n",
       "71        94  receive          5      normal            1        normal   \n",
       "72        95  receive          9      normal            1        normal   \n",
       "73        96     send          1      normal            9        normal   \n",
       "74        96  receive         12  suspicious            1        normal   \n",
       "\n",
       "       amount  acct_balance  \n",
       "0  -11.405247     88.594753  \n",
       "1   -9.943055     78.651698  \n",
       "2   15.858001     94.509699  \n",
       "3   19.173338    113.683037  \n",
       "4  -22.961522     90.721515  \n",
       "..        ...           ...  \n",
       "70 -19.580397     82.033585  \n",
       "71  24.119813    106.153398  \n",
       "72  16.065038    122.218436  \n",
       "73 -23.335323     98.883113  \n",
       "74  23.479752    122.362865  \n",
       "\n",
       "[75 rows x 8 columns]"
      ]
     },
     "metadata": {},
     "output_type": "display_data"
    }
   ],
   "source": [
    "if DEBUG:\n",
    "    for agent in model.agents:\n",
    "        print(agent.txns)\n",
    "display(model.agents[0].txns)"
   ]
  },
  {
   "cell_type": "code",
   "execution_count": 65,
   "metadata": {},
   "outputs": [],
   "source": [
    "# transaction amount, sender, receiver, timestamp"
   ]
  },
  {
   "cell_type": "code",
   "execution_count": 100,
   "metadata": {},
   "outputs": [
    {
     "data": {
      "text/plain": [
       "{'model_type': 'BankModel',\n",
       " 'time_stamp': '2022-12-09 17:49:26',\n",
       " 'agentpy_version': '0.1.5',\n",
       " 'python_version': '3.10.',\n",
       " 'experiment': False,\n",
       " 'completed': True,\n",
       " 'created_objects': 12,\n",
       " 'completed_steps': 96,\n",
       " 'run_time': '0:00:00.095345'}"
      ]
     },
     "execution_count": 100,
     "metadata": {},
     "output_type": "execute_result"
    }
   ],
   "source": [
    "results.info"
   ]
  },
  {
   "cell_type": "code",
   "execution_count": 67,
   "metadata": {},
   "outputs": [],
   "source": [
    "# okay so now i want to... uh... okay histogram plot of when txns are occuring\n",
    "# then i want to ... make a network of who transacted with who"
   ]
  },
  {
   "cell_type": "code",
   "execution_count": 68,
   "metadata": {},
   "outputs": [],
   "source": [
    "if DEBUG:\n",
    "    model.agents.acct_balance"
   ]
  },
  {
   "cell_type": "code",
   "execution_count": 101,
   "metadata": {},
   "outputs": [
    {
     "data": {
      "text/plain": [
       "[(75, 8), (89, 8), (72, 8), (92, 8), (78, 8), (63, 8), (75, 8), (66, 8), (92, 8), (71, 8), (81, 8), (78, 8)]"
      ]
     },
     "execution_count": 101,
     "metadata": {},
     "output_type": "execute_result"
    }
   ],
   "source": [
    "#sns.histplot(model.agents.acct_balance)\n",
    "model.agents[0].txns#.where('txn_type\n",
    "model.agents.txns.shape\n",
    "#model.agents.txns[1]"
   ]
  },
  {
   "cell_type": "code",
   "execution_count": 102,
   "metadata": {},
   "outputs": [],
   "source": [
    "all_txns = []\n",
    "for agent in model.agents:\n",
    "    #print(agent.id, 'with txns at timesteps: ',  agent.send_txn_times)\n",
    "    #print('aka times: ') \n",
    "\n",
    "    for timestamp in agent.send_txn_times:\n",
    "        #print( timestep_to_time(timestamp).strftime('%H:%M'))\n",
    "        all_txns.append(timestep_to_time(timestamp))\n",
    "    #print('the partners were: ', agent.txns[agent.txns.txn_type =='send'].receiver_id)\n",
    "all_txns = pd.DataFrame( all_txns, columns=['send_txn_times' ])"
   ]
  },
  {
   "cell_type": "code",
   "execution_count": 103,
   "metadata": {},
   "outputs": [],
   "source": [
    "all_txns.index = all_txns.send_txn_times\n",
    "#resampled = all_txns.txn_time.resample('15Min')#.count().plot()\n",
    "resampled = all_txns.send_txn_times.resample('1H')#.count().plot()\n",
    "resampled.count()\n",
    "df = pd.DataFrame(resampled.count())\n",
    "df.columns=['value']\n",
    "df['labels'] = pd.to_datetime(df.index).strftime('%H:%M')"
   ]
  },
  {
   "cell_type": "code",
   "execution_count": 104,
   "metadata": {},
   "outputs": [
    {
     "data": {
      "image/png": "[encoded data removed]",
      "text/plain": [
       "<Figure size 1080x576 with 1 Axes>"
      ]
     },
     "metadata": {},
     "output_type": "display_data"
    }
   ],
   "source": [
    "fig, ax = plt.subplots(figsize=(15,8))\n",
    "sns.lineplot(x='send_txn_times', y='value', data=df, ax=ax,\n",
    "    markers=True,  marker='o')\n",
    "\n",
    "# -- \n",
    "# format\n",
    "sns.set_style('whitegrid')\n",
    "sns.set_context('poster')\n",
    "\n",
    "ax.set(xlabel='Time (24 Hour)', ylabel='# of Transactions',\n",
    "# add title \n",
    "title=r\"$\\bf{Simulated\\ Transactions\\ by\\ Time–of–Day}$\" \n",
    "    f\"\\n# Accounts, Normal: {parameters['num_agents_per_type']['normal']}, \"\n",
    "    f\"Suspicious: {parameters['num_agents_per_type']['suspicious']}\\n\"\n",
    "    f\"Mean txn time, Normal: {parameters['mean_txn_hrs']['normal']}:00,\"\n",
    "    f\" Suspicious: {parameters['mean_txn_hrs']['suspicious']}:00\"\n",
    "    )\n",
    "\n",
    "# \n",
    "ax.xaxis.set_major_locator(mdates.HourLocator(interval=2))\n",
    "ax.xaxis.set_minor_locator(mdates.HourLocator(interval=1))\n",
    "ax.xaxis.set_major_formatter(DateFormatter(\"%H:%M\"))"
   ]
  },
  {
   "cell_type": "code",
   "execution_count": null,
   "metadata": {},
   "outputs": [],
   "source": []
  }
 ],
 "metadata": {
  "kernelspec": {
   "display_name": "Python 3.10.5 ('v3')",
   "language": "python",
   "name": "python3"
  },
  "language_info": {
   "codemirror_mode": {
    "name": "ipython",
    "version": 3
   },
   "file_extension": ".py",
   "mimetype": "text/x-python",
   "name": "python",
   "nbconvert_exporter": "python",
   "pygments_lexer": "ipython3",
   "version": "3.10.5"
  },
  "orig_nbformat": 4,
  "vscode": {
   "interpreter": {
    "hash": "7605221d54420214921005f3a3f402d7571e3f80342b3638f6ed8edbc81e4638"
   }
  }
 },
 "nbformat": 4,
 "nbformat_minor": 2
}
