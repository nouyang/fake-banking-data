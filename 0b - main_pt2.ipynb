{
 "cells": [
  {
   "cell_type": "code",
   "execution_count": 2,
   "metadata": {},
   "outputs": [
    {
     "ename": "SyntaxError",
     "evalue": "invalid syntax (2988153278.py, line 3)",
     "output_type": "error",
     "traceback": [
      "\u001b[0;36m  Input \u001b[0;32mIn [2]\u001b[0;36m\u001b[0m\n\u001b[0;31m    Thought: with the type, we could set it within the agent itself.\u001b[0m\n\u001b[0m             ^\u001b[0m\n\u001b[0;31mSyntaxError\u001b[0m\u001b[0;31m:\u001b[0m invalid syntax\n"
     ]
    }
   ],
   "source": [
    "# So ... each agent also has a type ideally\n",
    "\n",
    "#Thought: with the type, we could set it within the agent itself.\n",
    "#That way only need to pass the type?\n",
    "#\n",
    "#I guess that agents don't have access to the model?"
   ]
  },
  {
   "cell_type": "code",
   "execution_count": 41,
   "metadata": {},
   "outputs": [],
   "source": [
    "# https://stackoverflow.com/questions/19620498/how-to-create-a-utility-class-correctly"
   ]
  },
  {
   "cell_type": "markdown",
   "metadata": {},
   "source": [
    "# Okay... so... \n",
    "We have agents...\n",
    "\n",
    "Suspicious ones\n",
    "Not suspicious ones\n",
    "\n",
    "\n",
    "Transactions should have:\n",
    "\n",
    "\n",
    "We also want to export the network of transactions\n",
    "\n",
    "So... the data we want are... \n",
    "\n",
    "sender - receiver - amount - timestamp\n",
    "\n",
    "parameters:\n",
    "\n",
    "num of agents,\n",
    "avg txn hr -> so at any given point, the likelihood of making a transaction\n",
    "\n",
    "avg txn value\n",
    "distribution of p per agent type \n",
    "starting balance\n",
    "\n",
    "\n"
   ]
  },
  {
   "cell_type": "code",
   "execution_count": 43,
   "metadata": {},
   "outputs": [],
   "source": [
    "# export some... network graphs i guess....\n",
    "# also want to make some classifieirs"
   ]
  },
  {
   "cell_type": "code",
   "execution_count": 44,
   "metadata": {},
   "outputs": [],
   "source": [
    "# Model design\n",
    "import agentpy as ap\n",
    "import numpy as np\n",
    "\n",
    "# Visualization\n",
    "import seaborn as sns\n",
    "import pandas as pd\n",
    "\n",
    "import scipy.stats\n",
    "import datetime\n",
    "import matplotlib.pyplot as plt"
   ]
  },
  {
   "cell_type": "code",
   "execution_count": 99,
   "metadata": {},
   "outputs": [
    {
     "data": {
      "text/plain": [
       "array([-1.03998411])"
      ]
     },
     "execution_count": 99,
     "metadata": {},
     "output_type": "execute_result"
    }
   ],
   "source": [
    "# work\n",
    "rng = np.random.default_rng(42)\n",
    "rng.random()\n",
    "rng.normal(loc=0, scale=1, size=1)"
   ]
  },
  {
   "cell_type": "code",
   "execution_count": 325,
   "metadata": {},
   "outputs": [],
   "source": [
    "class BankAgent(ap.Agent):\n",
    "    def setup(self):\n",
    "        self.txn_amt_rng = None \n",
    "        self.txn_probabilities = None \n",
    "        self.type = None \n",
    "        self.acct_balance = None \n",
    "        self.mean_txns = 4\n",
    "\n",
    "        self.txns = pd.DataFrame(\n",
    "                columns=['timestep', 'sender_id', 'sender_type', \n",
    "                 'receiver_id', 'receiver_type', 'amount', 'acct_balance']\n",
    "        )\n",
    "        self.txn_amts = None\n",
    "\n",
    "    def setup_txn_amts(self, mean=100, stddev=10, total_steps=0):\n",
    "        self.txn_amts = self.txn_amt_rng.normal(\n",
    "            loc=mean, scale=stddev, \n",
    "            size=total_steps)\n",
    "\n",
    "    def transact(self, timestep):\n",
    "        p_txn = self.txn_probabilities[timestep-1] * self.mean_txns\n",
    "        if np.random.random() < p_txn and self.acct_balance > 0:\n",
    "            # randomly choose partner\n",
    "            partner = self.model.agents.random()\n",
    "            # randomly choose amount\n",
    "            amount = self.txn_amts[timestep]\n",
    "\n",
    "            # calculations\n",
    "            partner.acct_balance += amount\n",
    "            self.acct_balance -= amount\n",
    "\n",
    "            print(\n",
    "                f' Transaction @ step: {timestep} with ptxn: {p_txn:.2f}, '\n",
    "                f'amt: {amount:.2f} from: {self.id}->{partner.id}, '\n",
    "                f'({self.type} to {partner.type}), new balance: {self.acct_balance:.1f}'\n",
    "            )\n",
    "            \n",
    "            # record\n",
    "            self.txns.loc[len(self.txns.index)] = [\n",
    "                timestep, self.id, self.type, *partner.id, partner.type,\n",
    "                amount, self.acct_balance]"
   ]
  },
  {
   "cell_type": "markdown",
   "metadata": {},
   "source": [
    "# parameters"
   ]
  },
  {
   "cell_type": "code",
   "execution_count": 326,
   "metadata": {},
   "outputs": [],
   "source": [
    "        #self.txn_value_rng = p.rng\n",
    "        #self.txn_probabilities = p.txn_probabilities\n",
    "        ##self.p.type = 'default'\n",
    "        #self.type = self.p.type\n",
    "        #self.acct_balance = self.p.init_acct_balance\n",
    "\n",
    "MEAN_TXN_HRS = {'normal':14, \n",
    "                'suspicious':22}\n",
    "MINS_PER_STEP = 15\n",
    "\n",
    "MEAN_TXN_AMOUNTS = {'normal':250, \n",
    "                'suspicious':50}\n",
    "\n",
    "NUM_AGENTS_PER_TYPE = {'normal': 10,\n",
    "    'suspicious': 2\n",
    "}\n",
    "\n",
    "parameters = {\n",
    "    'num_agents_per_type': NUM_AGENTS_PER_TYPE,\n",
    "    'mean_txn_hrs': MEAN_TXN_HRS,\n",
    "    'mean_txn_amounts ': MEAN_TXN_AMOUNTS,\n",
    "    'mean_txns': 4, # avg num txns each agent makes\n",
    "    'starting_balance': 100,\n",
    "    'seed': 42,\n",
    "    'mins_per_step' : MINS_PER_STEP, # 1 hr\n",
    "    'steps': int(24 * (60/MINS_PER_STEP)), # 24 hours * steps per hr\n",
    "}\n",
    "\n",
    "# For plotting\n",
    "def timestep_to_time(timestep):\n",
    "    date_and_time = datetime.datetime(2022, 10, 31, 0, 0, 0)\n",
    "    time_elapsed = timestep * (parameters['mins_per_step'])\n",
    "    time_change = datetime.timedelta(minutes=time_elapsed)\n",
    "    new_time = date_and_time + time_change\n",
    "    return new_time"
   ]
  },
  {
   "cell_type": "code",
   "execution_count": 327,
   "metadata": {},
   "outputs": [
    {
     "data": {
      "text/plain": [
       "dict_values([1, 2])"
      ]
     },
     "execution_count": 327,
     "metadata": {},
     "output_type": "execute_result"
    }
   ],
   "source": [
    "a = {'asdf':1, 'dfg':2}\n",
    "a.values()"
   ]
  },
  {
   "cell_type": "code",
   "execution_count": 328,
   "metadata": {},
   "outputs": [
    {
     "data": {
      "text/plain": [
       "array([774., 439., 859., 697.,  94., 976., 761., 786., 128., 450.])"
      ]
     },
     "execution_count": 328,
     "metadata": {},
     "output_type": "execute_result"
    }
   ],
   "source": [
    "np.random.default_rng(42).random(10).round(3) * 1000"
   ]
  },
  {
   "cell_type": "code",
   "execution_count": 329,
   "metadata": {},
   "outputs": [],
   "source": [
    "class BankModel(ap.Model):\n",
    "    def setup(self):\n",
    "        self.p_txns = setup_p_txns(self.p.steps) \n",
    "        num_agents = sum(self.p.num_agents_per_type.values())\n",
    "        \n",
    "        # Setup up rng to generate seeds for rngs for agents\n",
    "        rng = np.random.default_rng(self.p.seed)\n",
    "        agent_rng_seeds = rng.random(num_agents).round(3) * 1000\n",
    "        agent_rng_seeds = np.array(agent_rng_seeds, dtype=int)\n",
    "\n",
    "        self.agents = ap.AgentList(self) \n",
    "        for type in ['normal', 'suspicious']:\n",
    "\n",
    "            hrs_mean = self.p.mean_txn_hrs[type]\n",
    "            shift = hrs_mean * int(60 / self.p.mins_per_step)\n",
    "            # shift in steps\n",
    "            shifted = np.concatenate(\n",
    "                (self.p_txns[-shift:], self.p_txns[:-shift]))\n",
    "            agents = ap.AgentList(\n",
    "                self, self.p.num_agents_per_type[type], BankAgent)\n",
    "\n",
    "            agents.txn_probabilities = shifted\n",
    "            agents.total_steps = self.p.steps \n",
    "            agents.acct_balance = 100\n",
    "            agents.type = type\n",
    "\n",
    "            self.agents += agents\n",
    "\n",
    "        print('here are all the agetns: ')\n",
    "        print(self.agents)\n",
    "        print([(agent.id,agent.type) for agent in self.agents])\n",
    "\n",
    "        # calcuations for txn values\n",
    "        txn_amt_rngs = ap.AttrIter(\n",
    "            [np.random.default_rng(seed) for seed in agent_rng_seeds])\n",
    "        self.agents.txn_amt_rng = txn_amt_rngs\n",
    "\n",
    "        for agent in self.agents:\n",
    "            agent.setup_txn_amts(\n",
    "                mean=20, stddev=5, total_steps=self.p.steps)\n",
    "                #mean=100, stddev=10, total_steps=self.p.mean_txns * 5)\n",
    "            # TODO: maybe I should make smaller table...? \n",
    "            # b ut then need to index into it, not by timestep\n",
    "            # fundamental issue is ... wanting a same set of rngs for each agent\n",
    "            # but cannot call at each timestep -- would get same value -- so instead pregenerate the values for all timesteps and then index into that\n",
    "            #print(agent.txn_amts)\n",
    "            #print(agent.id)\n",
    "            #print(agent.type)\n",
    "\n",
    "\n",
    "    def step(self):\n",
    "        self.agents.transact(self.t)\n",
    "\n",
    "    def update(self):\n",
    "        #self.record(foo_bar)\n",
    "        total_txns = 0\n",
    "        for agent in self.agents:\n",
    "            total_txns += agent.txns.shape[0]\n",
    "        ('num txns (across all agents)', total_txns)\n",
    "\n",
    "    def end(self):\n",
    "        self.agents.record('txns')"
   ]
  },
  {
   "cell_type": "code",
   "execution_count": 330,
   "metadata": {},
   "outputs": [
    {
     "data": {
      "text/plain": [
       "0.30471707975443135"
      ]
     },
     "execution_count": 330,
     "metadata": {},
     "output_type": "execute_result"
    }
   ],
   "source": [
    "np.random.default_rng(42).normal()"
   ]
  },
  {
   "cell_type": "code",
   "execution_count": 331,
   "metadata": {},
   "outputs": [
    {
     "name": "stdout",
     "output_type": "stream",
     "text": [
      "here are all the agetns: \n",
      "AgentList (12 objects)\n",
      "[(1, 'normal'), (2, 'normal'), (3, 'normal'), (4, 'normal'), (5, 'normal'), (6, 'normal'), (7, 'normal'), (8, 'normal'), (9, 'normal'), (10, 'normal'), (11, 'suspicious'), (12, 'suspicious')]\n",
      "Completed: 57 steps Transaction @ step: 58 with ptxn: 0.16, amt: 19.74 from: 1->[5], (normal to ['normal']), new balance: 80.3\n",
      " Transaction @ step: 58 with ptxn: 0.16, amt: 17.70 from: 9->[4], (normal to ['normal']), new balance: 82.3\n",
      " Transaction @ step: 58 with ptxn: 0.16, amt: 17.33 from: 10->[4], (normal to ['normal']), new balance: 82.7\n",
      "Completed: 58 steps Transaction @ step: 59 with ptxn: 0.16, amt: 18.13 from: 4->[3], (normal to ['normal']), new balance: 116.9\n",
      " Transaction @ step: 59 with ptxn: 0.16, amt: 24.03 from: 5->[12], (normal to ['suspicious']), new balance: 95.7\n",
      "Completed: 59 steps Transaction @ step: 60 with ptxn: 0.16, amt: 9.88 from: 1->[2], (normal to ['normal']), new balance: 70.4\n",
      "Completed: 60 steps Transaction @ step: 61 with ptxn: 0.15, amt: 17.28 from: 7->[11], (normal to ['suspicious']), new balance: 82.7\n",
      "Completed: 61 steps Transaction @ step: 62 with ptxn: 0.14, amt: 20.88 from: 5->[12], (normal to ['suspicious']), new balance: 74.8\n",
      " Transaction @ step: 62 with ptxn: 0.14, amt: 24.80 from: 6->[9], (normal to ['normal']), new balance: 75.2\n",
      "Completed: 62 steps Transaction @ step: 63 with ptxn: 0.13, amt: 24.41 from: 4->[2], (normal to ['normal']), new balance: 92.5\n",
      "Completed: 63 steps Transaction @ step: 64 with ptxn: 0.12, amt: 26.66 from: 5->[10], (normal to ['normal']), new balance: 48.2\n",
      " Transaction @ step: 64 with ptxn: 0.12, amt: 21.80 from: 8->[7], (normal to ['normal']), new balance: 78.2\n",
      "Completed: 64 steps Transaction @ step: 65 with ptxn: 0.11, amt: 19.36 from: 9->[1], (normal to ['normal']), new balance: 87.7\n",
      "Completed: 65 steps Transaction @ step: 66 with ptxn: 0.10, amt: 19.85 from: 5->[1], (normal to ['normal']), new balance: 28.3\n",
      " Transaction @ step: 66 with ptxn: 0.10, amt: 9.21 from: 7->[2], (normal to ['normal']), new balance: 95.3\n",
      " Transaction @ step: 66 with ptxn: 0.10, amt: 27.44 from: 9->[4], (normal to ['normal']), new balance: 60.3\n",
      "Completed: 66 steps Transaction @ step: 67 with ptxn: 0.09, amt: 22.55 from: 2->[4], (normal to ['normal']), new balance: 121.0\n",
      " Transaction @ step: 67 with ptxn: 0.09, amt: 23.41 from: 7->[9], (normal to ['normal']), new balance: 71.9\n",
      "Completed: 67 steps Transaction @ step: 68 with ptxn: 0.08, amt: 27.81 from: 4->[10], (normal to ['normal']), new balance: 114.7\n",
      "Completed: 71 steps Transaction @ step: 72 with ptxn: 0.05, amt: 16.74 from: 4->[1], (normal to ['normal']), new balance: 97.9\n",
      "Completed: 74 steps Transaction @ step: 75 with ptxn: 0.03, amt: 28.39 from: 1->[9], (normal to ['normal']), new balance: 97.9\n",
      "Completed: 90 steps Transaction @ step: 91 with ptxn: 0.16, amt: 20.61 from: 12->[4], (suspicious to ['normal']), new balance: 124.3\n",
      "Completed: 96 steps\n",
      "Run time: 0:00:00.119580\n",
      "Simulation finished\n"
     ]
    }
   ],
   "source": [
    "model = BankModel(parameters)\n",
    "results = model.run()"
   ]
  },
  {
   "cell_type": "markdown",
   "metadata": {},
   "source": [
    "# run model"
   ]
  },
  {
   "cell_type": "markdown",
   "metadata": {},
   "source": []
  },
  {
   "cell_type": "markdown",
   "metadata": {},
   "source": []
  }
 ],
 "metadata": {
  "kernelspec": {
   "display_name": "Python 3.10.5 ('v3')",
   "language": "python",
   "name": "python3"
  },
  "language_info": {
   "codemirror_mode": {
    "name": "ipython",
    "version": 3
   },
   "file_extension": ".py",
   "mimetype": "text/x-python",
   "name": "python",
   "nbconvert_exporter": "python",
   "pygments_lexer": "ipython3",
   "version": "3.10.5"
  },
  "orig_nbformat": 4,
  "vscode": {
   "interpreter": {
    "hash": "7605221d54420214921005f3a3f402d7571e3f80342b3638f6ed8edbc81e4638"
   }
  }
 },
 "nbformat": 4,
 "nbformat_minor": 2
}
