{
 "cells": [
  {
   "cell_type": "code",
   "execution_count": 2,
   "metadata": {},
   "outputs": [
    {
     "ename": "SyntaxError",
     "evalue": "invalid syntax (2988153278.py, line 3)",
     "output_type": "error",
     "traceback": [
      "\u001b[0;36m  Input \u001b[0;32mIn [2]\u001b[0;36m\u001b[0m\n\u001b[0;31m    Thought: with the type, we could set it within the agent itself.\u001b[0m\n\u001b[0m             ^\u001b[0m\n\u001b[0;31mSyntaxError\u001b[0m\u001b[0;31m:\u001b[0m invalid syntax\n"
     ]
    }
   ],
   "source": [
    "# So ... each agent also has a type ideally\n",
    "\n",
    "Thought: with the type, we could set it within the agent itself.\n",
    "That way only need to pass the type?\n",
    "\n",
    "I guess that agents don't have access to the model?"
   ]
  },
  {
   "cell_type": "code",
   "execution_count": null,
   "metadata": {},
   "outputs": [],
   "source": [
    "# https://stackoverflow.com/questions/19620498/how-to-create-a-utility-class-correctly"
   ]
  },
  {
   "cell_type": "code",
   "execution_count": null,
   "metadata": {},
   "outputs": [],
   "source": [
    "DEBUG = False\n",
    "\n",
    "def setup_p_txns(total_steps):\n",
    "    # Mean at 0\n",
    "    max_std_devs = 5 # \n",
    "\n",
    "    if DEBUG:\n",
    "        # Note: scipy norm has stddev = 1, mean of 0\n",
    "        # Below shows why we pick max_std_devs = 5\n",
    "        p_txn = scipy.integrate.quad(\n",
    "                scipy.stats.norm.pdf, -5, 5)[0] # quad() Returns: value, error\n",
    "        print('In total we will capture this amount of the gaussian: ', p_txn)\n",
    "    \n",
    "    txn_probabilities = []\n",
    "\n",
    "    std_dev_per_step = 2 * max_std_devs / total_steps\n",
    "\n",
    "    for step in range(total_steps):\n",
    "        p_txn = \\\n",
    "            scipy.integrate.quad(\n",
    "                scipy.stats.norm.pdf, \n",
    "                step * std_dev_per_step, (step+1) * std_dev_per_step\n",
    "            ) # returns: (integration) value, error\n",
    "        txn_probabilities.append(p_txn[0])\n",
    "    if DEBUG:\n",
    "        txn_probabilities[0] = 1 # set p_txn to 1 to always transact\n",
    "        txn_probabilities[-1] = 1\n",
    "        txn_probabilities[1:-1] = 0\n",
    "    return txn_probabilities"
   ]
  },
  {
   "cell_type": "markdown",
   "metadata": {},
   "source": [
    "# Okay... so... \n",
    "We have agents...\n",
    "\n",
    "Suspicious ones\n",
    "Not suspicious ones\n",
    "\n",
    "\n",
    "Transactions should have:\n",
    "\n",
    "\n",
    "We also want to export the network of transactions\n",
    "\n",
    "So... the data we want are... \n",
    "\n",
    "sender - receiver - amount - timestamp\n",
    "\n",
    "parameters:\n",
    "\n",
    "num of agents,\n",
    "avg txn hr -> so at any given point, the likelihood of making a transaction\n",
    "\n",
    "avg txn value\n",
    "distribution of p per agent type \n",
    "starting balance\n",
    "\n",
    "\n"
   ]
  },
  {
   "cell_type": "code",
   "execution_count": null,
   "metadata": {},
   "outputs": [],
   "source": [
    "# export some... network graphs i guess....\n",
    "# also want to make some classifieirs"
   ]
  },
  {
   "cell_type": "code",
   "execution_count": null,
   "metadata": {},
   "outputs": [],
   "source": [
    "# Model design\n",
    "import agentpy as ap\n",
    "import numpy as np\n",
    "\n",
    "# Visualization\n",
    "import seaborn as sns\n",
    "import pandas as pd\n",
    "\n",
    "import scipy.stats\n",
    "import datetime\n",
    "import matplotlib.pyplot as plt"
   ]
  },
  {
   "cell_type": "code",
   "execution_count": 23,
   "metadata": {},
   "outputs": [
    {
     "data": {
      "text/plain": [
       "-2.0953431754200875"
      ]
     },
     "execution_count": 23,
     "metadata": {},
     "output_type": "execute_result"
    }
   ],
   "source": [
    "# work\n",
    "rng = np.random.default_rng()\n",
    "rng.random()\n",
    "rng.normal(loc=0, scale=1)"
   ]
  },
  {
   "cell_type": "code",
   "execution_count": null,
   "metadata": {},
   "outputs": [],
   "source": [
    "class BankAgent(ap.Agent):\n",
    "    def setup(self, parameters):\n",
    "        p = parameters\n",
    "        #self.txn_value_rng = p.rng\n",
    "        self.txn_probabilities = p.txn_probabilities\n",
    "        #self.p.type = 'default'\n",
    "\n",
    "        self.type = self.p.type\n",
    "        self.acct_balance = self.p.init_acct_balance\n",
    "\n",
    "        self.txns = pd.DataFrame(\n",
    "                columns=['timestep', 'sender_id', 'sender_type', \n",
    "                 'receiver_id', 'receiver_type', 'amount', 'acct_balance']\n",
    "        )\n",
    "\n",
    "    def transact(self, timestep):\n",
    "        #shift = self.mean * 4 # WARNING hardcoded 4\n",
    "        p_txn = self.txn_probabilities[timestep-1]\n",
    "        if np.random.random() < p_txn and self.acct_balance > 0:\n",
    "            # randomly choose partner\n",
    "            partner = self.model.agents.random()\n",
    "            # randomly choose amount\n",
    "            amount = self.txn_value_rng()\n",
    "\n",
    "            print('transacted. timestep', timestep, f'ptxn: {p_txn:.3f}',\n",
    "            'with partner: ', partner.id, 'new balance: ', self.acct_balance)\n",
    "\n",
    "            # calculations\n",
    "            partner.acct_balance += amount\n",
    "            self.acct_balance -= amount\n",
    "\n",
    "            # record\n",
    "            self.txns.loc[len(self.txns.index)] = [\n",
    "                timestep, self.id, self.type, *partner.id, partner.type,\n",
    "                amount, self.acct_balance]"
   ]
  },
  {
   "cell_type": "code",
   "execution_count": null,
   "metadata": {},
   "outputs": [],
   "source": [
    "        self.txn_value_rng = p.rng\n",
    "        self.txn_probabilities = p.txn_probabilities\n",
    "        #self.p.type = 'default'\n",
    "        self.type = self.p.type\n",
    "        self.acct_balance = self.p.init_acct_balance\n",
    "\n",
    "MEAN_TXN_HRS = {'normal':14, \n",
    "                'suspicious':22}\n",
    "MINS_PER_STEP = 15\n",
    "\n",
    "MEAN_TXN_VALUES = {'normal':250, \n",
    "                'suspicious':50}\n",
    "\n",
    "NUM_AGENTS_PER_TYPE = {'normal': 1000,\n",
    "    'suspicious': 100\n",
    "}\n",
    "\n",
    "parameters = {\n",
    "    'num_agents_per_type': NUM_AGENTS_PER_TYPE,\n",
    "    'mean_txn_hrs': MEAN_TXN_HRS,\n",
    "    'mean_txn_values': MEAN_TXN_VALUES,\n",
    "    'starting_balance': 100,\n",
    "    'seed': 42,\n",
    "    'mins_per_step' : MINS_PER_STEP, # 1 hr\n",
    "    'steps': 24 * (60/MINS_PER_STEP), # 24 hours * steps per hr\n",
    "}\n",
    "\n",
    "\n",
    "# For plotting\n",
    "def timestep_to_time(timestep):\n",
    "    date_and_time = datetime.datetime(2022, 10, 31, 0, 0, 0)\n",
    "    time_elapsed = timestep * (parameters['mins_per_step'])\n",
    "    time_change = datetime.timedelta(minutes=time_elapsed)\n",
    "    new_time = date_and_time + time_change\n",
    "    return new_time"
   ]
  },
  {
   "cell_type": "code",
   "execution_count": null,
   "metadata": {},
   "outputs": [],
   "source": [
    "class BankModel(ap.Model):\n",
    "    def setup(self):\n",
    "        self.guassian_p_txns = setup_p_txns() \n",
    "\n",
    "        list_agents = []\n",
    "        for type in ['normal', 'suspicious']:\n",
    "            mean = self.p.mean_txn_values[type]\n",
    "            shift_in_steps = mean * (60 / self.p.mins_per_step).astype(int)\n",
    "            shifted_p_txns = np.concatenate(\n",
    "                (self.gaussian_p_txns[-shift_in_steps:], \n",
    "                self.gaussian_p_txns[:-shift_in_steps]))\n",
    "            agents = ap.AgentList(\n",
    "                self, self.p.num_agents_per_type[type], BankAgent)\n",
    "            agents.\n",
    "            list_agents.append(agents)\n",
    "\n",
    "\n",
    "\n",
    "        self.agents = ap.AgentList(\n",
    "            self, self.normal_agents + self.suspicious_agents)\n",
    "\n",
    "        probs_1 = \n",
    "        def shift_zscores(self):\n",
    "            shift = self.mean * 4 # WARNING hardcoded 4\n",
    "            self.shifted_zscores = np.concatenate(\n",
    "                (self.zscores[-shift:] , self.zscores[:-shift]))\n",
    "\n",
    "\n",
    "        self.suspicious_agents = ap.AgentList(\n",
    "            self, self.p.num_agents_per_type['suspicious'], BankAgent)\n",
    "    \n",
    "\n",
    "        self.normal_agents.type = 'normal'\n",
    "        self.suspicious_agents.type = 'suspicious'\n",
    "\n",
    "\n",
    "        #self.value_rng = np.random.default_rng(self.p.seed)\n",
    "        #rng.normal(loc=0, scale=1)\n",
    "\n",
    "    def step(self):\n",
    "        self.agents.transact(self.t)\n",
    "        pass\n",
    "\n",
    "    def update(self):\n",
    "        #self.record(foo_bar)\n",
    "        pass\n",
    "\n",
    "    def end(self):\n",
    "        self.agents.record('txns')"
   ]
  },
  {
   "cell_type": "code",
   "execution_count": 29,
   "metadata": {},
   "outputs": [
    {
     "data": {
      "text/plain": [
       "0.30471707975443135"
      ]
     },
     "execution_count": 29,
     "metadata": {},
     "output_type": "execute_result"
    }
   ],
   "source": [
    "np.random.default_rng(42).normal()"
   ]
  },
  {
   "cell_type": "code",
   "execution_count": null,
   "metadata": {},
   "outputs": [],
   "source": []
  },
  {
   "cell_type": "code",
   "execution_count": null,
   "metadata": {},
   "outputs": [],
   "source": []
  },
  {
   "cell_type": "code",
   "execution_count": null,
   "metadata": {},
   "outputs": [],
   "source": []
  },
  {
   "cell_type": "code",
   "execution_count": null,
   "metadata": {},
   "outputs": [],
   "source": []
  }
 ],
 "metadata": {
  "kernelspec": {
   "display_name": "Python 3.10.5 ('v3')",
   "language": "python",
   "name": "python3"
  },
  "language_info": {
   "codemirror_mode": {
    "name": "ipython",
    "version": 3
   },
   "file_extension": ".py",
   "mimetype": "text/x-python",
   "name": "python",
   "nbconvert_exporter": "python",
   "pygments_lexer": "ipython3",
   "version": "3.10.5"
  },
  "orig_nbformat": 4,
  "vscode": {
   "interpreter": {
    "hash": "7605221d54420214921005f3a3f402d7571e3f80342b3638f6ed8edbc81e4638"
   }
  }
 },
 "nbformat": 4,
 "nbformat_minor": 2
}
