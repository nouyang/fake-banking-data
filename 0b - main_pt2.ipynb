{
 "cells": [
  {
   "cell_type": "markdown",
   "metadata": {},
   "source": [
    "# Okay... so... \n",
    "We have agents...\n",
    "\n",
    "Suspicious ones\n",
    "Not suspicious ones\n",
    "\n",
    "\n",
    "Transactions should have:\n",
    "\n",
    "\n",
    "We also want to export the network of transactions\n",
    "\n",
    "So... the data we want are... \n",
    "\n",
    "sender - receiver - amount - timestamp\n",
    "\n",
    "parameters:\n",
    "\n",
    "num of agents,\n",
    "avg txn hr -> so at any given point, the likelihood of making a transaction\n",
    "\n",
    "avg txn value\n",
    "distribution of p per agent type \n",
    "starting balance\n",
    "\n",
    "\n"
   ]
  },
  {
   "cell_type": "code",
   "execution_count": 417,
   "metadata": {},
   "outputs": [],
   "source": [
    "# export some... network graphs i guess....\n",
    "# also want to make some classifieirs"
   ]
  },
  {
   "cell_type": "code",
   "execution_count": 418,
   "metadata": {},
   "outputs": [],
   "source": [
    "# Model design\n",
    "import agentpy as ap\n",
    "import numpy as np\n",
    "\n",
    "# Visualization\n",
    "import seaborn as sns\n",
    "import pandas as pd\n",
    "\n",
    "import scipy.stats\n",
    "import datetime\n",
    "import matplotlib.pyplot as plt\n",
    "\n",
    "from matplotlib.dates import DateFormatter\n",
    "import matplotlib.dates as mdates"
   ]
  },
  {
   "cell_type": "markdown",
   "metadata": {},
   "source": [
    "# utility functions"
   ]
  },
  {
   "cell_type": "markdown",
   "metadata": {},
   "source": [
    "### setup_p_txns"
   ]
  },
  {
   "cell_type": "code",
   "execution_count": 448,
   "metadata": {},
   "outputs": [],
   "source": [
    "DEBUG = False\n",
    "\n",
    "def setup_p_txns(total_steps):\n",
    "    # Mean at 0\n",
    "    max_std_devs = 5 # \n",
    "\n",
    "    if DEBUG:\n",
    "        # Note: scipy norm has stddev = 1, mean of 0\n",
    "        # Below shows why we pick max_std_devs = 5\n",
    "        p_txn = scipy.integrate.quad(\n",
    "                scipy.stats.norm.pdf, -5, 5)[0] # quad() Returns: value, error\n",
    "        print('In total we will capture this amount of the gaussian: ', p_txn)\n",
    "    \n",
    "    txn_probabilities = np.ones(total_steps) * -1\n",
    "\n",
    "    std_dev_per_step = 2 * max_std_devs / total_steps\n",
    "\n",
    "    for step in range(total_steps):\n",
    "        p_txn = \\\n",
    "            scipy.integrate.quad(\n",
    "                scipy.stats.norm.pdf, \n",
    "                -max_std_devs + step * std_dev_per_step, \n",
    "                -max_std_devs + (step+1) * std_dev_per_step\n",
    "            ) # returns: (integration) value, error\n",
    "        txn_probabilities[step] = p_txn[0]\n",
    "        if DEBUG:\n",
    "            print(step, p_txn[0])\n",
    "    # The peak should be at 0, not halfway through)\n",
    "    zeroing_shift = int(np.round(txn_probabilities.shape[0] / 2))\n",
    "    shifted = np.concatenate(\n",
    "            (txn_probabilities[-zeroing_shift:], \n",
    "            txn_probabilities[:-zeroing_shift]))\n",
    "\n",
    "    if False:\n",
    "        # In txn time plot,\n",
    "        # Should see peaks exactly at the means for each type of agent\n",
    "        txn_probabilities[0] = 1 # set p_txn to 1 to always transact\n",
    "        txn_probabilities[1:-1] = 0.01 # or Zero\n",
    "\n",
    "    return shifted "
   ]
  },
  {
   "cell_type": "code",
   "execution_count": 449,
   "metadata": {},
   "outputs": [
    {
     "data": {
      "text/plain": [
       "array([0.041, 0.041, 0.04 , 0.039, 0.037, 0.035, 0.033, 0.031, 0.028,\n",
       "       0.025, 0.023, 0.02 , 0.018, 0.015, 0.013, 0.011, 0.009, 0.008,\n",
       "       0.006, 0.005, 0.004, 0.003, 0.003, 0.002, 0.002, 0.001, 0.001,\n",
       "       0.001, 0.001, 0.   , 0.   , 0.   , 0.   , 0.   , 0.   , 0.   ,\n",
       "       0.   , 0.   , 0.   , 0.   , 0.   , 0.   , 0.   , 0.   , 0.   ,\n",
       "       0.   , 0.   , 0.   , 0.   , 0.   , 0.   , 0.   , 0.   , 0.   ,\n",
       "       0.   , 0.   , 0.   , 0.   , 0.   , 0.   , 0.   , 0.   , 0.   ,\n",
       "       0.   , 0.   , 0.   , 0.   , 0.001, 0.001, 0.001, 0.001, 0.002,\n",
       "       0.002, 0.003, 0.003, 0.004, 0.005, 0.006, 0.008, 0.009, 0.011,\n",
       "       0.013, 0.015, 0.018, 0.02 , 0.023, 0.025, 0.028, 0.031, 0.033,\n",
       "       0.035, 0.037, 0.039, 0.04 , 0.041, 0.041])"
      ]
     },
     "metadata": {},
     "output_type": "display_data"
    }
   ],
   "source": [
    "with np.printoptions(precision=3, suppress=True):\n",
    "    test = setup_p_txns(96)\n",
    "    display(test)"
   ]
  },
  {
   "cell_type": "markdown",
   "metadata": {},
   "source": [
    "# agent"
   ]
  },
  {
   "cell_type": "markdown",
   "metadata": {},
   "source": [
    "### TODO: rename send_sxn_times\n",
    "\n",
    "Here send is a noun, but looks like verb"
   ]
  },
  {
   "cell_type": "code",
   "execution_count": 466,
   "metadata": {},
   "outputs": [],
   "source": [
    "class BankAgent(ap.Agent):\n",
    "    def setup(self):\n",
    "        self.txn_amt_rng = None \n",
    "        self.txn_probabilities = None \n",
    "        self.type = None \n",
    "        self.acct_balance = None \n",
    "        self.mean_txns = 4\n",
    "        self.send_txn_times = []\n",
    "\n",
    "        self.txns = None\n",
    "        self.txns_list = []\n",
    "        self.txn_amts = None\n",
    "\n",
    "    def setup_txn_amts(self, mean=100, stddev=10, total_steps=0):\n",
    "        self.txn_amts = self.txn_amt_rng.normal(\n",
    "            loc=mean, scale=stddev, \n",
    "            size=total_steps)\n",
    "\n",
    "    # NOTE: Timesteps start at 1\n",
    "    # TODO: fix bug. where first timestep should be at midnight.\n",
    "    # TODO: fix so stored txn time can be timestep, not timestep-1\n",
    "    # TOOD: issue currently is graph has both midnight 10/31 and midngith 11/1\n",
    "    # TODO: due to resample rounding up or down or something idk\n",
    "    def transact(self, timestep):\n",
    "        # using as index, subtract (timestep starts at 1)\n",
    "        p_txn = self.txn_probabilities[timestep-1] * self.mean_txns\n",
    "\n",
    "        if np.random.random() < p_txn and self.acct_balance > 0:\n",
    "            # using as value, do nothing\n",
    "            self.send_txn_times.append(timestep) #TODO: should be timestep\n",
    "            # randomly choose partner\n",
    "            my_partner = self.model.agents.random() # we get a list back\n",
    "            my_partner = my_partner.to_list()[0] \n",
    "            # randomly choose amount\n",
    "            amount = self.txn_amts[timestep-1]\n",
    "\n",
    "            # calculations\n",
    "            my_partner.acct_balance += amount\n",
    "            self.acct_balance -= amount\n",
    "\n",
    "            if DEBUG:\n",
    "                print(\n",
    "                    f' Transaction @ step: {timestep} with ptxn: {p_txn:.2f}, '\n",
    "                    f'${amount:.2f} from: {self.id}->{my_partner.id}, '\n",
    "                    f'({self.type} to {my_partner.type}), new balance: {self.acct_balance:.1f}'\n",
    "                )\n",
    "\n",
    "            # Note that txn_type is redundant info (e.g. can be derived from +/- of amount)\n",
    "            self.txns_list.append([ timestep, 'send', self.id, self.type,\n",
    "                my_partner.id, my_partner.type, -amount, self.acct_balance])\n",
    "\n",
    "            my_partner.txns_list.append([\n",
    "                timestep, 'receive', self.id, self.type, my_partner.id, my_partner.type,\n",
    "                amount, my_partner.acct_balance])\n",
    "\n",
    "    def cleanup(self):\n",
    "        self.txns = pd.DataFrame(self.txns_list,\n",
    "            columns=['timestep', 'txn_type', 'sender_id', 'sender_type', \n",
    "            'receiver_id', 'receiver_type', 'amount', 'acct_balance',] )"
   ]
  },
  {
   "cell_type": "markdown",
   "metadata": {},
   "source": [
    "# parameters"
   ]
  },
  {
   "cell_type": "code",
   "execution_count": 467,
   "metadata": {},
   "outputs": [],
   "source": [
    "NUM_AGENTS_PER_TYPE = {\n",
    "    'normal': 100,\n",
    "    'suspicious': 10, \n",
    "}\n",
    "\n",
    "MEAN_TXN_HRS = {'normal':14, \n",
    "                'suspicious':22}\n",
    "\n",
    "MINS_PER_STEP = 15\n",
    "\n",
    "MEAN_TXN_AMOUNTS = {'normal':250, \n",
    "                'suspicious':50}\n",
    "\n",
    "\n",
    "parameters = {\n",
    "    'num_agents_per_type': NUM_AGENTS_PER_TYPE,\n",
    "    'mean_txn_hrs': MEAN_TXN_HRS,\n",
    "    'mean_txn_amounts ': MEAN_TXN_AMOUNTS,\n",
    "    'mean_txns': 4, # avg num txns each agent makes\n",
    "    'starting_balance': 100,\n",
    "    'seed': 42,\n",
    "    'mins_per_step' : MINS_PER_STEP, # 1 hr\n",
    "    'steps': int(24 * (60/MINS_PER_STEP)), # 24 hours * steps per hr\n",
    "}\n",
    "\n",
    "# For plotting\n",
    "def timestep_to_time(timestep):\n",
    "    date_and_time = datetime.datetime(2022, 10, 31, 0, 0, 0)\n",
    "    time_elapsed = timestep * (parameters['mins_per_step'])\n",
    "    time_change = datetime.timedelta(minutes=time_elapsed)\n",
    "    new_time = date_and_time + time_change\n",
    "    return new_time"
   ]
  },
  {
   "cell_type": "markdown",
   "metadata": {},
   "source": [
    "# model"
   ]
  },
  {
   "cell_type": "code",
   "execution_count": 482,
   "metadata": {},
   "outputs": [],
   "source": [
    "class BankModel(ap.Model):\n",
    "    def setup(self):\n",
    "        self.p_txns = setup_p_txns(self.p.steps) \n",
    "        num_agents = sum(self.p.num_agents_per_type.values())\n",
    "        \n",
    "        # Setup up rng to generate seeds for rngs for agents\n",
    "        rng = np.random.default_rng(self.p.seed)\n",
    "        agent_rng_seeds = rng.random(num_agents).round(3) * 1000\n",
    "        agent_rng_seeds = np.array(agent_rng_seeds, dtype=int)\n",
    "\n",
    "        self.agents = ap.AgentList(self) \n",
    "        # -- shift the tables \n",
    "        for type in ['normal', 'suspicious']:\n",
    "            hrs_mean = self.p.mean_txn_hrs[type]\n",
    "            # shift in steps\n",
    "            # originally peak at 0, now peak at (mean time)\n",
    "            shift_amt = hrs_mean * int(60 / self.p.mins_per_step)\n",
    "            shifted = np.concatenate(\n",
    "                (self.p_txns[-shift_amt:], self.p_txns[:-shift_amt]))\n",
    "            agents = ap.AgentList(\n",
    "                self, self.p.num_agents_per_type[type], BankAgent)\n",
    "\n",
    "            agents.txn_probabilities = shifted\n",
    "            agents.total_steps = self.p.steps \n",
    "            agents.acct_balance = 100\n",
    "            agents.type = type\n",
    "\n",
    "            self.agents += agents\n",
    "\n",
    "        if DEBUG:\n",
    "            print('here are all the agetns: ')\n",
    "            print(self.agents)\n",
    "            print([(agent.id,agent.type) for agent in self.agents])\n",
    "\n",
    "        # calcuations for txn values\n",
    "        txn_amt_rngs = ap.AttrIter(\n",
    "            [np.random.default_rng(seed) for seed in agent_rng_seeds])\n",
    "        self.agents.txn_amt_rng = txn_amt_rngs\n",
    "\n",
    "        for agent in self.agents:\n",
    "            agent.setup_txn_amts(\n",
    "                mean=20, stddev=5, total_steps=self.p.steps)\n",
    "\n",
    "    def step(self):\n",
    "        self.agents.transact(self.t)\n",
    "\n",
    "    def update(self):\n",
    "        pass\n",
    "        '''\n",
    "        if DEBUG:\n",
    "            total_txns = 0\n",
    "            for agent in self.agents:\n",
    "                num_txns = agent.txns[agent.txns.txn_type == 'send'].shape[0]\n",
    "                total_txns += num_txns\n",
    "            print('num txns (across all agents)', total_txns)\n",
    "        '''\n",
    "\n",
    "    def end(self):\n",
    "        self.agents.record('send_txn_times')\n",
    "        \n",
    "        for agent in self.agents:\n",
    "            agent.cleanup()"
   ]
  },
  {
   "cell_type": "code",
   "execution_count": 483,
   "metadata": {},
   "outputs": [
    {
     "data": {
      "text/plain": [
       "0.30471707975443135"
      ]
     },
     "execution_count": 483,
     "metadata": {},
     "output_type": "execute_result"
    }
   ],
   "source": [
    "np.random.default_rng(42).normal()"
   ]
  },
  {
   "cell_type": "markdown",
   "metadata": {},
   "source": [
    "# run"
   ]
  },
  {
   "cell_type": "code",
   "execution_count": 484,
   "metadata": {},
   "outputs": [
    {
     "name": "stdout",
     "output_type": "stream",
     "text": [
      "Completed: 96 steps\n",
      "Run time: 0:00:00.139871\n",
      "Simulation finished\n"
     ]
    }
   ],
   "source": [
    "model = BankModel(parameters)\n",
    "results = model.run()"
   ]
  },
  {
   "cell_type": "markdown",
   "metadata": {},
   "source": [
    "# Plot"
   ]
  },
  {
   "cell_type": "code",
   "execution_count": 485,
   "metadata": {},
   "outputs": [],
   "source": [
    "# For plotting\n",
    "def timestep_to_time(timestep):\n",
    "    date_and_time = datetime.datetime(2022, 10, 31, 0, 0, 0)\n",
    "    time_elapsed = timestep * (parameters['mins_per_step'])\n",
    "    time_change = datetime.timedelta(minutes=time_elapsed)\n",
    "    new_time = date_and_time + time_change\n",
    "    return new_time"
   ]
  },
  {
   "cell_type": "code",
   "execution_count": 486,
   "metadata": {},
   "outputs": [
    {
     "data": {
      "text/html": [
       "<div>\n",
       "<style scoped>\n",
       "    .dataframe tbody tr th:only-of-type {\n",
       "        vertical-align: middle;\n",
       "    }\n",
       "\n",
       "    .dataframe tbody tr th {\n",
       "        vertical-align: top;\n",
       "    }\n",
       "\n",
       "    .dataframe thead th {\n",
       "        text-align: right;\n",
       "    }\n",
       "</style>\n",
       "<table border=\"1\" class=\"dataframe\">\n",
       "  <thead>\n",
       "    <tr style=\"text-align: right;\">\n",
       "      <th></th>\n",
       "      <th>timestep</th>\n",
       "      <th>txn_type</th>\n",
       "      <th>sender_id</th>\n",
       "      <th>sender_type</th>\n",
       "      <th>receiver_id</th>\n",
       "      <th>receiver_type</th>\n",
       "      <th>amount</th>\n",
       "      <th>acct_balance</th>\n",
       "    </tr>\n",
       "  </thead>\n",
       "  <tbody>\n",
       "    <tr>\n",
       "      <th>0</th>\n",
       "      <td>42</td>\n",
       "      <td>receive</td>\n",
       "      <td>98</td>\n",
       "      <td>normal</td>\n",
       "      <td>1</td>\n",
       "      <td>normal</td>\n",
       "      <td>21.177328</td>\n",
       "      <td>121.177328</td>\n",
       "    </tr>\n",
       "    <tr>\n",
       "      <th>1</th>\n",
       "      <td>56</td>\n",
       "      <td>receive</td>\n",
       "      <td>48</td>\n",
       "      <td>normal</td>\n",
       "      <td>1</td>\n",
       "      <td>normal</td>\n",
       "      <td>22.194552</td>\n",
       "      <td>143.371879</td>\n",
       "    </tr>\n",
       "    <tr>\n",
       "      <th>2</th>\n",
       "      <td>57</td>\n",
       "      <td>receive</td>\n",
       "      <td>65</td>\n",
       "      <td>normal</td>\n",
       "      <td>1</td>\n",
       "      <td>normal</td>\n",
       "      <td>22.868953</td>\n",
       "      <td>166.240833</td>\n",
       "    </tr>\n",
       "    <tr>\n",
       "      <th>3</th>\n",
       "      <td>60</td>\n",
       "      <td>receive</td>\n",
       "      <td>100</td>\n",
       "      <td>normal</td>\n",
       "      <td>1</td>\n",
       "      <td>normal</td>\n",
       "      <td>23.636450</td>\n",
       "      <td>189.877283</td>\n",
       "    </tr>\n",
       "    <tr>\n",
       "      <th>4</th>\n",
       "      <td>62</td>\n",
       "      <td>send</td>\n",
       "      <td>1</td>\n",
       "      <td>normal</td>\n",
       "      <td>86</td>\n",
       "      <td>normal</td>\n",
       "      <td>-16.819260</td>\n",
       "      <td>173.058023</td>\n",
       "    </tr>\n",
       "    <tr>\n",
       "      <th>5</th>\n",
       "      <td>64</td>\n",
       "      <td>send</td>\n",
       "      <td>1</td>\n",
       "      <td>normal</td>\n",
       "      <td>52</td>\n",
       "      <td>normal</td>\n",
       "      <td>-16.109051</td>\n",
       "      <td>156.948972</td>\n",
       "    </tr>\n",
       "    <tr>\n",
       "      <th>6</th>\n",
       "      <td>67</td>\n",
       "      <td>receive</td>\n",
       "      <td>52</td>\n",
       "      <td>normal</td>\n",
       "      <td>1</td>\n",
       "      <td>normal</td>\n",
       "      <td>24.493819</td>\n",
       "      <td>181.442791</td>\n",
       "    </tr>\n",
       "    <tr>\n",
       "      <th>7</th>\n",
       "      <td>75</td>\n",
       "      <td>send</td>\n",
       "      <td>1</td>\n",
       "      <td>normal</td>\n",
       "      <td>73</td>\n",
       "      <td>normal</td>\n",
       "      <td>-24.358861</td>\n",
       "      <td>157.083930</td>\n",
       "    </tr>\n",
       "  </tbody>\n",
       "</table>\n",
       "</div>"
      ],
      "text/plain": [
       "   timestep txn_type  sender_id sender_type  receiver_id receiver_type  \\\n",
       "0        42  receive         98      normal            1        normal   \n",
       "1        56  receive         48      normal            1        normal   \n",
       "2        57  receive         65      normal            1        normal   \n",
       "3        60  receive        100      normal            1        normal   \n",
       "4        62     send          1      normal           86        normal   \n",
       "5        64     send          1      normal           52        normal   \n",
       "6        67  receive         52      normal            1        normal   \n",
       "7        75     send          1      normal           73        normal   \n",
       "\n",
       "      amount  acct_balance  \n",
       "0  21.177328    121.177328  \n",
       "1  22.194552    143.371879  \n",
       "2  22.868953    166.240833  \n",
       "3  23.636450    189.877283  \n",
       "4 -16.819260    173.058023  \n",
       "5 -16.109051    156.948972  \n",
       "6  24.493819    181.442791  \n",
       "7 -24.358861    157.083930  "
      ]
     },
     "metadata": {},
     "output_type": "display_data"
    }
   ],
   "source": [
    "if DEBUG:\n",
    "    for agent in model.agents:\n",
    "        print(agent.txns)\n",
    "display(model.agents[0].txns)"
   ]
  },
  {
   "cell_type": "code",
   "execution_count": 473,
   "metadata": {},
   "outputs": [],
   "source": [
    "# transaction amount, sender, receiver, timestamp"
   ]
  },
  {
   "cell_type": "code",
   "execution_count": 474,
   "metadata": {},
   "outputs": [
    {
     "data": {
      "text/plain": [
       "{'model_type': 'BankModel',\n",
       " 'time_stamp': '2022-12-09 18:41:48',\n",
       " 'agentpy_version': '0.1.5',\n",
       " 'python_version': '3.10.',\n",
       " 'experiment': False,\n",
       " 'completed': True,\n",
       " 'created_objects': 110,\n",
       " 'completed_steps': 96,\n",
       " 'run_time': '0:00:00.147302'}"
      ]
     },
     "execution_count": 474,
     "metadata": {},
     "output_type": "execute_result"
    }
   ],
   "source": [
    "results.info"
   ]
  },
  {
   "cell_type": "code",
   "execution_count": 475,
   "metadata": {},
   "outputs": [],
   "source": [
    "# okay so now i want to... uh... okay histogram plot of when txns are occuring\n",
    "# then i want to ... make a network of who transacted with who"
   ]
  },
  {
   "cell_type": "code",
   "execution_count": 476,
   "metadata": {},
   "outputs": [],
   "source": [
    "if DEBUG:\n",
    "    model.agents.acct_balance"
   ]
  },
  {
   "cell_type": "code",
   "execution_count": 477,
   "metadata": {},
   "outputs": [
    {
     "data": {
      "text/plain": [
       "[(9, 8), (6, 8), (5, 8), (6, 8), (8, 8), (9, 8), (8, 8), (15, 8), (12, 8), (10, 8), (8, 8), (9, 8), (11, 8), (7, 8), (7, 8), (7, 8), (6, 8), (9, 8), (7, 8), (6, 8), (11, 8), (10, 8), (6, 8), (4, 8), (10, 8), (7, 8), (3, 8), (13, 8), (10, 8), (10, 8), (9, 8), (10, 8), (7, 8), (7, 8), (9, 8), (6, 8), (4, 8), (10, 8), (5, 8), (5, 8), (6, 8), (5, 8), (7, 8), (11, 8), (4, 8), (5, 8), (7, 8), (5, 8), (10, 8), (8, 8), (5, 8), (10, 8), (9, 8), (7, 8), (14, 8), (2, 8), (7, 8), (7, 8), (10, 8), (7, 8), (8, 8), (6, 8), (9, 8), (4, 8), (6, 8), (8, 8), (3, 8), (7, 8), (9, 8), (11, 8), (11, 8), (9, 8), (7, 8), (4, 8), (10, 8), (5, 8), (8, 8), (9, 8), (6, 8), (5, 8), (7, 8), (10, 8), (5, 8), (9, 8), (11, 8), (7, 8), (4, 8), (7, 8), (3, 8), (8, 8), (5, 8), (6, 8), (7, 8), (10, 8), (4, 8), (6, 8), (10, 8), (10, 8), (7, 8), (7, 8), (8, 8), (4, 8), (8, 8), (10, 8), (4, 8), (4, 8), (7, 8), (6, 8), (7, 8), (5, 8)]"
      ]
     },
     "execution_count": 477,
     "metadata": {},
     "output_type": "execute_result"
    }
   ],
   "source": [
    "#sns.histplot(model.agents.acct_balance)\n",
    "model.agents[0].txns#.where('txn_type\n",
    "model.agents.txns.shape\n",
    "#model.agents.txns[1]"
   ]
  },
  {
   "cell_type": "code",
   "execution_count": 478,
   "metadata": {},
   "outputs": [
    {
     "data": {
      "text/html": [
       "<div>\n",
       "<style scoped>\n",
       "    .dataframe tbody tr th:only-of-type {\n",
       "        vertical-align: middle;\n",
       "    }\n",
       "\n",
       "    .dataframe tbody tr th {\n",
       "        vertical-align: top;\n",
       "    }\n",
       "\n",
       "    .dataframe thead th {\n",
       "        text-align: right;\n",
       "    }\n",
       "</style>\n",
       "<table border=\"1\" class=\"dataframe\">\n",
       "  <thead>\n",
       "    <tr style=\"text-align: right;\">\n",
       "      <th></th>\n",
       "      <th>send_txn_times</th>\n",
       "    </tr>\n",
       "  </thead>\n",
       "  <tbody>\n",
       "    <tr>\n",
       "      <th>373</th>\n",
       "      <td>2022-10-31 00:30:00</td>\n",
       "    </tr>\n",
       "    <tr>\n",
       "      <th>396</th>\n",
       "      <td>2022-10-31 00:45:00</td>\n",
       "    </tr>\n",
       "    <tr>\n",
       "      <th>380</th>\n",
       "      <td>2022-10-31 00:45:00</td>\n",
       "    </tr>\n",
       "    <tr>\n",
       "      <th>374</th>\n",
       "      <td>2022-10-31 01:00:00</td>\n",
       "    </tr>\n",
       "    <tr>\n",
       "      <th>397</th>\n",
       "      <td>2022-10-31 01:15:00</td>\n",
       "    </tr>\n",
       "    <tr>\n",
       "      <th>...</th>\n",
       "      <td>...</td>\n",
       "    </tr>\n",
       "    <tr>\n",
       "      <th>379</th>\n",
       "      <td>2022-10-31 23:15:00</td>\n",
       "    </tr>\n",
       "    <tr>\n",
       "      <th>399</th>\n",
       "      <td>2022-10-31 23:15:00</td>\n",
       "    </tr>\n",
       "    <tr>\n",
       "      <th>408</th>\n",
       "      <td>2022-10-31 23:15:00</td>\n",
       "    </tr>\n",
       "    <tr>\n",
       "      <th>402</th>\n",
       "      <td>2022-10-31 23:30:00</td>\n",
       "    </tr>\n",
       "    <tr>\n",
       "      <th>389</th>\n",
       "      <td>2022-10-31 23:30:00</td>\n",
       "    </tr>\n",
       "  </tbody>\n",
       "</table>\n",
       "<p>409 rows × 1 columns</p>\n",
       "</div>"
      ],
      "text/plain": [
       "         send_txn_times\n",
       "373 2022-10-31 00:30:00\n",
       "396 2022-10-31 00:45:00\n",
       "380 2022-10-31 00:45:00\n",
       "374 2022-10-31 01:00:00\n",
       "397 2022-10-31 01:15:00\n",
       "..                  ...\n",
       "379 2022-10-31 23:15:00\n",
       "399 2022-10-31 23:15:00\n",
       "408 2022-10-31 23:15:00\n",
       "402 2022-10-31 23:30:00\n",
       "389 2022-10-31 23:30:00\n",
       "\n",
       "[409 rows x 1 columns]"
      ]
     },
     "execution_count": 478,
     "metadata": {},
     "output_type": "execute_result"
    }
   ],
   "source": [
    "all_txns = []\n",
    "for agent in model.agents:\n",
    "    #print(agent.id, 'with txns at timesteps: ',  agent.send_txn_times)\n",
    "    #print('aka times: ') \n",
    "\n",
    "    for timestamp in agent.send_txn_times:\n",
    "        #print( timestep_to_time(timestamp).strftime('%H:%M'))\n",
    "        all_txns.append(timestep_to_time(timestamp))\n",
    "    #print('the partners were: ', agent.txns[agent.txns.txn_type =='send'].receiver_id)\n",
    "all_txns = pd.DataFrame( all_txns, columns=['send_txn_times' ])\n",
    "all_txns.sort_values(by='send_txn_times')"
   ]
  },
  {
   "cell_type": "code",
   "execution_count": 479,
   "metadata": {},
   "outputs": [
    {
     "data": {
      "text/plain": [
       "array([0.   , 0.   , 0.   , 0.   , 0.   , 0.   , 0.   , 0.   , 0.   ,\n",
       "       0.   , 0.   , 0.   , 0.   , 0.   , 0.   , 0.   , 0.   , 0.   ,\n",
       "       0.   , 0.   , 0.   , 0.   , 0.   , 0.   , 0.   , 0.   , 0.   ,\n",
       "       0.001, 0.001, 0.001, 0.001, 0.002, 0.002, 0.003, 0.003, 0.004,\n",
       "       0.005, 0.006, 0.008, 0.009, 0.011, 0.013, 0.015, 0.018, 0.02 ,\n",
       "       0.023, 0.025, 0.028, 0.031, 0.033, 0.035, 0.037, 0.039, 0.04 ,\n",
       "       0.041, 0.041, 0.041, 0.041, 0.04 , 0.039, 0.037, 0.035, 0.033,\n",
       "       0.031, 0.028, 0.025, 0.023, 0.02 , 0.018, 0.015, 0.013, 0.011,\n",
       "       0.009, 0.008, 0.006, 0.005, 0.004, 0.003, 0.003, 0.002, 0.002,\n",
       "       0.001, 0.001, 0.001, 0.001, 0.   , 0.   , 0.   , 0.   , 0.   ,\n",
       "       0.   , 0.   , 0.   , 0.   , 0.   , 0.   ])"
      ]
     },
     "metadata": {},
     "output_type": "display_data"
    }
   ],
   "source": [
    "with np.printoptions(precision=3, suppress=True):\n",
    "    display(model.agents[0].txn_probabilities)"
   ]
  },
  {
   "cell_type": "code",
   "execution_count": null,
   "metadata": {},
   "outputs": [],
   "source": []
  },
  {
   "cell_type": "code",
   "execution_count": 480,
   "metadata": {},
   "outputs": [],
   "source": [
    "all_txns.index = all_txns.send_txn_times\n",
    "resampled = all_txns.send_txn_times.resample('15Min')#.count().plot()\n",
    "#resampled = all_txns.send_txn_times.resample('1H')#.count().plot()\n",
    "resampled.count()\n",
    "df = pd.DataFrame(resampled.count())\n",
    "df.columns=['num_txns']\n",
    "df['labels'] = pd.to_datetime(df.index).strftime('%H:%M')"
   ]
  },
  {
   "cell_type": "code",
   "execution_count": 481,
   "metadata": {},
   "outputs": [
    {
     "data": {
      "image/png": "[encoded data removed]",
      "text/plain": [
       "<Figure size 1080x576 with 1 Axes>"
      ]
     },
     "metadata": {},
     "output_type": "display_data"
    }
   ],
   "source": [
    "fig, ax = plt.subplots(figsize=(15,8))\n",
    "sns.lineplot(x='send_txn_times', y='num_txns', data=df, ax=ax,\n",
    "    markers=True,  marker='o')\n",
    "\n",
    "# -- \n",
    "# format\n",
    "sns.set_style('whitegrid')\n",
    "sns.set_context('poster')\n",
    "\n",
    "ax.set(xlabel='Time (24 Hour)', ylabel='# of Transactions',\n",
    "# add title \n",
    "title=r\"$\\bf{Simulated\\ Transactions\\ by\\ Time–of–Day}$\" \n",
    "    f\"\\n# Accounts, Normal: {parameters['num_agents_per_type']['normal']}, \"\n",
    "    f\"Suspicious: {parameters['num_agents_per_type']['suspicious']}\\n\"\n",
    "    f\"Mean txn time, Normal: {parameters['mean_txn_hrs']['normal']}:00,\"\n",
    "    f\" Suspicious: {parameters['mean_txn_hrs']['suspicious']}:00\"\n",
    "    )\n",
    "\n",
    "# \n",
    "ax.xaxis.set_major_locator(mdates.HourLocator(interval=2))\n",
    "ax.xaxis.set_minor_locator(mdates.HourLocator(interval=1))\n",
    "ax.xaxis.set_major_formatter(DateFormatter(\"%H:%M\"))"
   ]
  },
  {
   "cell_type": "code",
   "execution_count": null,
   "metadata": {},
   "outputs": [],
   "source": []
  },
  {
   "cell_type": "code",
   "execution_count": null,
   "metadata": {},
   "outputs": [],
   "source": []
  },
  {
   "cell_type": "code",
   "execution_count": null,
   "metadata": {},
   "outputs": [],
   "source": []
  }
 ],
 "metadata": {
  "kernelspec": {
   "display_name": "Python 3.10.5 ('v3')",
   "language": "python",
   "name": "python3"
  },
  "language_info": {
   "codemirror_mode": {
    "name": "ipython",
    "version": 3
   },
   "file_extension": ".py",
   "mimetype": "text/x-python",
   "name": "python",
   "nbconvert_exporter": "python",
   "pygments_lexer": "ipython3",
   "version": "3.10.5"
  },
  "orig_nbformat": 4,
  "vscode": {
   "interpreter": {
    "hash": "7605221d54420214921005f3a3f402d7571e3f80342b3638f6ed8edbc81e4638"
   }
  }
 },
 "nbformat": 4,
 "nbformat_minor": 2
}
