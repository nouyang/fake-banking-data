{
 "cells": [
  {
   "cell_type": "code",
   "execution_count": 2,
   "metadata": {},
   "outputs": [
    {
     "ename": "SyntaxError",
     "evalue": "invalid syntax (2988153278.py, line 3)",
     "output_type": "error",
     "traceback": [
      "\u001b[0;36m  Input \u001b[0;32mIn [2]\u001b[0;36m\u001b[0m\n\u001b[0;31m    Thought: with the type, we could set it within the agent itself.\u001b[0m\n\u001b[0m             ^\u001b[0m\n\u001b[0;31mSyntaxError\u001b[0m\u001b[0;31m:\u001b[0m invalid syntax\n"
     ]
    }
   ],
   "source": [
    "# So ... each agent also has a type ideally\n",
    "\n",
    "#Thought: with the type, we could set it within the agent itself.\n",
    "#That way only need to pass the type?\n",
    "#\n",
    "#I guess that agents don't have access to the model?"
   ]
  },
  {
   "cell_type": "code",
   "execution_count": 41,
   "metadata": {},
   "outputs": [],
   "source": [
    "# https://stackoverflow.com/questions/19620498/how-to-create-a-utility-class-correctly"
   ]
  },
  {
   "cell_type": "code",
   "execution_count": 42,
   "metadata": {},
   "outputs": [],
   "source": [
    "DEBUG = False\n",
    "\n",
    "def setup_p_txns(total_steps):\n",
    "    # Mean at 0\n",
    "    max_std_devs = 5 # \n",
    "\n",
    "    if DEBUG:\n",
    "        # Note: scipy norm has stddev = 1, mean of 0\n",
    "        # Below shows why we pick max_std_devs = 5\n",
    "        p_txn = scipy.integrate.quad(\n",
    "                scipy.stats.norm.pdf, -5, 5)[0] # quad() Returns: value, error\n",
    "        print('In total we will capture this amount of the gaussian: ', p_txn)\n",
    "    \n",
    "    txn_probabilities = []\n",
    "\n",
    "    std_dev_per_step = 2 * max_std_devs / total_steps\n",
    "\n",
    "    for step in range(total_steps):\n",
    "        p_txn = \\\n",
    "            scipy.integrate.quad(\n",
    "                scipy.stats.norm.pdf, \n",
    "                step * std_dev_per_step, (step+1) * std_dev_per_step\n",
    "            ) # returns: (integration) value, error\n",
    "        txn_probabilities.append(p_txn[0])\n",
    "    if DEBUG:\n",
    "        txn_probabilities[0] = 1 # set p_txn to 1 to always transact\n",
    "        txn_probabilities[-1] = 1\n",
    "        txn_probabilities[1:-1] = 0\n",
    "    return txn_probabilities"
   ]
  },
  {
   "cell_type": "markdown",
   "metadata": {},
   "source": [
    "# Okay... so... \n",
    "We have agents...\n",
    "\n",
    "Suspicious ones\n",
    "Not suspicious ones\n",
    "\n",
    "\n",
    "Transactions should have:\n",
    "\n",
    "\n",
    "We also want to export the network of transactions\n",
    "\n",
    "So... the data we want are... \n",
    "\n",
    "sender - receiver - amount - timestamp\n",
    "\n",
    "parameters:\n",
    "\n",
    "num of agents,\n",
    "avg txn hr -> so at any given point, the likelihood of making a transaction\n",
    "\n",
    "avg txn value\n",
    "distribution of p per agent type \n",
    "starting balance\n",
    "\n",
    "\n"
   ]
  },
  {
   "cell_type": "code",
   "execution_count": 43,
   "metadata": {},
   "outputs": [],
   "source": [
    "# export some... network graphs i guess....\n",
    "# also want to make some classifieirs"
   ]
  },
  {
   "cell_type": "code",
   "execution_count": 44,
   "metadata": {},
   "outputs": [],
   "source": [
    "# Model design\n",
    "import agentpy as ap\n",
    "import numpy as np\n",
    "\n",
    "# Visualization\n",
    "import seaborn as sns\n",
    "import pandas as pd\n",
    "\n",
    "import scipy.stats\n",
    "import datetime\n",
    "import matplotlib.pyplot as plt"
   ]
  },
  {
   "cell_type": "code",
   "execution_count": 99,
   "metadata": {},
   "outputs": [
    {
     "data": {
      "text/plain": [
       "array([-1.03998411])"
      ]
     },
     "execution_count": 99,
     "metadata": {},
     "output_type": "execute_result"
    }
   ],
   "source": [
    "# work\n",
    "rng = np.random.default_rng(42)\n",
    "rng.random()\n",
    "rng.normal(loc=0, scale=1, size=1)"
   ]
  },
  {
   "cell_type": "code",
   "execution_count": 123,
   "metadata": {},
   "outputs": [],
   "source": [
    "class BankAgent(ap.Agent):\n",
    "    def setup(self):\n",
    "        self.txn_amt_rng = None \n",
    "        self.txn_probabilities = None \n",
    "        self.type = None \n",
    "        self.acct_balance = None \n",
    "\n",
    "        self.txns = pd.DataFrame(\n",
    "                columns=['timestep', 'sender_id', 'sender_type', \n",
    "                 'receiver_id', 'receiver_type', 'amount', 'acct_balance']\n",
    "        )\n",
    "        self.txn_amts = None\n",
    "\n",
    "    def setup_txn_amts(self, mean=100, stddev=10, total_steps=0):\n",
    "        self.txn_amts = self.txn_amt_rng.normal(\n",
    "            loc=mean, scale=stddev, \n",
    "            size=total_steps)\n",
    "\n",
    "    def transact(self, timestep):\n",
    "        #shift = self.mean * 4 # WARNING hardcoded 4\n",
    "        p_txn = self.txn_probabilities[timestep-1]\n",
    "        if np.random.random() < p_txn and self.acct_balance > 0:\n",
    "            # randomly choose partner\n",
    "            partner = self.model.agents.random()\n",
    "            # randomly choose amount\n",
    "            amount = self.txn_amts[timestep]\n",
    "\n",
    "            print('transacted. timestep', timestep, f'ptxn: {p_txn:.3f}',\n",
    "            'with partner: ', *partner.id, 'new balance: ', self.acct_balance)\n",
    "\n",
    "            # calculations\n",
    "            partner.acct_balance += amount\n",
    "            self.acct_balance -= amount\n",
    "\n",
    "            # record\n",
    "            self.txns.loc[len(self.txns.index)] = [\n",
    "                timestep, self.id, self.type, *partner.id, partner.type,\n",
    "                amount, self.acct_balance]"
   ]
  },
  {
   "cell_type": "markdown",
   "metadata": {},
   "source": [
    "# parameters"
   ]
  },
  {
   "cell_type": "code",
   "execution_count": 136,
   "metadata": {},
   "outputs": [],
   "source": [
    "        #self.txn_value_rng = p.rng\n",
    "        #self.txn_probabilities = p.txn_probabilities\n",
    "        ##self.p.type = 'default'\n",
    "        #self.type = self.p.type\n",
    "        #self.acct_balance = self.p.init_acct_balance\n",
    "\n",
    "MEAN_TXN_HRS = {'normal':14, \n",
    "                'suspicious':22}\n",
    "MINS_PER_STEP = 15\n",
    "\n",
    "MEAN_TXN_AMOUNTS = {'normal':250, \n",
    "                'suspicious':50}\n",
    "\n",
    "NUM_AGENTS_PER_TYPE = {'normal': 10,\n",
    "    'suspicious': 2\n",
    "}\n",
    "\n",
    "parameters = {\n",
    "    'num_agents_per_type': NUM_AGENTS_PER_TYPE,\n",
    "    'mean_txn_hrs': MEAN_TXN_HRS,\n",
    "    'mean_txn_amounts ': MEAN_TXN_AMOUNTS,\n",
    "    'starting_balance': 100,\n",
    "    'seed': 42,\n",
    "    'mins_per_step' : MINS_PER_STEP, # 1 hr\n",
    "    'steps': int(24 * (60/MINS_PER_STEP)), # 24 hours * steps per hr\n",
    "}\n",
    "\n",
    "# For plotting\n",
    "def timestep_to_time(timestep):\n",
    "    date_and_time = datetime.datetime(2022, 10, 31, 0, 0, 0)\n",
    "    time_elapsed = timestep * (parameters['mins_per_step'])\n",
    "    time_change = datetime.timedelta(minutes=time_elapsed)\n",
    "    new_time = date_and_time + time_change\n",
    "    return new_time"
   ]
  },
  {
   "cell_type": "code",
   "execution_count": 137,
   "metadata": {},
   "outputs": [
    {
     "data": {
      "text/plain": [
       "dict_values([1, 2])"
      ]
     },
     "execution_count": 137,
     "metadata": {},
     "output_type": "execute_result"
    }
   ],
   "source": [
    "a = {'asdf':1, 'dfg':2}\n",
    "a.values()"
   ]
  },
  {
   "cell_type": "code",
   "execution_count": 138,
   "metadata": {},
   "outputs": [
    {
     "data": {
      "text/plain": [
       "array([774., 439., 859., 697.,  94., 976., 761., 786., 128., 450.])"
      ]
     },
     "execution_count": 138,
     "metadata": {},
     "output_type": "execute_result"
    }
   ],
   "source": [
    "np.random.default_rng(42).random(10).round(3) * 1000"
   ]
  },
  {
   "cell_type": "code",
   "execution_count": null,
   "metadata": {},
   "outputs": [],
   "source": []
  },
  {
   "cell_type": "code",
   "execution_count": null,
   "metadata": {},
   "outputs": [],
   "source": []
  },
  {
   "cell_type": "code",
   "execution_count": 148,
   "metadata": {},
   "outputs": [],
   "source": [
    "class BankModel(ap.Model):\n",
    "    def setup(self):\n",
    "        self.p_txns = setup_p_txns(self.p.steps) \n",
    "        num_agents = sum(self.p.num_agents_per_type.values())\n",
    "        \n",
    "        # Setup up rng to generate seeds for rngs for agents\n",
    "        rng = np.random.default_rng(self.p.seed)\n",
    "        agent_rng_seeds = rng.random(num_agents).round(3) * 1000\n",
    "        agent_rng_seeds = np.array(agent_rng_seeds, dtype=int)\n",
    "\n",
    "        list_agents = []\n",
    "        for type in ['normal', 'suspicious']:\n",
    "\n",
    "            hrs_mean = self.p.mean_txn_hrs[type]\n",
    "            shift = hrs_mean * int(60 / self.p.mins_per_step)\n",
    "            # shift in steps\n",
    "            shifted = np.concatenate(\n",
    "                (self.p_txns[-shift:], self.p_txns[:-shift]))\n",
    "            agents = ap.AgentList(\n",
    "                self, self.p.num_agents_per_type[type], BankAgent)\n",
    "\n",
    "            agents.txn_probabilities = shifted\n",
    "            agents.total_steps = self.p.steps \n",
    "            agents.acct_balance = 100\n",
    "            agents.type = type\n",
    "\n",
    "            list_agents.append(agents)\n",
    "\n",
    "        print('here are all the agetns: ')\n",
    "        print(list_agents)\n",
    "        # make all the agents\n",
    "        self.agents = ap.AgentList(self, list_agents)\n",
    "        print('here are all the agetns: ')\n",
    "        print(self.agents)\n",
    "\n",
    "        # calcuations for txn values\n",
    "        txn_amt_rngs = ap.AttrIter(\n",
    "            [np.random.default_rng(seed) for seed in agent_rng_seeds])\n",
    "        self.agents.txn_amt_rng = txn_amt_rngs\n",
    "\n",
    "        for agent in self.agents:\n",
    "            agent.setup_txn_amts(mean=100, stddev=10, total_steps=self.p.steps)\n",
    "            print(agent.id)\n",
    "\n",
    "\n",
    "    def step(self):\n",
    "        self.agents.transact(self.t)\n",
    "\n",
    "    def update(self):\n",
    "        #self.record(foo_bar)\n",
    "        total_txns = 0\n",
    "        for agent in self.agents:\n",
    "            total_txns += len(agent.txns.shape[0])\n",
    "        self.record('num txns (across all agents)', total_txns)\n",
    "\n",
    "    def end(self):\n",
    "        self.agents.record('txns')"
   ]
  },
  {
   "cell_type": "code",
   "execution_count": 149,
   "metadata": {},
   "outputs": [
    {
     "data": {
      "text/plain": [
       "0.30471707975443135"
      ]
     },
     "execution_count": 149,
     "metadata": {},
     "output_type": "execute_result"
    }
   ],
   "source": [
    "np.random.default_rng(42).normal()"
   ]
  },
  {
   "cell_type": "code",
   "execution_count": 150,
   "metadata": {},
   "outputs": [
    {
     "name": "stdout",
     "output_type": "stream",
     "text": [
      "here are all the agetns: \n",
      "[AgentList (10 objects), AgentList (2 objects)]\n",
      "here are all the agetns: \n",
      "AgentList (2 objects)\n",
      "[1, 2, 3, 4, 5, 6, 7, 8, 9, 10]\n",
      "[11, 12]\n",
      "Completed: 1 stepstransacted. timestep 2 ptxn: 0.025 with partner:  [11, 12] new balance:  100\n",
      "Completed: 8 stepstransacted. timestep 9 ptxn: 0.009 with partner:  [1, 2, 3, 4, 5, 6, 7, 8, 9, 10] new balance:  202.06340463336144\n",
      "Completed: 66 stepstransacted. timestep 67 ptxn: 0.023 with partner:  [1, 2, 3, 4, 5, 6, 7, 8, 9, 10] new balance:  210.6678496245907\n",
      "Completed: 67 stepstransacted. timestep 68 ptxn: 0.020 with partner:  [1, 2, 3, 4, 5, 6, 7, 8, 9, 10] new balance:  327.28299152154574\n",
      "transacted. timestep 68 ptxn: 0.020 with partner:  [1, 2, 3, 4, 5, 6, 7, 8, 9, 10] new balance:  439.6125781854531\n",
      "Completed: 70 stepstransacted. timestep 71 ptxn: 0.013 with partner:  [1, 2, 3, 4, 5, 6, 7, 8, 9, 10] new balance:  542.0109655258894\n",
      "Completed: 96 steps\n",
      "Run time: 0:00:00.100184\n",
      "Simulation finished\n"
     ]
    }
   ],
   "source": [
    "model = BankModel(parameters)\n",
    "results = model.run()"
   ]
  },
  {
   "cell_type": "markdown",
   "metadata": {},
   "source": [
    "# run model"
   ]
  }
 ],
 "metadata": {
  "kernelspec": {
   "display_name": "Python 3.10.5 ('v3')",
   "language": "python",
   "name": "python3"
  },
  "language_info": {
   "codemirror_mode": {
    "name": "ipython",
    "version": 3
   },
   "file_extension": ".py",
   "mimetype": "text/x-python",
   "name": "python",
   "nbconvert_exporter": "python",
   "pygments_lexer": "ipython3",
   "version": "3.10.5"
  },
  "orig_nbformat": 4,
  "vscode": {
   "interpreter": {
    "hash": "7605221d54420214921005f3a3f402d7571e3f80342b3638f6ed8edbc81e4638"
   }
  }
 },
 "nbformat": 4,
 "nbformat_minor": 2
}
