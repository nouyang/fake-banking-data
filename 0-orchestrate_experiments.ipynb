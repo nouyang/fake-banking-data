{
 "cells": [
  {
   "cell_type": "code",
   "execution_count": 1,
   "metadata": {},
   "outputs": [],
   "source": [
    "#import matplotlib\n",
    "%matplotlib widget\n",
    "import seaborn as sns\n",
    "import matplotlib.pyplot as plt\n",
    "#import ipympl"
   ]
  },
  {
   "cell_type": "code",
   "execution_count": 2,
   "metadata": {},
   "outputs": [],
   "source": [
    "import agent_based_model as abm \n",
    "import importlib"
   ]
  },
  {
   "cell_type": "code",
   "execution_count": 3,
   "metadata": {},
   "outputs": [],
   "source": [
    "sns.reset_defaults()\n",
    "#sns.set_context('notebook')\n",
    "sns.set_theme(palette='viridis')\n",
    "sns.set_context('talk')\n",
    "sns.set_style('whitegrid')"
   ]
  },
  {
   "cell_type": "markdown",
   "metadata": {},
   "source": [
    "# debug here"
   ]
  },
  {
   "cell_type": "code",
   "execution_count": 31,
   "metadata": {},
   "outputs": [],
   "source": [
    "import json\n",
    "aparameters = { \n",
    "    'param': {'akey':123}\n",
    "}\n",
    "\n",
    "\n",
    "aparameters['param'] = json.dumps(aparameters['param'])\n",
    "aparameters['param'] = json.loads(aparameters['param'])\n",
    "# GUH stuck on \n",
    "# AttributeError: 'str' object has no attribute 'read' \n",
    "# bc i used load instead of loads. This library naming continues to be awful"
   ]
  },
  {
   "cell_type": "code",
   "execution_count": 21,
   "metadata": {},
   "outputs": [
    {
     "name": "stdout",
     "output_type": "stream",
     "text": [
      "parameters sweep;  {'mean_num_txns': '{\"normal\": 4, \"suspicious\": 10}', 'mean_txn_amounts': '\"{\\\\\"normal\\\\\": 250, \\\\\"suspicious\\\\\": 50}\"', 'agent_type_pair_probs': '{\"normal\": {\"self\": 0.9, \"suspicious\": 0.1}, \"suspicious\": {\"self\": 0.7, \"normal\": 0.3}}', 'mean_txn_hrs': '{\"normal\": 14, \"suspicious\": 22}', 'mean_txn_amounts ': frozendict.frozendict({'normal': 250, 'suspicious': 50}), 'num_agents_per_type': '{\"normal\": 1000}', 'mean_txns': 4, 'starting_balance': 100, 'seed': 42, 'mins_per_step': 15, 'steps': 96, 'percent_sus': 0.01} 0.01\n",
      "created sample;  Sample of 1 parameter combinations\n",
      "unflattening\n",
      "unflattening key mean_num_txns {\"normal\": 4, \"suspicious\": 10} of type <class 'str'>\n"
     ]
    },
    {
     "ename": "AttributeError",
     "evalue": "'str' object has no attribute 'read'",
     "output_type": "error",
     "traceback": [
      "\u001b[0;31m---------------------------------------------------------------------------\u001b[0m",
      "\u001b[0;31mAttributeError\u001b[0m                            Traceback (most recent call last)",
      "\u001b[1;32m/Users/owls/Documents/projects/fake-banking-data/0-orchestrate_experiments.ipynb Cell 5\u001b[0m in \u001b[0;36m<cell line: 2>\u001b[0;34m()\u001b[0m\n\u001b[1;32m      <a href='vscode-notebook-cell:/Users/owls/Documents/projects/fake-banking-data/0-orchestrate_experiments.ipynb#ch0000004?line=0'>1</a>\u001b[0m importlib\u001b[39m.\u001b[39mreload(abm)\n\u001b[0;32m----> <a href='vscode-notebook-cell:/Users/owls/Documents/projects/fake-banking-data/0-orchestrate_experiments.ipynb#ch0000004?line=1'>2</a>\u001b[0m results \u001b[39m=\u001b[39m abm\u001b[39m.\u001b[39;49mrun_custom_exp(viz\u001b[39m=\u001b[39;49m\u001b[39mFalse\u001b[39;49;00m)\n",
      "File \u001b[0;32m~/Documents/projects/fake-banking-data/agent_based_model.py:516\u001b[0m, in \u001b[0;36mrun_custom_exp\u001b[0;34m(viz)\u001b[0m\n\u001b[1;32m    513\u001b[0m     model \u001b[39m=\u001b[39m BankModel(parameters_exp)\n\u001b[1;32m    514\u001b[0m     \u001b[39m# or at least try default params\u001b[39;00m\n\u001b[1;32m    515\u001b[0m     \u001b[39m# model = BankModel(Utility.get_default_params())\u001b[39;00m\n\u001b[0;32m--> 516\u001b[0m     results \u001b[39m=\u001b[39m model\u001b[39m.\u001b[39;49mrun()\n\u001b[1;32m    517\u001b[0m     \u001b[39mprint\u001b[39m(\u001b[39m'\u001b[39m\u001b[39mfinished test run with default params\u001b[39m\u001b[39m'\u001b[39m)\n\u001b[1;32m    519\u001b[0m \u001b[39m'''\u001b[39;00m\n\u001b[1;32m    520\u001b[0m \u001b[39mprint('~---- treying to create exp')\u001b[39;00m\n\u001b[1;32m    521\u001b[0m \u001b[39mexp = ap.Experiment(BankModel, parameters_exp)\u001b[39;00m\n\u001b[1;32m    522\u001b[0m \u001b[39mprint('created exp; ', exp)\u001b[39;00m\n\u001b[1;32m    523\u001b[0m \u001b[39m'''\u001b[39;00m\n",
      "File \u001b[0;32m~/v3/lib/python3.10/site-packages/agentpy/model.py:376\u001b[0m, in \u001b[0;36mModel.run\u001b[0;34m(self, steps, seed, display)\u001b[0m\n\u001b[1;32m    347\u001b[0m \u001b[39m\"\"\" Executes the simulation of the model.\u001b[39;00m\n\u001b[1;32m    348\u001b[0m \u001b[39mCan also be used to continue a partly-run simulation\u001b[39;00m\n\u001b[1;32m    349\u001b[0m \u001b[39mfor a given number of additional steps.\u001b[39;00m\n\u001b[0;32m   (...)\u001b[0m\n\u001b[1;32m    372\u001b[0m \n\u001b[1;32m    373\u001b[0m \u001b[39m\"\"\"\u001b[39;00m\n\u001b[1;32m    375\u001b[0m dt0 \u001b[39m=\u001b[39m datetime\u001b[39m.\u001b[39mnow()\n\u001b[0;32m--> 376\u001b[0m \u001b[39mself\u001b[39;49m\u001b[39m.\u001b[39;49msim_setup(steps, seed)\n\u001b[1;32m    377\u001b[0m \u001b[39mwhile\u001b[39;00m \u001b[39mself\u001b[39m\u001b[39m.\u001b[39mrunning:\n\u001b[1;32m    378\u001b[0m     \u001b[39mself\u001b[39m\u001b[39m.\u001b[39msim_step()\n",
      "File \u001b[0;32m~/v3/lib/python3.10/site-packages/agentpy/model.py:316\u001b[0m, in \u001b[0;36mModel.sim_setup\u001b[0;34m(self, steps, seed)\u001b[0m\n\u001b[1;32m    313\u001b[0m \u001b[39mself\u001b[39m\u001b[39m.\u001b[39m_partly_run \u001b[39m=\u001b[39m \u001b[39mTrue\u001b[39;00m\n\u001b[1;32m    315\u001b[0m \u001b[39m# Execute setup and first update\u001b[39;00m\n\u001b[0;32m--> 316\u001b[0m \u001b[39mself\u001b[39;49m\u001b[39m.\u001b[39;49msetup(\u001b[39m*\u001b[39;49m\u001b[39m*\u001b[39;49m\u001b[39mself\u001b[39;49m\u001b[39m.\u001b[39;49m_setup_kwargs)\n\u001b[1;32m    317\u001b[0m \u001b[39mself\u001b[39m\u001b[39m.\u001b[39mupdate()\n\u001b[1;32m    319\u001b[0m \u001b[39m# Stop simulation if t too high\u001b[39;00m\n",
      "File \u001b[0;32m~/Documents/projects/fake-banking-data/agent_based_model.py:232\u001b[0m, in \u001b[0;36mBankModel.setup\u001b[0;34m(self)\u001b[0m\n\u001b[1;32m    230\u001b[0m \u001b[39mdef\u001b[39;00m \u001b[39msetup\u001b[39m(\u001b[39mself\u001b[39m):\n\u001b[1;32m    231\u001b[0m     \u001b[39mprint\u001b[39m(\u001b[39m'\u001b[39m\u001b[39munflattening\u001b[39m\u001b[39m'\u001b[39m)\n\u001b[0;32m--> 232\u001b[0m     \u001b[39mself\u001b[39m\u001b[39m.\u001b[39mp \u001b[39m=\u001b[39m Utility\u001b[39m.\u001b[39;49munflatten_params(\u001b[39mself\u001b[39;49m\u001b[39m.\u001b[39;49mp)\n\u001b[1;32m    234\u001b[0m     \u001b[39mself\u001b[39m\u001b[39m.\u001b[39mp_txns \u001b[39m=\u001b[39m Utility\u001b[39m.\u001b[39msetup_p_txns(\u001b[39mself\u001b[39m\u001b[39m.\u001b[39mp\u001b[39m.\u001b[39msteps)\n\u001b[1;32m    236\u001b[0m     \u001b[39mprint\u001b[39m(\u001b[39m'\u001b[39m\u001b[39msetting up\u001b[39m\u001b[39m'\u001b[39m)\n",
      "File \u001b[0;32m~/Documents/projects/fake-banking-data/agent_based_model.py:102\u001b[0m, in \u001b[0;36mUtility.unflatten_params\u001b[0;34m(params)\u001b[0m\n\u001b[1;32m    100\u001b[0m \u001b[39mfor\u001b[39;00m key \u001b[39min\u001b[39;00m ORNERY_KEYS:\n\u001b[1;32m    101\u001b[0m     \u001b[39mprint\u001b[39m(\u001b[39m'\u001b[39m\u001b[39munflattening key\u001b[39m\u001b[39m'\u001b[39m, key, params[key], \u001b[39m'\u001b[39m\u001b[39mof type\u001b[39m\u001b[39m'\u001b[39m, \u001b[39mtype\u001b[39m(key))\n\u001b[0;32m--> 102\u001b[0m     params[key] \u001b[39m=\u001b[39m json\u001b[39m.\u001b[39;49mload(params[key])\n\u001b[1;32m    103\u001b[0m \u001b[39mreturn\u001b[39;00m params\n",
      "File \u001b[0;32m/Library/Frameworks/Python.framework/Versions/3.10/lib/python3.10/json/__init__.py:293\u001b[0m, in \u001b[0;36mload\u001b[0;34m(fp, cls, object_hook, parse_float, parse_int, parse_constant, object_pairs_hook, **kw)\u001b[0m\n\u001b[1;32m    274\u001b[0m \u001b[39mdef\u001b[39;00m \u001b[39mload\u001b[39m(fp, \u001b[39m*\u001b[39m, \u001b[39mcls\u001b[39m\u001b[39m=\u001b[39m\u001b[39mNone\u001b[39;00m, object_hook\u001b[39m=\u001b[39m\u001b[39mNone\u001b[39;00m, parse_float\u001b[39m=\u001b[39m\u001b[39mNone\u001b[39;00m,\n\u001b[1;32m    275\u001b[0m         parse_int\u001b[39m=\u001b[39m\u001b[39mNone\u001b[39;00m, parse_constant\u001b[39m=\u001b[39m\u001b[39mNone\u001b[39;00m, object_pairs_hook\u001b[39m=\u001b[39m\u001b[39mNone\u001b[39;00m, \u001b[39m*\u001b[39m\u001b[39m*\u001b[39mkw):\n\u001b[1;32m    276\u001b[0m     \u001b[39m\"\"\"Deserialize ``fp`` (a ``.read()``-supporting file-like object containing\u001b[39;00m\n\u001b[1;32m    277\u001b[0m \u001b[39m    a JSON document) to a Python object.\u001b[39;00m\n\u001b[1;32m    278\u001b[0m \n\u001b[0;32m   (...)\u001b[0m\n\u001b[1;32m    291\u001b[0m \u001b[39m    kwarg; otherwise ``JSONDecoder`` is used.\u001b[39;00m\n\u001b[1;32m    292\u001b[0m \u001b[39m    \"\"\"\u001b[39;00m\n\u001b[0;32m--> 293\u001b[0m     \u001b[39mreturn\u001b[39;00m loads(fp\u001b[39m.\u001b[39;49mread(),\n\u001b[1;32m    294\u001b[0m         \u001b[39mcls\u001b[39m\u001b[39m=\u001b[39m\u001b[39mcls\u001b[39m, object_hook\u001b[39m=\u001b[39mobject_hook,\n\u001b[1;32m    295\u001b[0m         parse_float\u001b[39m=\u001b[39mparse_float, parse_int\u001b[39m=\u001b[39mparse_int,\n\u001b[1;32m    296\u001b[0m         parse_constant\u001b[39m=\u001b[39mparse_constant, object_pairs_hook\u001b[39m=\u001b[39mobject_pairs_hook, \u001b[39m*\u001b[39m\u001b[39m*\u001b[39mkw)\n",
      "\u001b[0;31mAttributeError\u001b[0m: 'str' object has no attribute 'read'"
     ]
    }
   ],
   "source": [
    "importlib.reload(abm)\n",
    "results = abm.run_custom_exp(viz=False)\n",
    "#results = abm.run_default_model(viz=False)\n"
   ]
  },
  {
   "cell_type": "code",
   "execution_count": null,
   "metadata": {},
   "outputs": [
    {
     "ename": "AttributeError",
     "evalue": "'dict' object has no attribute 'unique'",
     "output_type": "error",
     "traceback": [
      "\u001b[0;31m---------------------------------------------------------------------------\u001b[0m",
      "\u001b[0;31mAttributeError\u001b[0m                            Traceback (most recent call last)",
      "\u001b[1;32m/Users/owls/Documents/projects/fake-banking-data/0-orchestrate_experiments.ipynb Cell 7\u001b[0m in \u001b[0;36m<cell line: 4>\u001b[0;34m()\u001b[0m\n\u001b[1;32m      <a href='vscode-notebook-cell:/Users/owls/Documents/projects/fake-banking-data/0-orchestrate_experiments.ipynb#ch0000034?line=1'>2</a>\u001b[0m afoo \u001b[39m=\u001b[39m {\u001b[39m'\u001b[39m\u001b[39masbc\u001b[39m\u001b[39m'\u001b[39m: {\u001b[39m1\u001b[39m: \u001b[39m123\u001b[39m}}\n\u001b[1;32m      <a href='vscode-notebook-cell:/Users/owls/Documents/projects/fake-banking-data/0-orchestrate_experiments.ipynb#ch0000034?line=2'>3</a>\u001b[0m bfoo \u001b[39m=\u001b[39m pd\u001b[39m.\u001b[39mDataFrame()\n\u001b[0;32m----> <a href='vscode-notebook-cell:/Users/owls/Documents/projects/fake-banking-data/0-orchestrate_experiments.ipynb#ch0000034?line=3'>4</a>\u001b[0m afoo\u001b[39m.\u001b[39;49munique()\n",
      "\u001b[0;31mAttributeError\u001b[0m: 'dict' object has no attribute 'unique'"
     ]
    }
   ],
   "source": [
    "import pandas as pd\n",
    "afoo = {'asbc': {1: 123}}\n",
    "bfoo = pd.DataFrame()\n",
    "afoo.unique()"
   ]
  },
  {
   "cell_type": "code",
   "execution_count": null,
   "metadata": {},
   "outputs": [],
   "source": [
    "\n",
    "    121 for col in df.columns:\n",
    "    122     s = df[col]\n",
    "--> 123     if len(s.unique()) == 1:\n",
    "    124         fixed_pars[s.name] = df[col][0]\n",
    "    125         df.drop(col, inplace=True, axis=1)\n",
    "\n",
    "File ~/v3/lib/python3.10/site-packages/pandas/core/series\n",
    "\n",
    "\n",
    "File ~/v3/lib/python3.10/site-packages/pandas/core/series.py:2088, in Series.unique(self)\n",
    "   2030 def unique(self) -> ArrayLike:\n",
    "   2031     \"\"\"\n",
    "   2032     Return unique values of Series object.\n",
    "   2033 \n",
    "   (...)\n",
    "   2086     Categories (3, object): ['a' < 'b' < 'c']\n",
    "   2087     \"\"\""
   ]
  },
  {
   "cell_type": "code",
   "execution_count": null,
   "metadata": {},
   "outputs": [
    {
     "name": "stdout",
     "output_type": "stream",
     "text": [
      "    parameters_multi = {\n",
      "    #parameters_multi['percent_sus'] = ap.Values(10, 1, 0.1)\n",
      "    print('parameters sweep; ', parameters_multi,\n",
      "          parameters_multi['percent_sus'])\n",
      "    sample = ap.Sample(parameters_multi) # grid search, each repeat 1x\n",
      "    #model = BankModel(parameters_multi)\n",
      "    #exp = ap.Experiment(BankModel, parameters_multi)\n"
     ]
    }
   ],
   "source": [
    "!cat agent_based_model.py | grep parameters_multi"
   ]
  },
  {
   "cell_type": "markdown",
   "metadata": {},
   "source": [
    "# other"
   ]
  },
  {
   "cell_type": "code",
   "execution_count": null,
   "metadata": {},
   "outputs": [],
   "source": []
  },
  {
   "cell_type": "code",
   "execution_count": null,
   "metadata": {},
   "outputs": [],
   "source": [
    "import agentpy as ap"
   ]
  },
  {
   "cell_type": "code",
   "execution_count": null,
   "metadata": {},
   "outputs": [
    {
     "name": "stdout",
     "output_type": "stream",
     "text": [
      "parameters sweep;  {'mean_num_txns': {'normal': 4, 'suspicious': 10}, 'mean_txn_amounts': {'normal': 250, 'suspicious': 50}, 'num_agents_per_type': {'normal': 1000}, 'agent_type_pair_probs': {'normal': {'self': 0.9, 'suspicious': 0.1}, 'suspicious': {'self': 0.7, 'normal': 0.3}}, 'mean_txn_hrs': {'normal': 14, 'suspicious': 22}, 'mean_txn_amounts ': {'normal': 250, 'suspicious': 50}, 'mean_txns': 4, 'starting_balance': 100, 'seed': 42, 'mins_per_step': 15, 'steps': 96, 'percent_sus': Set of 3 parameter values} value  0.01\n",
      "created sample;  Sample of 3 parameter combinations\n"
     ]
    }
   ],
   "source": [
    "NUM_AGENTS_PER_TYPE = {\n",
    "    'normal': 1000,\n",
    "    # 'suspicious': 10, \n",
    "}\n",
    "\n",
    "# these are send, rcv pairs \n",
    "AGENT_TYPE_PAIR_PROBS = {\n",
    "    'normal': {\n",
    "        'self': 0.9,\n",
    "        'suspicious': 0.1 },\n",
    "    'suspicious': {\n",
    "        'self': 0.7,\n",
    "        'normal': 0.3\n",
    "    } }\n",
    "\n",
    "MEAN_TXN_HRS = {'normal': 14,\n",
    "                'suspicious': 22}\n",
    "\n",
    "MEAN_TXN_AMOUNTS = {'normal': 250,\n",
    "                    'suspicious': 50}  # this shoudl actually vary...\n",
    "\n",
    "MEAN_NUM_TXNS = { 'normal': 4, \n",
    "                    'suspicious': 10 }\n",
    "MINS_PER_STEP = 15\n",
    "\n",
    "parameters = {\n",
    "    'mean_num_txns': MEAN_NUM_TXNS,\n",
    "    'mean_txn_amounts': MEAN_TXN_AMOUNTS,\n",
    "    'num_agents_per_type': NUM_AGENTS_PER_TYPE,\n",
    "    'agent_type_pair_probs': AGENT_TYPE_PAIR_PROBS,\n",
    "    'mean_txn_hrs': MEAN_TXN_HRS,\n",
    "    'mean_txn_amounts ': MEAN_TXN_AMOUNTS,\n",
    "    'mean_txns': 4,  # avg num txns each agent makes\n",
    "    'starting_balance': 100,\n",
    "    'seed': 42,\n",
    "    'mins_per_step': MINS_PER_STEP,  # 1 hr\n",
    "    'steps': int(24 * (60/MINS_PER_STEP)),  # 24 hours * steps per hr\n",
    "# hardcode, since can't give combo of options between the two\n",
    "    'percent_sus': 1/100,\n",
    "}\n",
    "# --- NOTE: Setting experiment here! \n",
    "parameters_multi = dict(parameters)\n",
    "parameters_multi.update({\n",
    "    'percent_sus': ap.Values(10, 1, 0.1),\n",
    "    })\n",
    "print('parameters sweep; ', parameters_multi, 'value ', parameters['percent_sus'])\n",
    "\n",
    "sample = ap.Sample(parameters_multi) # grid search, each repeat 1x\n",
    "print('created sample; ', sample)"
   ]
  },
  {
   "cell_type": "code",
   "execution_count": null,
   "metadata": {},
   "outputs": [
    {
     "data": {
      "text/plain": [
       "Sample of 3 parameter combinations"
      ]
     },
     "execution_count": 48,
     "metadata": {},
     "output_type": "execute_result"
    }
   ],
   "source": [
    "sample"
   ]
  },
  {
   "cell_type": "code",
   "execution_count": null,
   "metadata": {},
   "outputs": [
    {
     "ename": "TypeError",
     "evalue": "unhashable type: 'dict'",
     "output_type": "error",
     "traceback": [
      "\u001b[0;31m---------------------------------------------------------------------------\u001b[0m",
      "\u001b[0;31mTypeError\u001b[0m                                 Traceback (most recent call last)",
      "\u001b[1;32m/Users/owls/Documents/projects/fake-banking-data/0-orchestrate_experiments.ipynb Cell 18\u001b[0m in \u001b[0;36m<cell line: 1>\u001b[0;34m()\u001b[0m\n\u001b[0;32m----> <a href='vscode-notebook-cell:/Users/owls/Documents/projects/fake-banking-data/0-orchestrate_experiments.ipynb#ch0000012?line=0'>1</a>\u001b[0m exp \u001b[39m=\u001b[39m ap\u001b[39m.\u001b[39;49mExperiment(abm\u001b[39m.\u001b[39;49mBankModel, sample, iterations\u001b[39m=\u001b[39;49m\u001b[39m1\u001b[39;49m)\n\u001b[1;32m      <a href='vscode-notebook-cell:/Users/owls/Documents/projects/fake-banking-data/0-orchestrate_experiments.ipynb#ch0000012?line=1'>2</a>\u001b[0m \u001b[39mprint\u001b[39m(\u001b[39m'\u001b[39m\u001b[39mcreated exp; \u001b[39m\u001b[39m'\u001b[39m, exp)\n\u001b[1;32m      <a href='vscode-notebook-cell:/Users/owls/Documents/projects/fake-banking-data/0-orchestrate_experiments.ipynb#ch0000012?line=2'>3</a>\u001b[0m \u001b[39m#return exp\u001b[39;00m\n",
      "File \u001b[0;32m~/v3/lib/python3.10/site-packages/agentpy/experiment.py:114\u001b[0m, in \u001b[0;36mExperiment.__init__\u001b[0;34m(self, model_class, sample, iterations, record, randomize, **kwargs)\u001b[0m\n\u001b[1;32m    100\u001b[0m \u001b[39m# Prepare output\u001b[39;00m\n\u001b[1;32m    101\u001b[0m \u001b[39mself\u001b[39m\u001b[39m.\u001b[39moutput\u001b[39m.\u001b[39minfo \u001b[39m=\u001b[39m {\n\u001b[1;32m    102\u001b[0m     \u001b[39m'\u001b[39m\u001b[39mmodel_type\u001b[39m\u001b[39m'\u001b[39m: model_class\u001b[39m.\u001b[39m\u001b[39m__name__\u001b[39m,\n\u001b[1;32m    103\u001b[0m     \u001b[39m'\u001b[39m\u001b[39mtime_stamp\u001b[39m\u001b[39m'\u001b[39m: \u001b[39mstr\u001b[39m(datetime\u001b[39m.\u001b[39mnow()),\n\u001b[0;32m   (...)\u001b[0m\n\u001b[1;32m    112\u001b[0m     \u001b[39m'\u001b[39m\u001b[39miterations\u001b[39m\u001b[39m'\u001b[39m: iterations\n\u001b[1;32m    113\u001b[0m }\n\u001b[0;32m--> 114\u001b[0m \u001b[39mself\u001b[39;49m\u001b[39m.\u001b[39;49m_parameters_to_output()\n",
      "File \u001b[0;32m~/v3/lib/python3.10/site-packages/agentpy/experiment.py:123\u001b[0m, in \u001b[0;36mExperiment._parameters_to_output\u001b[0;34m(self)\u001b[0m\n\u001b[1;32m    121\u001b[0m \u001b[39mfor\u001b[39;00m col \u001b[39min\u001b[39;00m df\u001b[39m.\u001b[39mcolumns:\n\u001b[1;32m    122\u001b[0m     s \u001b[39m=\u001b[39m df[col]\n\u001b[0;32m--> 123\u001b[0m     \u001b[39mif\u001b[39;00m \u001b[39mlen\u001b[39m(s\u001b[39m.\u001b[39;49munique()) \u001b[39m==\u001b[39m \u001b[39m1\u001b[39m:\n\u001b[1;32m    124\u001b[0m         fixed_pars[s\u001b[39m.\u001b[39mname] \u001b[39m=\u001b[39m df[col][\u001b[39m0\u001b[39m]\n\u001b[1;32m    125\u001b[0m         df\u001b[39m.\u001b[39mdrop(col, inplace\u001b[39m=\u001b[39m\u001b[39mTrue\u001b[39;00m, axis\u001b[39m=\u001b[39m\u001b[39m1\u001b[39m)\n",
      "File \u001b[0;32m~/v3/lib/python3.10/site-packages/pandas/core/series.py:2088\u001b[0m, in \u001b[0;36mSeries.unique\u001b[0;34m(self)\u001b[0m\n\u001b[1;32m   2030\u001b[0m \u001b[39mdef\u001b[39;00m \u001b[39munique\u001b[39m(\u001b[39mself\u001b[39m) \u001b[39m-\u001b[39m\u001b[39m>\u001b[39m ArrayLike:\n\u001b[1;32m   2031\u001b[0m     \u001b[39m\"\"\"\u001b[39;00m\n\u001b[1;32m   2032\u001b[0m \u001b[39m    Return unique values of Series object.\u001b[39;00m\n\u001b[1;32m   2033\u001b[0m \n\u001b[0;32m   (...)\u001b[0m\n\u001b[1;32m   2086\u001b[0m \u001b[39m    Categories (3, object): ['a' < 'b' < 'c']\u001b[39;00m\n\u001b[1;32m   2087\u001b[0m \u001b[39m    \"\"\"\u001b[39;00m\n\u001b[0;32m-> 2088\u001b[0m     \u001b[39mreturn\u001b[39;00m \u001b[39msuper\u001b[39;49m()\u001b[39m.\u001b[39;49munique()\n",
      "File \u001b[0;32m~/v3/lib/python3.10/site-packages/pandas/core/base.py:989\u001b[0m, in \u001b[0;36mIndexOpsMixin.unique\u001b[0;34m(self)\u001b[0m\n\u001b[1;32m    987\u001b[0m             result \u001b[39m=\u001b[39m np\u001b[39m.\u001b[39masarray(result)\n\u001b[1;32m    988\u001b[0m \u001b[39melse\u001b[39;00m:\n\u001b[0;32m--> 989\u001b[0m     result \u001b[39m=\u001b[39m unique1d(values)\n\u001b[1;32m    991\u001b[0m \u001b[39mreturn\u001b[39;00m result\n",
      "File \u001b[0;32m~/v3/lib/python3.10/site-packages/pandas/core/algorithms.py:440\u001b[0m, in \u001b[0;36munique\u001b[0;34m(values)\u001b[0m\n\u001b[1;32m    437\u001b[0m htable, values \u001b[39m=\u001b[39m _get_hashtable_algo(values)\n\u001b[1;32m    439\u001b[0m table \u001b[39m=\u001b[39m htable(\u001b[39mlen\u001b[39m(values))\n\u001b[0;32m--> 440\u001b[0m uniques \u001b[39m=\u001b[39m table\u001b[39m.\u001b[39;49munique(values)\n\u001b[1;32m    441\u001b[0m uniques \u001b[39m=\u001b[39m _reconstruct_data(uniques, original\u001b[39m.\u001b[39mdtype, original)\n\u001b[1;32m    442\u001b[0m \u001b[39mreturn\u001b[39;00m uniques\n",
      "File \u001b[0;32mpandas/_libs/hashtable_class_helper.pxi:5361\u001b[0m, in \u001b[0;36mpandas._libs.hashtable.PyObjectHashTable.unique\u001b[0;34m()\u001b[0m\n",
      "File \u001b[0;32mpandas/_libs/hashtable_class_helper.pxi:5310\u001b[0m, in \u001b[0;36mpandas._libs.hashtable.PyObjectHashTable._unique\u001b[0;34m()\u001b[0m\n",
      "\u001b[0;31mTypeError\u001b[0m: unhashable type: 'dict'"
     ]
    }
   ],
   "source": [
    "exp = ap.Experiment(abm.BankModel, sample, iterations=1)\n",
    "print('created exp; ', exp)\n",
    "#return exp\n",
    "results = exp.run()\n",
    "print('ran exp; ', results)\n",
    "#results.save()\n"
   ]
  },
  {
   "cell_type": "code",
   "execution_count": null,
   "metadata": {},
   "outputs": [],
   "source": [
    "fig, model, results = abm.run_exp(viz=True)\n",
    "plt.tight_layout()\n",
    "plt.show()"
   ]
  },
  {
   "cell_type": "code",
   "execution_count": null,
   "metadata": {},
   "outputs": [],
   "source": [
    "#   "
   ]
  },
  {
   "cell_type": "markdown",
   "metadata": {},
   "source": []
  }
 ],
 "metadata": {
  "kernelspec": {
   "display_name": "Python 3.10.5 ('v3')",
   "language": "python",
   "name": "python3"
  },
  "language_info": {
   "codemirror_mode": {
    "name": "ipython",
    "version": 3
   },
   "file_extension": ".py",
   "mimetype": "text/x-python",
   "name": "python",
   "nbconvert_exporter": "python",
   "pygments_lexer": "ipython3",
   "version": "3.10.5"
  },
  "orig_nbformat": 4,
  "vscode": {
   "interpreter": {
    "hash": "7605221d54420214921005f3a3f402d7571e3f80342b3638f6ed8edbc81e4638"
   }
  }
 },
 "nbformat": 4,
 "nbformat_minor": 2
}
