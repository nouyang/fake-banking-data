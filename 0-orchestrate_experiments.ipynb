{
 "cells": [
  {
   "cell_type": "code",
   "execution_count": 57,
   "metadata": {},
   "outputs": [],
   "source": [
    "import matplotlib\n",
    "%matplotlib widget\n",
    "import seaborn as sns\n",
    "import matplotlib.pyplot as plt\n",
    "#import ipympl"
   ]
  },
  {
   "cell_type": "code",
   "execution_count": 58,
   "metadata": {},
   "outputs": [
    {
     "data": {
      "text/plain": [
       "<module 'agent_based_model' from '/Users/owls/Documents/projects/fake-banking-data/agent_based_model.py'>"
      ]
     },
     "execution_count": 58,
     "metadata": {},
     "output_type": "execute_result"
    }
   ],
   "source": [
    "import agent_based_model as abm \n",
    "import importlib\n",
    "importlib.reload(abm)\n"
   ]
  },
  {
   "cell_type": "code",
   "execution_count": 59,
   "metadata": {},
   "outputs": [],
   "source": [
    "sns.reset_defaults()\n",
    "#sns.set_context('notebook')\n",
    "sns.set_theme(palette='viridis')\n",
    "sns.set_context('talk')\n",
    "sns.set_style('whitegrid')"
   ]
  },
  {
   "cell_type": "code",
   "execution_count": 60,
   "metadata": {},
   "outputs": [
    {
     "name": "stdout",
     "output_type": "stream",
     "text": [
      "{'normal': 1000, 'suspicious': 10}\n",
      "Completed: 96 steps\n",
      "Run time: 0:00:00.621334\n",
      "Simulation finished\n",
      "sanity check, agent 0s txns    timestep txn_type  sender_id sender_type  receiver_id receiver_type  \\\n",
      "0        42  receive        511      normal            1        normal   \n",
      "1        50  receive        598      normal            1        normal   \n",
      "2        59     send          1      normal          153        normal   \n",
      "3        62     send          1      normal          744        normal   \n",
      "\n",
      "        amount  acct_balance  \n",
      "0  5524.252388   5624.252388  \n",
      "1  3007.095942   8631.348330  \n",
      "2 -4936.113824   3695.234506  \n",
      "3 -4204.814891   -509.580386  \n"
     ]
    },
    {
     "ename": "UnboundLocalError",
     "evalue": "local variable 'fig' referenced before assignment",
     "output_type": "error",
     "traceback": [
      "\u001b[0;31m---------------------------------------------------------------------------\u001b[0m",
      "\u001b[0;31mUnboundLocalError\u001b[0m                         Traceback (most recent call last)",
      "\u001b[1;32m/Users/owls/Documents/projects/fake-banking-data/0-orchestrate_experiments.ipynb Cell 4\u001b[0m in \u001b[0;36m<cell line: 1>\u001b[0;34m()\u001b[0m\n\u001b[0;32m----> <a href='vscode-notebook-cell:/Users/owls/Documents/projects/fake-banking-data/0-orchestrate_experiments.ipynb#ch0000022?line=0'>1</a>\u001b[0m fig, model, results \u001b[39m=\u001b[39m abm\u001b[39m.\u001b[39;49mrun_exp()\n\u001b[1;32m      <a href='vscode-notebook-cell:/Users/owls/Documents/projects/fake-banking-data/0-orchestrate_experiments.ipynb#ch0000022?line=1'>2</a>\u001b[0m plt\u001b[39m.\u001b[39mtight_layout()\n\u001b[1;32m      <a href='vscode-notebook-cell:/Users/owls/Documents/projects/fake-banking-data/0-orchestrate_experiments.ipynb#ch0000022?line=2'>3</a>\u001b[0m plt\u001b[39m.\u001b[39mshow()\n",
      "File \u001b[0;32m~/Documents/projects/fake-banking-data/agent_based_model.py:484\u001b[0m, in \u001b[0;36mrun_exp\u001b[0;34m(viz)\u001b[0m\n\u001b[1;32m    481\u001b[0m     fig \u001b[39m=\u001b[39m viz_data(df) \n\u001b[1;32m    482\u001b[0m     \u001b[39mprint\u001b[39m(\u001b[39m'\u001b[39m\u001b[39mdone\u001b[39m\u001b[39m'\u001b[39m)\n\u001b[0;32m--> 484\u001b[0m \u001b[39mreturn\u001b[39;00m fig, model, results\n",
      "\u001b[0;31mUnboundLocalError\u001b[0m: local variable 'fig' referenced before assignment"
     ]
    }
   ],
   "source": [
    "fig, model, results = abm.run_exp(viz=True)\n",
    "plt.tight_layout()\n",
    "plt.show()"
   ]
  },
  {
   "cell_type": "code",
   "execution_count": null,
   "metadata": {},
   "outputs": [],
   "source": []
  },
  {
   "cell_type": "code",
   "execution_count": null,
   "metadata": {},
   "outputs": [],
   "source": []
  }
 ],
 "metadata": {
  "kernelspec": {
   "display_name": "Python 3.10.5 ('v3')",
   "language": "python",
   "name": "python3"
  },
  "language_info": {
   "codemirror_mode": {
    "name": "ipython",
    "version": 3
   },
   "file_extension": ".py",
   "mimetype": "text/x-python",
   "name": "python",
   "nbconvert_exporter": "python",
   "pygments_lexer": "ipython3",
   "version": "3.10.5"
  },
  "orig_nbformat": 4,
  "vscode": {
   "interpreter": {
    "hash": "7605221d54420214921005f3a3f402d7571e3f80342b3638f6ed8edbc81e4638"
   }
  }
 },
 "nbformat": 4,
 "nbformat_minor": 2
}
