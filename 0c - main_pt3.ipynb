{
 "cells": [
  {
   "cell_type": "markdown",
   "metadata": {},
   "source": [
    "# Okay... so... \n",
    "\n",
    "Change which agents you choose partner from\n",
    "\n",
    "\n",
    "-> also... ........ Vary it for downstream analysis?"
   ]
  },
  {
   "cell_type": "code",
   "execution_count": 1,
   "metadata": {},
   "outputs": [],
   "source": [
    "# Model design\n",
    "import agentpy as ap\n",
    "import numpy as np\n",
    "\n",
    "# Visualization\n",
    "import seaborn as sns\n",
    "import pandas as pd\n",
    "\n",
    "import scipy.stats\n",
    "import datetime\n",
    "import matplotlib.pyplot as plt\n",
    "\n",
    "from matplotlib.dates import DateFormatter\n",
    "import matplotlib.dates as mdates\n",
    "\n",
    "import networkx as nx"
   ]
  },
  {
   "cell_type": "markdown",
   "metadata": {},
   "source": [
    "# utility functions"
   ]
  },
  {
   "cell_type": "markdown",
   "metadata": {},
   "source": [
    "### setup_p_txns"
   ]
  },
  {
   "cell_type": "code",
   "execution_count": 2,
   "metadata": {},
   "outputs": [],
   "source": [
    "DEBUG = False\n",
    "\n",
    "def setup_p_txns(total_steps):\n",
    "    # Mean at 0\n",
    "    max_std_devs = 5 # \n",
    "\n",
    "    if DEBUG:\n",
    "        # Note: scipy norm has stddev = 1, mean of 0\n",
    "        # Below shows why we pick max_std_devs = 5\n",
    "        p_txn = scipy.integrate.quad(\n",
    "                scipy.stats.norm.pdf, -5, 5)[0] # quad() Returns: value, error\n",
    "        print('In total we will capture this amount of the gaussian: ', p_txn)\n",
    "    \n",
    "    txn_probabilities = np.ones(total_steps) * -1\n",
    "\n",
    "    std_dev_per_step = 2 * max_std_devs / total_steps\n",
    "\n",
    "    for step in range(total_steps):\n",
    "        p_txn = \\\n",
    "            scipy.integrate.quad(\n",
    "                scipy.stats.norm.pdf, \n",
    "                -max_std_devs + step * std_dev_per_step, \n",
    "                -max_std_devs + (step+1) * std_dev_per_step\n",
    "            ) # returns: (integration) value, error\n",
    "        txn_probabilities[step] = p_txn[0]\n",
    "        if DEBUG:\n",
    "            print(step, p_txn[0])\n",
    "    # The peak should be at 0, not halfway through)\n",
    "    zeroing_shift = int(np.round(txn_probabilities.shape[0] / 2))\n",
    "    shifted = np.concatenate(\n",
    "            (txn_probabilities[-zeroing_shift:], \n",
    "            txn_probabilities[:-zeroing_shift]))\n",
    "\n",
    "    if False:\n",
    "        # DEBUG: In txn time plot,\n",
    "        # Should see peaks exactly at the means for each type of agent\n",
    "        txn_probabilities[0] = 1 # set p_txn to 1 to always transact\n",
    "        txn_probabilities[1:-1] = 0.01 # or Zero\n",
    "\n",
    "    return shifted "
   ]
  },
  {
   "cell_type": "markdown",
   "metadata": {},
   "source": [
    "# agent"
   ]
  },
  {
   "cell_type": "code",
   "execution_count": null,
   "metadata": {},
   "outputs": [],
   "source": []
  },
  {
   "cell_type": "code",
   "execution_count": 13,
   "metadata": {},
   "outputs": [],
   "source": [
    "class BankAgent(ap.Agent):\n",
    "    def setup(self):\n",
    "        self.type = None \n",
    "        self.pair_amts = None \n",
    "        \n",
    "        # -- param for who to partner \n",
    "        self.pair_probs = None\n",
    "        # -- param for whether to txn \n",
    "        self.mean_txns = 4\n",
    "        self.txn_probabilities = None \n",
    "        self.send_txn_times = []\n",
    "        # -- store info\n",
    "        self.txns = None\n",
    "        self.txns_list = []\n",
    "        # -- parmeters for amt $$$\n",
    "        self.txn_amt_rng = None \n",
    "        self.acct_balance = None \n",
    "        self.txn_amts = None\n",
    "\n",
    "    def setup_txn_amts(self, mean=0, stddev=1, total_steps=0):\n",
    "        self.txn_amts = self.txn_amt_rng.normal(\n",
    "            loc=mean, scale=stddev, \n",
    "            size=total_steps)\n",
    "        self.txn_amts = np.abs(self.txn_amts)\n",
    "\n",
    "    # NOTE: Timesteps start at 1 # TODO: fix bug. where first timestep should be at midnight.\n",
    "    # TODO: fix so stored txn time can be timestep, not timestep-1\n",
    "    # TOOD: issue currently is graph has both midnight 10/31 and midngith 11/1\n",
    "    # TODO: due to resample rounding up or down or something idk\n",
    "    def transact(self, timestep):\n",
    "        # using as index, subtract (timestep starts at 1)\n",
    "        p_txn = self.txn_probabilities[timestep-1] * self.mean_txns\n",
    "\n",
    "        if np.random.random() < p_txn and self.acct_balance > 0:\n",
    "            # using as value, do nothing\n",
    "            self.send_txn_times.append(timestep) \n",
    "            # randomly choose partner (w. probability per parameters)\n",
    "            if np.random.random() < self.pair_probs['self']:\n",
    "                my_partner = self.model.agents.select(\n",
    "                    self.model.agents.type==self.type).random()\n",
    "            else: # TODO: can only accept two agent types at the moment, using !=\n",
    "                my_partner = self.model.agents.select(\n",
    "                    self.model.agents.type!=self.type).random()\n",
    "\n",
    "            my_partner = my_partner.to_list()[0] \n",
    "            # randomly choose amount\n",
    "            # right now, only scaled by sender\n",
    "            # so normal will still send large amount to suspicious\n",
    "            # TODO: vary by receiver also\n",
    "            amount = self.txn_amts[timestep-1] * self.pair_amts#[self.type]\n",
    "\n",
    "            # calculations\n",
    "            my_partner.acct_balance += amount\n",
    "            self.acct_balance -= amount\n",
    "\n",
    "            if DEBUG: # DEBUG\n",
    "                print(\n",
    "                    f' Transaction @ step: {timestep} with ptxn: {p_txn:.2f}, '\n",
    "                    f'${amount:.2f} from: {self.id}->{my_partner.id}, '\n",
    "                    f'({self.type} to {my_partner.type}), new balance: {self.acct_balance:.1f}'\n",
    "                )\n",
    "\n",
    "            # Note that txn_type is redundant info (e.g. can be derived from +/- of amount)\n",
    "            self.txns_list.append([ timestep, 'send', self.id, self.type,\n",
    "                my_partner.id, my_partner.type, -amount, self.acct_balance])\n",
    "            # -- also record in partner's txn table \n",
    "            my_partner.txns_list.append([\n",
    "                timestep, 'receive', self.id, self.type, \n",
    "                    my_partner.id, my_partner.type, amount, my_partner.acct_balance])\n",
    "\n",
    "    def cleanup(self):\n",
    "        self.txns = pd.DataFrame(self.txns_list,\n",
    "            columns=['timestep', 'txn_type', 'sender_id', 'sender_type', \n",
    "            'receiver_id', 'receiver_type', 'amount', 'acct_balance',] )"
   ]
  },
  {
   "cell_type": "markdown",
   "metadata": {},
   "source": [
    "# parameters"
   ]
  },
  {
   "cell_type": "code",
   "execution_count": 14,
   "metadata": {},
   "outputs": [],
   "source": [
    "# -- overall model run parameters\n",
    "NUM_AGENTS_PER_TYPE = {\n",
    "    'normal': 1000,\n",
    "    'suspicious': 10,\n",
    "}\n",
    "# -- other\n",
    "# set up agent type txn\n",
    "#     'network_randomness': 0.5\n",
    "#     'number_of_neighbors': 2,\n",
    "# -- TODO\n",
    "AGENT_TYPE_INIT_NUM_FRIENDS = { # i guess... number of neighbors ... but ... \n",
    "    'normal': '5',\n",
    "    'suspicious': '2'\n",
    "}\n",
    "\n",
    "AGENT_TYPE_MAKE_NEW_FRIENDS = {\n",
    "    'normal': '0.5',\n",
    "    'suspicious': '0.5'\n",
    "}\n",
    "# -- end TODO\n",
    "\n",
    "AGENT_TYPE_PAIR_PROBS = {\n",
    "    # these are send probabilities\n",
    "    'normal': { \n",
    "        'self': 0.9, \n",
    "        'suspicious': 0.1\n",
    "    },\n",
    "    'suspicious': {\n",
    "        'self': 0.7,\n",
    "        'normal': 0.3\n",
    "    }\n",
    "}\n",
    "MEAN_TXN_HRS = {'normal':14, \n",
    "                'suspicious':22}\n",
    "\n",
    "MINS_PER_STEP = 15\n",
    "\n",
    "MEAN_TXN_AMOUNTS = {'normal':250, \n",
    "                'suspicious':50} # this shoudl actually vary...\n",
    "\n",
    "parameters = {\n",
    "    'mean_txn_amounts':MEAN_TXN_AMOUNTS,\n",
    "    'num_agents_per_type': NUM_AGENTS_PER_TYPE,\n",
    "    'agent_type_pair_probs':AGENT_TYPE_PAIR_PROBS,\n",
    "    'mean_txn_hrs': MEAN_TXN_HRS,\n",
    "    'mean_txn_amounts ': MEAN_TXN_AMOUNTS,\n",
    "    'mean_txns': 4, # avg num txns each agent makes\n",
    "    'starting_balance': 100,\n",
    "    'seed': 42,\n",
    "    'mins_per_step' : MINS_PER_STEP, # 1 hr\n",
    "    'steps': int(24 * (60/MINS_PER_STEP)), # 24 hours * steps per hr\n",
    "}\n",
    "\n",
    "# For plotting\n",
    "def timestep_to_time(timestep):\n",
    "    date_and_time = datetime.datetime(2022, 10, 31, 0, 0, 0)\n",
    "    time_elapsed = timestep * (parameters['mins_per_step'])\n",
    "    time_change = datetime.timedelta(minutes=time_elapsed)\n",
    "    new_time = date_and_time + time_change\n",
    "    return new_time"
   ]
  },
  {
   "cell_type": "markdown",
   "metadata": {},
   "source": [
    "# scratch"
   ]
  },
  {
   "cell_type": "markdown",
   "metadata": {},
   "source": [
    "# model"
   ]
  },
  {
   "cell_type": "code",
   "execution_count": 19,
   "metadata": {},
   "outputs": [],
   "source": [
    "class BankModel(ap.Model):\n",
    "    def setup(self):\n",
    "        self.p_txns = setup_p_txns(self.p.steps) \n",
    "        num_agents = sum(self.p.num_agents_per_type.values())\n",
    "        \n",
    "        # Setup up rng to generate seeds for rngs for agents\n",
    "        rng = np.random.default_rng(self.p.seed)\n",
    "        agent_rng_seeds = rng.random(num_agents).round(3) * 1000\n",
    "        agent_rng_seeds = np.array(agent_rng_seeds, dtype=int)\n",
    "\n",
    "        self.agents = ap.AgentList(self) \n",
    "\n",
    "        # -- shift the probabilitiy tables\n",
    "        for type in ['normal', 'suspicious']:\n",
    "            hrs_mean = self.p.mean_txn_hrs[type]\n",
    "            # shift in steps\n",
    "            # originally peak at 0, now peak at (mean time)\n",
    "            shift_amt = hrs_mean * int(60 / self.p.mins_per_step)\n",
    "            shifted = np.concatenate(\n",
    "                (self.p_txns[-shift_amt:], self.p_txns[:-shift_amt]))\n",
    "            agents = ap.AgentList(\n",
    "                self, self.p.num_agents_per_type[type], BankAgent)\n",
    "            pair_probs = self.p.agent_type_pair_probs[type]\n",
    "            pair_amts = self.p.mean_txn_amounts[type]\n",
    "            print(pair_amts)\n",
    "            agents.pair_probs = pair_probs\n",
    "            agents.pair_amts = pair_amts\n",
    "            agents.txn_probabilities = shifted\n",
    "            agents.total_steps = self.p.steps \n",
    "            agents.acct_balance = 100\n",
    "            agents.type = type\n",
    "\n",
    "            self.agents += agents\n",
    "\n",
    "        if DEBUG:\n",
    "            print('here are all the agetns: ')\n",
    "            print(self.agents)\n",
    "            print([(agent.id,agent.type) for agent in self.agents])\n",
    "\n",
    "        # -- calcuations for txn $$$ (each agent gets different seed)\n",
    "        txn_amt_rngs = ap.AttrIter(\n",
    "            [np.random.default_rng(seed) for seed in agent_rng_seeds])\n",
    "        self.agents.txn_amt_rng = txn_amt_rngs\n",
    "\n",
    "        for agent in self.agents:\n",
    "            agent.setup_txn_amts(\n",
    "                mean=20, stddev=5, total_steps=self.p.steps)\n",
    "\n",
    "    def step(self):\n",
    "        self.agents.transact(self.t)\n",
    "\n",
    "    def update(self):\n",
    "        pass\n",
    "        '''\n",
    "        if DEBUG:\n",
    "            total_txns = 0\n",
    "            for agent in self.agents:\n",
    "                num_txns = agent.txns[agent.txns.txn_type == 'send'].shape[0]\n",
    "                total_txns += num_txns\n",
    "            print('num txns (across all agents)', total_txns)\n",
    "        '''\n",
    "\n",
    "    def end(self):\n",
    "        # i think this includes the final timestep t = 96 as entire column\n",
    "        self.agents.record('send_txn_times')\n",
    "        \n",
    "        # export data\n",
    "        for agent in self.agents:\n",
    "            agent.cleanup()"
   ]
  },
  {
   "cell_type": "markdown",
   "metadata": {},
   "source": [
    "# scratch"
   ]
  },
  {
   "cell_type": "code",
   "execution_count": 20,
   "metadata": {},
   "outputs": [
    {
     "name": "stdout",
     "output_type": "stream",
     "text": [
      "1 None\n",
      "2 test\n",
      "3 test\n",
      "4 None\n",
      "5 None\n",
      "6 test\n",
      "7 test\n",
      "8 None\n",
      "9 test\n",
      "10 None\n"
     ]
    },
    {
     "data": {
      "text/plain": [
       "[9]"
      ]
     },
     "execution_count": 20,
     "metadata": {},
     "output_type": "execute_result"
    }
   ],
   "source": [
    "# https://github.com/JoelForamitti/agentpy/blob/master/tests/test_sequences.py\n",
    "tmp_model = BankModel()\n",
    "agents = ap.AgentList(tmp_model, 10, BankAgent)\n",
    "agents.random(5).type = 'test'\n",
    "agents.id\n",
    "for agent in agents:\n",
    "    print(agent.id, agent.type)\n",
    "agents.select(agents.type=='test').random().id"
   ]
  },
  {
   "cell_type": "code",
   "execution_count": 21,
   "metadata": {},
   "outputs": [
    {
     "data": {
      "text/plain": [
       "0.30471707975443135"
      ]
     },
     "execution_count": 21,
     "metadata": {},
     "output_type": "execute_result"
    }
   ],
   "source": [
    "np.random.default_rng(42).normal()"
   ]
  },
  {
   "cell_type": "markdown",
   "metadata": {},
   "source": [
    "# run"
   ]
  },
  {
   "cell_type": "code",
   "execution_count": 22,
   "metadata": {},
   "outputs": [
    {
     "name": "stdout",
     "output_type": "stream",
     "text": [
      "250\n",
      "50\n",
      "Completed: 96 steps\n",
      "Run time: 0:00:00.571445\n",
      "Simulation finished\n"
     ]
    }
   ],
   "source": [
    "model = BankModel(parameters)\n",
    "results = model.run()"
   ]
  },
  {
   "cell_type": "markdown",
   "metadata": {},
   "source": [
    "# Plot"
   ]
  },
  {
   "cell_type": "code",
   "execution_count": 23,
   "metadata": {},
   "outputs": [],
   "source": [
    "# For plotting\n",
    "def timestep_to_time(timestep):\n",
    "    date_and_time = datetime.datetime(2022, 10, 31, 0, 0, 0)\n",
    "    time_elapsed = timestep * (parameters['mins_per_step'])\n",
    "    time_change = datetime.timedelta(minutes=time_elapsed)\n",
    "    new_time = date_and_time + time_change\n",
    "    return new_time"
   ]
  },
  {
   "cell_type": "code",
   "execution_count": 24,
   "metadata": {},
   "outputs": [
    {
     "data": {
      "text/html": [
       "<div>\n",
       "<style scoped>\n",
       "    .dataframe tbody tr th:only-of-type {\n",
       "        vertical-align: middle;\n",
       "    }\n",
       "\n",
       "    .dataframe tbody tr th {\n",
       "        vertical-align: top;\n",
       "    }\n",
       "\n",
       "    .dataframe thead th {\n",
       "        text-align: right;\n",
       "    }\n",
       "</style>\n",
       "<table border=\"1\" class=\"dataframe\">\n",
       "  <thead>\n",
       "    <tr style=\"text-align: right;\">\n",
       "      <th></th>\n",
       "      <th>timestep</th>\n",
       "      <th>txn_type</th>\n",
       "      <th>sender_id</th>\n",
       "      <th>sender_type</th>\n",
       "      <th>receiver_id</th>\n",
       "      <th>receiver_type</th>\n",
       "      <th>amount</th>\n",
       "      <th>acct_balance</th>\n",
       "    </tr>\n",
       "  </thead>\n",
       "  <tbody>\n",
       "    <tr>\n",
       "      <th>0</th>\n",
       "      <td>41</td>\n",
       "      <td>receive</td>\n",
       "      <td>906</td>\n",
       "      <td>normal</td>\n",
       "      <td>1</td>\n",
       "      <td>normal</td>\n",
       "      <td>2383.974157</td>\n",
       "      <td>2483.974157</td>\n",
       "    </tr>\n",
       "    <tr>\n",
       "      <th>1</th>\n",
       "      <td>46</td>\n",
       "      <td>send</td>\n",
       "      <td>1</td>\n",
       "      <td>normal</td>\n",
       "      <td>610</td>\n",
       "      <td>normal</td>\n",
       "      <td>-3070.587223</td>\n",
       "      <td>-586.613066</td>\n",
       "    </tr>\n",
       "    <tr>\n",
       "      <th>2</th>\n",
       "      <td>50</td>\n",
       "      <td>receive</td>\n",
       "      <td>549</td>\n",
       "      <td>normal</td>\n",
       "      <td>1</td>\n",
       "      <td>normal</td>\n",
       "      <td>3287.172452</td>\n",
       "      <td>2700.559385</td>\n",
       "    </tr>\n",
       "    <tr>\n",
       "      <th>3</th>\n",
       "      <td>60</td>\n",
       "      <td>send</td>\n",
       "      <td>1</td>\n",
       "      <td>normal</td>\n",
       "      <td>296</td>\n",
       "      <td>normal</td>\n",
       "      <td>-3289.004387</td>\n",
       "      <td>-588.445002</td>\n",
       "    </tr>\n",
       "  </tbody>\n",
       "</table>\n",
       "</div>"
      ],
      "text/plain": [
       "   timestep txn_type  sender_id sender_type  receiver_id receiver_type  \\\n",
       "0        41  receive        906      normal            1        normal   \n",
       "1        46     send          1      normal          610        normal   \n",
       "2        50  receive        549      normal            1        normal   \n",
       "3        60     send          1      normal          296        normal   \n",
       "\n",
       "        amount  acct_balance  \n",
       "0  2383.974157   2483.974157  \n",
       "1 -3070.587223   -586.613066  \n",
       "2  3287.172452   2700.559385  \n",
       "3 -3289.004387   -588.445002  "
      ]
     },
     "metadata": {},
     "output_type": "display_data"
    }
   ],
   "source": [
    "if DEBUG:\n",
    "    for agent in model.agents:\n",
    "        print(agent.txns)\n",
    "display(model.agents[0].txns)"
   ]
  },
  {
   "cell_type": "code",
   "execution_count": 25,
   "metadata": {},
   "outputs": [],
   "source": [
    "# transaction amount, sender, receiver, timestamp"
   ]
  },
  {
   "cell_type": "code",
   "execution_count": 26,
   "metadata": {},
   "outputs": [
    {
     "data": {
      "text/plain": [
       "{'model_type': 'BankModel',\n",
       " 'time_stamp': '2022-12-11 14:49:42',\n",
       " 'agentpy_version': '0.1.5',\n",
       " 'python_version': '3.10.',\n",
       " 'experiment': False,\n",
       " 'completed': True,\n",
       " 'created_objects': 1010,\n",
       " 'completed_steps': 96,\n",
       " 'run_time': '0:00:00.571445'}"
      ]
     },
     "execution_count": 26,
     "metadata": {},
     "output_type": "execute_result"
    }
   ],
   "source": [
    "results.info"
   ]
  },
  {
   "cell_type": "code",
   "execution_count": 27,
   "metadata": {},
   "outputs": [],
   "source": [
    "# okay so now i want to... uh... okay histogram plot of when txns are occuring\n",
    "# then i want to ... make a network of who transacted with who"
   ]
  },
  {
   "cell_type": "code",
   "execution_count": 28,
   "metadata": {},
   "outputs": [],
   "source": [
    "if DEBUG:\n",
    "    model.agents.acct_balance"
   ]
  },
  {
   "cell_type": "code",
   "execution_count": 29,
   "metadata": {},
   "outputs": [
    {
     "data": {
      "text/html": [
       "<div>\n",
       "<style scoped>\n",
       "    .dataframe tbody tr th:only-of-type {\n",
       "        vertical-align: middle;\n",
       "    }\n",
       "\n",
       "    .dataframe tbody tr th {\n",
       "        vertical-align: top;\n",
       "    }\n",
       "\n",
       "    .dataframe thead th {\n",
       "        text-align: right;\n",
       "    }\n",
       "</style>\n",
       "<table border=\"1\" class=\"dataframe\">\n",
       "  <thead>\n",
       "    <tr style=\"text-align: right;\">\n",
       "      <th></th>\n",
       "      <th>timestep</th>\n",
       "      <th>txn_type</th>\n",
       "      <th>sender_id</th>\n",
       "      <th>sender_type</th>\n",
       "      <th>receiver_id</th>\n",
       "      <th>receiver_type</th>\n",
       "      <th>amount</th>\n",
       "      <th>acct_balance</th>\n",
       "    </tr>\n",
       "  </thead>\n",
       "  <tbody>\n",
       "    <tr>\n",
       "      <th>0</th>\n",
       "      <td>41</td>\n",
       "      <td>receive</td>\n",
       "      <td>906</td>\n",
       "      <td>normal</td>\n",
       "      <td>1</td>\n",
       "      <td>normal</td>\n",
       "      <td>2383.974157</td>\n",
       "      <td>2483.974157</td>\n",
       "    </tr>\n",
       "    <tr>\n",
       "      <th>1</th>\n",
       "      <td>46</td>\n",
       "      <td>send</td>\n",
       "      <td>1</td>\n",
       "      <td>normal</td>\n",
       "      <td>610</td>\n",
       "      <td>normal</td>\n",
       "      <td>-3070.587223</td>\n",
       "      <td>-586.613066</td>\n",
       "    </tr>\n",
       "    <tr>\n",
       "      <th>2</th>\n",
       "      <td>50</td>\n",
       "      <td>receive</td>\n",
       "      <td>549</td>\n",
       "      <td>normal</td>\n",
       "      <td>1</td>\n",
       "      <td>normal</td>\n",
       "      <td>3287.172452</td>\n",
       "      <td>2700.559385</td>\n",
       "    </tr>\n",
       "    <tr>\n",
       "      <th>3</th>\n",
       "      <td>60</td>\n",
       "      <td>send</td>\n",
       "      <td>1</td>\n",
       "      <td>normal</td>\n",
       "      <td>296</td>\n",
       "      <td>normal</td>\n",
       "      <td>-3289.004387</td>\n",
       "      <td>-588.445002</td>\n",
       "    </tr>\n",
       "  </tbody>\n",
       "</table>\n",
       "</div>"
      ],
      "text/plain": [
       "   timestep txn_type  sender_id sender_type  receiver_id receiver_type  \\\n",
       "0        41  receive        906      normal            1        normal   \n",
       "1        46     send          1      normal          610        normal   \n",
       "2        50  receive        549      normal            1        normal   \n",
       "3        60     send          1      normal          296        normal   \n",
       "\n",
       "        amount  acct_balance  \n",
       "0  2383.974157   2483.974157  \n",
       "1 -3070.587223   -586.613066  \n",
       "2  3287.172452   2700.559385  \n",
       "3 -3289.004387   -588.445002  "
      ]
     },
     "execution_count": 29,
     "metadata": {},
     "output_type": "execute_result"
    }
   ],
   "source": [
    "#sns.histplot(model.agents.acct_balance)\n",
    "model.agents[0].txns#.where('txn_type\n",
    "#model.agents.txns.shape\n",
    "#model.agents.txns[1]"
   ]
  },
  {
   "cell_type": "code",
   "execution_count": 30,
   "metadata": {},
   "outputs": [
    {
     "data": {
      "text/html": [
       "<div>\n",
       "<style scoped>\n",
       "    .dataframe tbody tr th:only-of-type {\n",
       "        vertical-align: middle;\n",
       "    }\n",
       "\n",
       "    .dataframe tbody tr th {\n",
       "        vertical-align: top;\n",
       "    }\n",
       "\n",
       "    .dataframe thead th {\n",
       "        text-align: right;\n",
       "    }\n",
       "</style>\n",
       "<table border=\"1\" class=\"dataframe\">\n",
       "  <thead>\n",
       "    <tr style=\"text-align: right;\">\n",
       "      <th></th>\n",
       "      <th>send_txn_times</th>\n",
       "    </tr>\n",
       "  </thead>\n",
       "  <tbody>\n",
       "    <tr>\n",
       "      <th>1813</th>\n",
       "      <td>2022-10-31 00:30:00</td>\n",
       "    </tr>\n",
       "    <tr>\n",
       "      <th>1823</th>\n",
       "      <td>2022-10-31 00:45:00</td>\n",
       "    </tr>\n",
       "    <tr>\n",
       "      <th>1800</th>\n",
       "      <td>2022-10-31 01:00:00</td>\n",
       "    </tr>\n",
       "    <tr>\n",
       "      <th>1828</th>\n",
       "      <td>2022-10-31 01:45:00</td>\n",
       "    </tr>\n",
       "    <tr>\n",
       "      <th>1825</th>\n",
       "      <td>2022-10-31 03:30:00</td>\n",
       "    </tr>\n",
       "    <tr>\n",
       "      <th>...</th>\n",
       "      <td>...</td>\n",
       "    </tr>\n",
       "    <tr>\n",
       "      <th>1801</th>\n",
       "      <td>2022-10-31 22:30:00</td>\n",
       "    </tr>\n",
       "    <tr>\n",
       "      <th>1812</th>\n",
       "      <td>2022-10-31 22:45:00</td>\n",
       "    </tr>\n",
       "    <tr>\n",
       "      <th>1807</th>\n",
       "      <td>2022-10-31 23:15:00</td>\n",
       "    </tr>\n",
       "    <tr>\n",
       "      <th>1827</th>\n",
       "      <td>2022-10-31 23:15:00</td>\n",
       "    </tr>\n",
       "    <tr>\n",
       "      <th>1818</th>\n",
       "      <td>2022-10-31 23:30:00</td>\n",
       "    </tr>\n",
       "  </tbody>\n",
       "</table>\n",
       "<p>1830 rows × 1 columns</p>\n",
       "</div>"
      ],
      "text/plain": [
       "          send_txn_times\n",
       "1813 2022-10-31 00:30:00\n",
       "1823 2022-10-31 00:45:00\n",
       "1800 2022-10-31 01:00:00\n",
       "1828 2022-10-31 01:45:00\n",
       "1825 2022-10-31 03:30:00\n",
       "...                  ...\n",
       "1801 2022-10-31 22:30:00\n",
       "1812 2022-10-31 22:45:00\n",
       "1807 2022-10-31 23:15:00\n",
       "1827 2022-10-31 23:15:00\n",
       "1818 2022-10-31 23:30:00\n",
       "\n",
       "[1830 rows x 1 columns]"
      ]
     },
     "execution_count": 30,
     "metadata": {},
     "output_type": "execute_result"
    }
   ],
   "source": [
    "all_txns = []\n",
    "for agent in model.agents:\n",
    "    #print(agent.id, 'with txns at timesteps: ',  agent.send_txn_times)\n",
    "    #print('aka times: ') \n",
    "\n",
    "    for timestamp in agent.send_txn_times:\n",
    "        #print( timestep_to_time(timestamp).strftime('%H:%M'))\n",
    "        all_txns.append(timestep_to_time(timestamp))\n",
    "    #print('the partners were: ', agent.txns[agent.txns.txn_type =='send'].receiver_id)\n",
    "all_txns = pd.DataFrame( all_txns, columns=['send_txn_times' ])\n",
    "all_txns.sort_values(by='send_txn_times')"
   ]
  },
  {
   "cell_type": "code",
   "execution_count": 31,
   "metadata": {},
   "outputs": [],
   "source": [
    "if DEBUG:\n",
    "    with np.printoptions(precision=3, suppress=True):\n",
    "        display(model.agents[0].txn_probabilities)"
   ]
  },
  {
   "cell_type": "code",
   "execution_count": 32,
   "metadata": {},
   "outputs": [],
   "source": [
    "all_txns.index = all_txns.send_txn_times\n",
    "resampled = all_txns.send_txn_times.resample('15Min')#.count().plot()\n",
    "#resampled = all_txns.send_txn_times.resample('1H')#.count().plot()\n",
    "resampled.count()\n",
    "df = pd.DataFrame(resampled.count())\n",
    "df.columns=['num_txns']\n",
    "df['labels'] = pd.to_datetime(df.index).strftime('%H:%M')"
   ]
  },
  {
   "cell_type": "code",
   "execution_count": 33,
   "metadata": {},
   "outputs": [
    {
     "data": {
      "image/png": "[encoded data removed]",
      "text/plain": [
       "<Figure size 1080x576 with 1 Axes>"
      ]
     },
     "metadata": {
      "needs_background": "light"
     },
     "output_type": "display_data"
    }
   ],
   "source": [
    "fig, ax = plt.subplots(figsize=(15,8))\n",
    "sns.lineplot(x='send_txn_times', y='num_txns', data=df, ax=ax,\n",
    "    markers=True,  marker='o')\n",
    "\n",
    "# -- \n",
    "# format\n",
    "sns.set_style('whitegrid')\n",
    "sns.set_context('poster')\n",
    "\n",
    "ax.set(xlabel='Time (24 Hour)', ylabel='# of Transactions',\n",
    "# add title \n",
    "title=r\"$\\bf{Simulated\\ Transactions\\ by\\ Time–of–Day}$\" \n",
    "    f\"\\n# Accounts, Normal: {parameters['num_agents_per_type']['normal']}, \"\n",
    "    f\"Suspicious: {parameters['num_agents_per_type']['suspicious']}\\n\"\n",
    "    f\"Mean txn time, Normal: {parameters['mean_txn_hrs']['normal']}:00,\"\n",
    "    f\" Suspicious: {parameters['mean_txn_hrs']['suspicious']}:00\"\n",
    "    )\n",
    "\n",
    "# \n",
    "ax.xaxis.set_major_locator(mdates.HourLocator(interval=2))\n",
    "ax.xaxis.set_minor_locator(mdates.HourLocator(interval=1))\n",
    "ax.xaxis.set_major_formatter(DateFormatter(\"%H:%M\"))"
   ]
  },
  {
   "cell_type": "markdown",
   "metadata": {},
   "source": [
    "# calculate node and edge list"
   ]
  },
  {
   "cell_type": "code",
   "execution_count": null,
   "metadata": {},
   "outputs": [
    {
     "data": {
      "text/html": [
       "<div>\n",
       "<style scoped>\n",
       "    .dataframe tbody tr th:only-of-type {\n",
       "        vertical-align: middle;\n",
       "    }\n",
       "\n",
       "    .dataframe tbody tr th {\n",
       "        vertical-align: top;\n",
       "    }\n",
       "\n",
       "    .dataframe thead th {\n",
       "        text-align: right;\n",
       "    }\n",
       "</style>\n",
       "<table border=\"1\" class=\"dataframe\">\n",
       "  <thead>\n",
       "    <tr style=\"text-align: right;\">\n",
       "      <th></th>\n",
       "      <th></th>\n",
       "      <th>send_txn_times</th>\n",
       "    </tr>\n",
       "    <tr>\n",
       "      <th>obj_id</th>\n",
       "      <th>t</th>\n",
       "      <th></th>\n",
       "    </tr>\n",
       "  </thead>\n",
       "  <tbody>\n",
       "    <tr>\n",
       "      <th>1001</th>\n",
       "      <th>96</th>\n",
       "      <td>[65, 79, 92]</td>\n",
       "    </tr>\n",
       "    <tr>\n",
       "      <th>1002</th>\n",
       "      <th>96</th>\n",
       "      <td>[76, 86, 91]</td>\n",
       "    </tr>\n",
       "    <tr>\n",
       "      <th>1003</th>\n",
       "      <th>96</th>\n",
       "      <td>[4, 74, 77, 88, 90, 94]</td>\n",
       "    </tr>\n",
       "    <tr>\n",
       "      <th>1004</th>\n",
       "      <th>96</th>\n",
       "      <td>[]</td>\n",
       "    </tr>\n",
       "    <tr>\n",
       "      <th>1005</th>\n",
       "      <th>96</th>\n",
       "      <td>[11, 67, 77, 83]</td>\n",
       "    </tr>\n",
       "    <tr>\n",
       "      <th>1006</th>\n",
       "      <th>96</th>\n",
       "      <td>[1, 89, 91]</td>\n",
       "    </tr>\n",
       "    <tr>\n",
       "      <th>1007</th>\n",
       "      <th>96</th>\n",
       "      <td>[3, 89, 90, 95, 96]</td>\n",
       "    </tr>\n",
       "    <tr>\n",
       "      <th>1008</th>\n",
       "      <th>96</th>\n",
       "      <td>[66, 76]</td>\n",
       "    </tr>\n",
       "    <tr>\n",
       "      <th>1009</th>\n",
       "      <th>96</th>\n",
       "      <td>[4, 75, 79, 83]</td>\n",
       "    </tr>\n",
       "    <tr>\n",
       "      <th>1010</th>\n",
       "      <th>96</th>\n",
       "      <td>[91]</td>\n",
       "    </tr>\n",
       "  </tbody>\n",
       "</table>\n",
       "</div>"
      ],
      "text/plain": [
       "                    send_txn_times\n",
       "obj_id t                          \n",
       "1001   96             [65, 79, 92]\n",
       "1002   96             [76, 86, 91]\n",
       "1003   96  [4, 74, 77, 88, 90, 94]\n",
       "1004   96                       []\n",
       "1005   96         [11, 67, 77, 83]\n",
       "1006   96              [1, 89, 91]\n",
       "1007   96      [3, 89, 90, 95, 96]\n",
       "1008   96                 [66, 76]\n",
       "1009   96          [4, 75, 79, 83]\n",
       "1010   96                     [91]"
      ]
     },
     "execution_count": 20,
     "metadata": {},
     "output_type": "execute_result"
    }
   ],
   "source": [
    "results.variables['suspicious']"
   ]
  },
  {
   "cell_type": "code",
   "execution_count": null,
   "metadata": {},
   "outputs": [],
   "source": [
    "all_txns_2 = [] \n",
    "for agent in model.agents:\n",
    "    sends = agent.txns[agent.txns['txn_type'] == 'send']\n",
    "    all_txns_2.append(sends)\n",
    "\n",
    "all_txns_2[0]\n",
    "df_2 = pd.concat(all_txns_2)\n",
    "edges_list = df_2[['sender_id', 'receiver_id']].to_numpy()"
   ]
  },
  {
   "cell_type": "code",
   "execution_count": null,
   "metadata": {},
   "outputs": [],
   "source": [
    "#G=nx.Graph()\n",
    "G=nx.DiGraph()\n",
    "G.add_edges_from(edges_list)"
   ]
  },
  {
   "cell_type": "code",
   "execution_count": null,
   "metadata": {},
   "outputs": [
    {
     "data": {
      "text/plain": [
       "3943"
      ]
     },
     "execution_count": 23,
     "metadata": {},
     "output_type": "execute_result"
    }
   ],
   "source": [
    "G.number_of_nodes()\n",
    "G.number_of_edges()"
   ]
  },
  {
   "cell_type": "code",
   "execution_count": null,
   "metadata": {},
   "outputs": [
    {
     "data": {
      "text/plain": [
       "'normal'"
      ]
     },
     "execution_count": 24,
     "metadata": {},
     "output_type": "execute_result"
    }
   ],
   "source": [
    "model.agents[0].type"
   ]
  },
  {
   "cell_type": "code",
   "execution_count": null,
   "metadata": {},
   "outputs": [
    {
     "data": {
      "text/html": [
       "<div>\n",
       "<style scoped>\n",
       "    .dataframe tbody tr th:only-of-type {\n",
       "        vertical-align: middle;\n",
       "    }\n",
       "\n",
       "    .dataframe tbody tr th {\n",
       "        vertical-align: top;\n",
       "    }\n",
       "\n",
       "    .dataframe thead th {\n",
       "        text-align: right;\n",
       "    }\n",
       "</style>\n",
       "<table border=\"1\" class=\"dataframe\">\n",
       "  <thead>\n",
       "    <tr style=\"text-align: right;\">\n",
       "      <th></th>\n",
       "      <th>timestep</th>\n",
       "      <th>txn_type</th>\n",
       "      <th>sender_id</th>\n",
       "      <th>sender_type</th>\n",
       "      <th>receiver_id</th>\n",
       "      <th>receiver_type</th>\n",
       "      <th>amount</th>\n",
       "      <th>acct_balance</th>\n",
       "    </tr>\n",
       "  </thead>\n",
       "  <tbody>\n",
       "    <tr>\n",
       "      <th>0</th>\n",
       "      <td>38</td>\n",
       "      <td>send</td>\n",
       "      <td>1</td>\n",
       "      <td>normal</td>\n",
       "      <td>664</td>\n",
       "      <td>normal</td>\n",
       "      <td>-21.101671</td>\n",
       "      <td>78.898329</td>\n",
       "    </tr>\n",
       "    <tr>\n",
       "      <th>3</th>\n",
       "      <td>68</td>\n",
       "      <td>send</td>\n",
       "      <td>1</td>\n",
       "      <td>normal</td>\n",
       "      <td>477</td>\n",
       "      <td>normal</td>\n",
       "      <td>-20.615814</td>\n",
       "      <td>90.357551</td>\n",
       "    </tr>\n",
       "    <tr>\n",
       "      <th>4</th>\n",
       "      <td>69</td>\n",
       "      <td>send</td>\n",
       "      <td>1</td>\n",
       "      <td>normal</td>\n",
       "      <td>60</td>\n",
       "      <td>normal</td>\n",
       "      <td>-19.045538</td>\n",
       "      <td>71.312012</td>\n",
       "    </tr>\n",
       "    <tr>\n",
       "      <th>0</th>\n",
       "      <td>46</td>\n",
       "      <td>send</td>\n",
       "      <td>2</td>\n",
       "      <td>normal</td>\n",
       "      <td>930</td>\n",
       "      <td>normal</td>\n",
       "      <td>-15.709433</td>\n",
       "      <td>84.290567</td>\n",
       "    </tr>\n",
       "    <tr>\n",
       "      <th>2</th>\n",
       "      <td>50</td>\n",
       "      <td>send</td>\n",
       "      <td>2</td>\n",
       "      <td>normal</td>\n",
       "      <td>638</td>\n",
       "      <td>normal</td>\n",
       "      <td>-28.146545</td>\n",
       "      <td>76.599534</td>\n",
       "    </tr>\n",
       "    <tr>\n",
       "      <th>...</th>\n",
       "      <td>...</td>\n",
       "      <td>...</td>\n",
       "      <td>...</td>\n",
       "      <td>...</td>\n",
       "      <td>...</td>\n",
       "      <td>...</td>\n",
       "      <td>...</td>\n",
       "      <td>...</td>\n",
       "    </tr>\n",
       "    <tr>\n",
       "      <th>0</th>\n",
       "      <td>4</td>\n",
       "      <td>send</td>\n",
       "      <td>1009</td>\n",
       "      <td>suspicious</td>\n",
       "      <td>143</td>\n",
       "      <td>normal</td>\n",
       "      <td>-19.325030</td>\n",
       "      <td>80.674970</td>\n",
       "    </tr>\n",
       "    <tr>\n",
       "      <th>41</th>\n",
       "      <td>75</td>\n",
       "      <td>send</td>\n",
       "      <td>1009</td>\n",
       "      <td>suspicious</td>\n",
       "      <td>1004</td>\n",
       "      <td>suspicious</td>\n",
       "      <td>-29.573180</td>\n",
       "      <td>874.096768</td>\n",
       "    </tr>\n",
       "    <tr>\n",
       "      <th>43</th>\n",
       "      <td>79</td>\n",
       "      <td>send</td>\n",
       "      <td>1009</td>\n",
       "      <td>suspicious</td>\n",
       "      <td>1001</td>\n",
       "      <td>suspicious</td>\n",
       "      <td>-19.328795</td>\n",
       "      <td>881.302171</td>\n",
       "    </tr>\n",
       "    <tr>\n",
       "      <th>45</th>\n",
       "      <td>83</td>\n",
       "      <td>send</td>\n",
       "      <td>1009</td>\n",
       "      <td>suspicious</td>\n",
       "      <td>1004</td>\n",
       "      <td>suspicious</td>\n",
       "      <td>-19.157436</td>\n",
       "      <td>894.379398</td>\n",
       "    </tr>\n",
       "    <tr>\n",
       "      <th>38</th>\n",
       "      <td>91</td>\n",
       "      <td>send</td>\n",
       "      <td>1010</td>\n",
       "      <td>suspicious</td>\n",
       "      <td>701</td>\n",
       "      <td>normal</td>\n",
       "      <td>-17.092504</td>\n",
       "      <td>824.759165</td>\n",
       "    </tr>\n",
       "  </tbody>\n",
       "</table>\n",
       "<p>3958 rows × 8 columns</p>\n",
       "</div>"
      ],
      "text/plain": [
       "    timestep txn_type  sender_id sender_type  receiver_id receiver_type  \\\n",
       "0         38     send          1      normal          664        normal   \n",
       "3         68     send          1      normal          477        normal   \n",
       "4         69     send          1      normal           60        normal   \n",
       "0         46     send          2      normal          930        normal   \n",
       "2         50     send          2      normal          638        normal   \n",
       "..       ...      ...        ...         ...          ...           ...   \n",
       "0          4     send       1009  suspicious          143        normal   \n",
       "41        75     send       1009  suspicious         1004    suspicious   \n",
       "43        79     send       1009  suspicious         1001    suspicious   \n",
       "45        83     send       1009  suspicious         1004    suspicious   \n",
       "38        91     send       1010  suspicious          701        normal   \n",
       "\n",
       "       amount  acct_balance  \n",
       "0  -21.101671     78.898329  \n",
       "3  -20.615814     90.357551  \n",
       "4  -19.045538     71.312012  \n",
       "0  -15.709433     84.290567  \n",
       "2  -28.146545     76.599534  \n",
       "..        ...           ...  \n",
       "0  -19.325030     80.674970  \n",
       "41 -29.573180    874.096768  \n",
       "43 -19.328795    881.302171  \n",
       "45 -19.157436    894.379398  \n",
       "38 -17.092504    824.759165  \n",
       "\n",
       "[3958 rows x 8 columns]"
      ]
     },
     "execution_count": 25,
     "metadata": {},
     "output_type": "execute_result"
    }
   ],
   "source": [
    "df_2 # all transcations with amts etc. "
   ]
  },
  {
   "cell_type": "code",
   "execution_count": null,
   "metadata": {},
   "outputs": [],
   "source": [
    "# -- give up\n",
    "#counts = df_2[df_2.sender_type =='normal'][['receiver_type', 'sender_id']]\n",
    "#counts = counts.groupby('sender_id').value_counts()\n",
    "#counts = counts.reset_index()\n",
    "#counts.rename(columns={0:'value_count'})\n",
    "#df_2[df_2.sender_type =='normal'][['receiver_type', 'sender_id']].pivot('' , values=counts)\n",
    "#df_2[df_2.sender_type =='suspicious'][['receiver_type', 'sender_id']].groupby('sender_id').value_counts()\n",
    "#df_2[df_2.sender_type =='suspicious'][['receiver_type', 'sender_id']].groupby('sender_id').value_counts()\n"
   ]
  },
  {
   "cell_type": "code",
   "execution_count": null,
   "metadata": {},
   "outputs": [
    {
     "data": {
      "text/plain": [
       "array(['normal', 'suspicious'], dtype=object)"
      ]
     },
     "metadata": {},
     "output_type": "display_data"
    },
    {
     "data": {
      "text/plain": [
       "array(['normal', 'suspicious'], dtype=object)"
      ]
     },
     "metadata": {},
     "output_type": "display_data"
    }
   ],
   "source": [
    "counts = df_2[['sender_type', 'receiver_type', 'sender_id']]\n",
    "counts = counts.groupby('sender_id').value_counts()\n",
    "counts = counts.reset_index()\n",
    "counts = counts.rename(columns={0:'value_count'})\n",
    "display(counts.sender_type.unique())\n",
    "display(counts.receiver_type.unique())"
   ]
  },
  {
   "cell_type": "code",
   "execution_count": null,
   "metadata": {},
   "outputs": [
    {
     "data": {
      "text/plain": [
       "sender_id      167876.0\n",
       "value_count       989.5\n",
       "dtype: float64"
      ]
     },
     "execution_count": 28,
     "metadata": {},
     "output_type": "execute_result"
    }
   ],
   "source": [
    "counts.groupby(['sender_type', 'receiver_type']).sum().apply(np.average)"
   ]
  },
  {
   "cell_type": "code",
   "execution_count": null,
   "metadata": {},
   "outputs": [
    {
     "data": {
      "text/html": [
       "<div>\n",
       "<style scoped>\n",
       "    .dataframe tbody tr th:only-of-type {\n",
       "        vertical-align: middle;\n",
       "    }\n",
       "\n",
       "    .dataframe tbody tr th {\n",
       "        vertical-align: top;\n",
       "    }\n",
       "\n",
       "    .dataframe thead th {\n",
       "        text-align: right;\n",
       "    }\n",
       "</style>\n",
       "<table border=\"1\" class=\"dataframe\">\n",
       "  <thead>\n",
       "    <tr style=\"text-align: right;\">\n",
       "      <th></th>\n",
       "      <th>sender_id</th>\n",
       "      <th>sender_type</th>\n",
       "      <th>receiver_type</th>\n",
       "      <th>value_count</th>\n",
       "    </tr>\n",
       "  </thead>\n",
       "  <tbody>\n",
       "    <tr>\n",
       "      <th>0</th>\n",
       "      <td>1</td>\n",
       "      <td>normal</td>\n",
       "      <td>normal</td>\n",
       "      <td>3</td>\n",
       "    </tr>\n",
       "    <tr>\n",
       "      <th>1</th>\n",
       "      <td>2</td>\n",
       "      <td>normal</td>\n",
       "      <td>normal</td>\n",
       "      <td>5</td>\n",
       "    </tr>\n",
       "    <tr>\n",
       "      <th>2</th>\n",
       "      <td>3</td>\n",
       "      <td>normal</td>\n",
       "      <td>suspicious</td>\n",
       "      <td>3</td>\n",
       "    </tr>\n",
       "    <tr>\n",
       "      <th>3</th>\n",
       "      <td>3</td>\n",
       "      <td>normal</td>\n",
       "      <td>normal</td>\n",
       "      <td>2</td>\n",
       "    </tr>\n",
       "    <tr>\n",
       "      <th>4</th>\n",
       "      <td>4</td>\n",
       "      <td>normal</td>\n",
       "      <td>normal</td>\n",
       "      <td>5</td>\n",
       "    </tr>\n",
       "    <tr>\n",
       "      <th>...</th>\n",
       "      <td>...</td>\n",
       "      <td>...</td>\n",
       "      <td>...</td>\n",
       "      <td>...</td>\n",
       "    </tr>\n",
       "    <tr>\n",
       "      <th>1307</th>\n",
       "      <td>1008</td>\n",
       "      <td>suspicious</td>\n",
       "      <td>normal</td>\n",
       "      <td>1</td>\n",
       "    </tr>\n",
       "    <tr>\n",
       "      <th>1308</th>\n",
       "      <td>1008</td>\n",
       "      <td>suspicious</td>\n",
       "      <td>suspicious</td>\n",
       "      <td>1</td>\n",
       "    </tr>\n",
       "    <tr>\n",
       "      <th>1309</th>\n",
       "      <td>1009</td>\n",
       "      <td>suspicious</td>\n",
       "      <td>suspicious</td>\n",
       "      <td>3</td>\n",
       "    </tr>\n",
       "    <tr>\n",
       "      <th>1310</th>\n",
       "      <td>1009</td>\n",
       "      <td>suspicious</td>\n",
       "      <td>normal</td>\n",
       "      <td>1</td>\n",
       "    </tr>\n",
       "    <tr>\n",
       "      <th>1311</th>\n",
       "      <td>1010</td>\n",
       "      <td>suspicious</td>\n",
       "      <td>normal</td>\n",
       "      <td>1</td>\n",
       "    </tr>\n",
       "  </tbody>\n",
       "</table>\n",
       "<p>1312 rows × 4 columns</p>\n",
       "</div>"
      ],
      "text/plain": [
       "      sender_id sender_type receiver_type  value_count\n",
       "0             1      normal        normal            3\n",
       "1             2      normal        normal            5\n",
       "2             3      normal    suspicious            3\n",
       "3             3      normal        normal            2\n",
       "4             4      normal        normal            5\n",
       "...         ...         ...           ...          ...\n",
       "1307       1008  suspicious        normal            1\n",
       "1308       1008  suspicious    suspicious            1\n",
       "1309       1009  suspicious    suspicious            3\n",
       "1310       1009  suspicious        normal            1\n",
       "1311       1010  suspicious        normal            1\n",
       "\n",
       "[1312 rows x 4 columns]"
      ]
     },
     "execution_count": 29,
     "metadata": {},
     "output_type": "execute_result"
    }
   ],
   "source": [
    "counts"
   ]
  },
  {
   "cell_type": "markdown",
   "metadata": {},
   "source": [
    "# confirm that pairs parnters are distributed correctly\n",
    "normal-normal should be greater than normal-suspicious, etc."
   ]
  },
  {
   "cell_type": "code",
   "execution_count": null,
   "metadata": {},
   "outputs": [
    {
     "data": {
      "text/html": [
       "<div>\n",
       "<style scoped>\n",
       "    .dataframe tbody tr th:only-of-type {\n",
       "        vertical-align: middle;\n",
       "    }\n",
       "\n",
       "    .dataframe tbody tr th {\n",
       "        vertical-align: top;\n",
       "    }\n",
       "\n",
       "    .dataframe thead th {\n",
       "        text-align: right;\n",
       "    }\n",
       "</style>\n",
       "<table border=\"1\" class=\"dataframe\">\n",
       "  <thead>\n",
       "    <tr style=\"text-align: right;\">\n",
       "      <th></th>\n",
       "      <th>normal</th>\n",
       "      <th>suspicious</th>\n",
       "    </tr>\n",
       "  </thead>\n",
       "  <tbody>\n",
       "    <tr>\n",
       "      <th>normal</th>\n",
       "      <td>3.649177</td>\n",
       "      <td>1.222222</td>\n",
       "    </tr>\n",
       "    <tr>\n",
       "      <th>suspicious</th>\n",
       "      <td>1.176471</td>\n",
       "      <td>2.500000</td>\n",
       "    </tr>\n",
       "  </tbody>\n",
       "</table>\n",
       "</div>"
      ],
      "text/plain": [
       "              normal  suspicious\n",
       "normal      3.649177    1.222222\n",
       "suspicious  1.176471    2.500000"
      ]
     },
     "execution_count": 30,
     "metadata": {},
     "output_type": "execute_result"
    }
   ],
   "source": [
    "avgs = {}\n",
    "pair_cts = {}\n",
    "for s_type in counts.sender_type.unique():\n",
    "    pair_cts[s_type] = {}\n",
    "    for r_type in counts.receiver_type.unique():\n",
    "        tmp = counts[(counts.sender_type == s_type) & (counts.receiver_type == r_type)]\n",
    "        pair_cts[s_type][r_type] = np.average(tmp['value_count'])\n",
    "pair_cts = pd.DataFrame(pair_cts)\n",
    "pair_cts\n",
    "#pairs = zip(counts.sender_type.unique(), counts.receiver_type.unique())\n",
    "#list(pairs)\n",
    "# pairs: for normal senders: what are avg # reciever, avg # suspicious \n",
    "\n"
   ]
  },
  {
   "cell_type": "code",
   "execution_count": null,
   "metadata": {},
   "outputs": [],
   "source": []
  },
  {
   "cell_type": "code",
   "execution_count": null,
   "metadata": {},
   "outputs": [],
   "source": [
    "df_2['timestep_to_time'] = df_2['timestep'].apply(timestep_to_time)\n",
    "# for classiifcation, I want: timestamp, sender, reciver, sendertype, amount\n",
    "# would be useful: if avg account balance is small overall / kept near zero"
   ]
  },
  {
   "cell_type": "markdown",
   "metadata": {},
   "source": [
    "# export tabular data"
   ]
  },
  {
   "cell_type": "code",
   "execution_count": null,
   "metadata": {},
   "outputs": [],
   "source": [
    "# timestep is particular to this run, todo: refactor it out (need for \n",
    "# classification at the moment)\n",
    "tabular_data = df_2[['timestep', 'timestep_to_time', 'sender_id', 'receiver_id', 'sender_type', 'amount'] ]\n",
    "tabular_data.to_csv('txns_list.csv', index=False)\n"
   ]
  },
  {
   "cell_type": "code",
   "execution_count": null,
   "metadata": {},
   "outputs": [],
   "source": [
    "df_2[['sender_id', 'sender_type']].drop_duplicates('sender_id').to_csv('agents_list.csv', index=False)"
   ]
  },
  {
   "cell_type": "markdown",
   "metadata": {},
   "source": [
    "# export network metadata"
   ]
  },
  {
   "cell_type": "code",
   "execution_count": null,
   "metadata": {},
   "outputs": [
    {
     "data": {
      "text/plain": [
       "2"
      ]
     },
     "execution_count": 34,
     "metadata": {},
     "output_type": "execute_result"
    }
   ],
   "source": [
    "G.out_degree[1]\n",
    "G.in_degree[1]"
   ]
  },
  {
   "cell_type": "code",
   "execution_count": null,
   "metadata": {},
   "outputs": [],
   "source": [
    "#display(pd.DataFrame(G.out_degree).head())\n",
    "#display(pd.DataFrame(G.in_degree).head())\n",
    "df_out_deg = pd.DataFrame(G.out_degree(), columns=['node_id', 'out_degree'])\n",
    "df_in_deg = pd.DataFrame(G.in_degree(), columns=['node_id', 'in_degree'])\n",
    "pd.merge(df_in_deg, df_out_deg, on='node_id' ).to_csv(\n",
    "    'tabular_graph_features.csv', index=False)"
   ]
  },
  {
   "cell_type": "code",
   "execution_count": null,
   "metadata": {},
   "outputs": [],
   "source": [
    "# in degrees and out degrees for each node\n",
    "#pd.DataFrame(G.out_degree(), columns=['node_id', 'out_degree']).to_csv(\n",
    "    #'tabular_graph_features.csv', index=False)"
   ]
  },
  {
   "cell_type": "code",
   "execution_count": null,
   "metadata": {},
   "outputs": [],
   "source": [
    "#  json.dump(json_data, outfile)\n",
    "# TypeError: Object of type int64 is not JSON serializable\n",
    "\n",
    "# json does not recognize NumPy data types. Convert the number to a Python int before serializing the object:\n",
    "\n",
    "# https://stackoverflow.com/questions/50916422/python-typeerror-object-of-type-int64-is-not-json-serializable\n",
    "# json.dumps(data, default=str)\n",
    "# Excellent solution. However, one drawback is that numpy arrays are returned without delimiter, e.g. '[0 1 3]'."
   ]
  },
  {
   "cell_type": "markdown",
   "metadata": {},
   "source": [
    "# export networkx graph"
   ]
  },
  {
   "cell_type": "code",
   "execution_count": null,
   "metadata": {},
   "outputs": [
    {
     "name": "stdout",
     "output_type": "stream",
     "text": [
      "<class 'dict'>\n"
     ]
    }
   ],
   "source": [
    "G.out_degree()\n",
    "print(type(nx.cytoscape_data(G)))\n",
    "import json as json\n",
    "\n",
    "json_data = nx.cytoscape_data(G) \n",
    "with open('exported_cytoscape_network.json', 'w', \n",
    "encoding='utf-8') as outfile: \n",
    "    outfile.write(str(json_data))"
   ]
  },
  {
   "cell_type": "code",
   "execution_count": null,
   "metadata": {},
   "outputs": [
    {
     "data": {
      "text/plain": [
       "'normal'"
      ]
     },
     "execution_count": 41,
     "metadata": {},
     "output_type": "execute_result"
    }
   ],
   "source": [
    "G.nodes()[1]['type']"
   ]
  },
  {
   "cell_type": "code",
   "execution_count": null,
   "metadata": {},
   "outputs": [],
   "source": [
    "# https://memgraph.com/memgraph-for-networkx?utm_source=networkx-guide&utm_medium=referral&utm_campaign=networkx_ppp&utm_term=visualization%2Bbasics&utm_content=visualizeiteasy\n",
    "\n",
    "# https://plotly.com/python/network-graphs/\n",
    "# https://stackoverflow.com/questions/72621067/how-to-show-the-result-of-networkx-graph-in-plotly-dash-using-dash-callbacks\n",
    "# https://networkx.org/documentation/networkx-1.10/reference/drawing.html"
   ]
  },
  {
   "cell_type": "code",
   "execution_count": null,
   "metadata": {},
   "outputs": [],
   "source": [
    "G.nodes()\n",
    "[n for n in G.neighbors(1)] # 1 is the node index\n",
    "\n",
    "colors = []\n",
    "for i in range(len(G.nodes())):\n",
    "    acct_type = model.agents[i].type\n",
    "    G.nodes[i+1]['type'] =  model.agents[i].type\n",
    "    if acct_type == 'normal' :\n",
    "        colors.append('white')\n",
    "    else:\n",
    "        colors.append('red')"
   ]
  },
  {
   "cell_type": "code",
   "execution_count": null,
   "metadata": {},
   "outputs": [],
   "source": [
    "edges_list\n",
    "pd.DataFrame(edges_list, \n",
    "    columns=['nx_node_A', 'nx_node_B']).to_csv(\n",
    "        'nx_edges_list.csv', index=False)\n",
    "\n",
    "np.savetxt('nx_edges_list.csv', edges_list)"
   ]
  },
  {
   "cell_type": "code",
   "execution_count": null,
   "metadata": {},
   "outputs": [],
   "source": [
    "# G.nodes['type'] == 'normal'"
   ]
  },
  {
   "cell_type": "code",
   "execution_count": null,
   "metadata": {},
   "outputs": [
    {
     "data": {
      "image/png": "[encoded data removed]",
      "text/plain": [
       "<Figure size 432x288 with 1 Axes>"
      ]
     },
     "metadata": {},
     "output_type": "display_data"
    }
   ],
   "source": [
    "# https://networkx.guide/visualization/basics#layouts\n",
    "#types = [ node[1]['type'] for node in G.nodes(data=True) ]\n",
    "#nx.draw(G, with_labels = True, node_color = colors, \n",
    "#arrows=False)\n",
    "# spiral layout, spring layout are the other options\n",
    "\n",
    "nx.draw(G, with_labels = True, node_color = colors, pos=nx.shell_layout(G))\n",
    "nx.draw(G.nodes['type'] =  model.agents[i].type\n",
    "plt.show()"
   ]
  },
  {
   "cell_type": "code",
   "execution_count": null,
   "metadata": {},
   "outputs": [],
   "source": [
    "#import ipycytoscape\n",
    "#fig = ipycytoscape.CytoscapeWidget()\n",
    "#fig.graph.add_graph_from_networkx(G)\n",
    "#fig\n",
    "# currently takes too long !"
   ]
  },
  {
   "cell_type": "code",
   "execution_count": null,
   "metadata": {},
   "outputs": [],
   "source": [
    "# https://github.com/plotly/dash-cytoscape/issues/23"
   ]
  },
  {
   "cell_type": "code",
   "execution_count": null,
   "metadata": {},
   "outputs": [],
   "source": [
    "#display(cy)"
   ]
  },
  {
   "cell_type": "code",
   "execution_count": null,
   "metadata": {},
   "outputs": [],
   "source": [
    "# https://stackoverflow.com/questions/71428375/dash-cytoscape-from-python-networks-graph-not-honouring-the-nodes-coordinates"
   ]
  },
  {
   "cell_type": "code",
   "execution_count": null,
   "metadata": {},
   "outputs": [],
   "source": []
  }
 ],
 "metadata": {
  "kernelspec": {
   "display_name": "Python 3.10.5 ('v3')",
   "language": "python",
   "name": "python3"
  },
  "language_info": {
   "codemirror_mode": {
    "name": "ipython",
    "version": 3
   },
   "file_extension": ".py",
   "mimetype": "text/x-python",
   "name": "python",
   "nbconvert_exporter": "python",
   "pygments_lexer": "ipython3",
   "version": "3.10.5"
  },
  "orig_nbformat": 4,
  "vscode": {
   "interpreter": {
    "hash": "7605221d54420214921005f3a3f402d7571e3f80342b3638f6ed8edbc81e4638"
   }
  }
 },
 "nbformat": 4,
 "nbformat_minor": 2
}
